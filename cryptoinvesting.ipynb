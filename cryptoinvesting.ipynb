{
  "nbformat": 4,
  "nbformat_minor": 5,
  "metadata": {
    "colab": {
      "name": "cryptoinvesting.ipynb",
      "provenance": [],
      "collapsed_sections": [],
      "include_colab_link": true
    },
    "kernelspec": {
      "display_name": "Python 3",
      "language": "python",
      "name": "python3"
    },
    "language_info": {
      "codemirror_mode": {
        "name": "ipython",
        "version": 3
      },
      "file_extension": ".py",
      "mimetype": "text/x-python",
      "name": "python",
      "nbconvert_exporter": "python",
      "pygments_lexer": "ipython3",
      "version": "3.9.2"
    }
  },
  "cells": [
    {
      "cell_type": "markdown",
      "metadata": {
        "id": "view-in-github",
        "colab_type": "text"
      },
      "source": [
        "<a href=\"https://colab.research.google.com/github/augustmuso/portfolios/blob/main/cryptoinvesting.ipynb\" target=\"_parent\"><img src=\"https://colab.research.google.com/assets/colab-badge.svg\" alt=\"Open In Colab\"/></a>"
      ]
    },
    {
      "cell_type": "code",
      "metadata": {
        "colab": {
          "base_uri": "https://localhost:8080/"
        },
        "id": "scJQcdHrISlL",
        "outputId": "6e147a6d-a6c4-4bb9-8a09-3005fb8094fb"
      },
      "source": [
        "!pip install pyportfolioopt\n",
        "!pip install bta-lib\n",
        "!pip install -U plotly\n",
        "!pip install python-binance==0.7.9\n",
        "!pip install chart_studio\n"
      ],
      "id": "scJQcdHrISlL",
      "execution_count": null,
      "outputs": [
        {
          "output_type": "stream",
          "text": [
            "Collecting pyportfolioopt\n",
            "\u001b[?25l  Downloading https://files.pythonhosted.org/packages/46/55/7d39d78d554ee33a7317e345caf01339da11406c28f18bc48794fe967935/PyPortfolioOpt-1.4.1-py3-none-any.whl (56kB)\n",
            "\u001b[K     |████████████████████████████████| 61kB 3.4MB/s \n",
            "\u001b[?25hRequirement already satisfied: numpy<2.0,>=1.12 in /usr/local/lib/python3.7/dist-packages (from pyportfolioopt) (1.19.5)\n",
            "Requirement already satisfied: pandas>=0.19 in /usr/local/lib/python3.7/dist-packages (from pyportfolioopt) (1.1.5)\n",
            "Requirement already satisfied: scipy<2.0,>=1.3 in /usr/local/lib/python3.7/dist-packages (from pyportfolioopt) (1.4.1)\n",
            "Collecting cvxpy<2.0.0,>=1.1.10\n",
            "\u001b[?25l  Downloading https://files.pythonhosted.org/packages/f0/95/e7eb169a7802fe0c5c50dd7f29c2e9d357b5f29c70adc3f5ca2ab684a04b/cvxpy-1.1.13.tar.gz (1.3MB)\n",
            "\u001b[K     |████████████████████████████████| 1.3MB 8.0MB/s \n",
            "\u001b[?25h  Installing build dependencies ... \u001b[?25l\u001b[?25hdone\n",
            "  Getting requirements to build wheel ... \u001b[?25l\u001b[?25hdone\n",
            "    Preparing wheel metadata ... \u001b[?25l\u001b[?25hdone\n",
            "Requirement already satisfied: python-dateutil>=2.7.3 in /usr/local/lib/python3.7/dist-packages (from pandas>=0.19->pyportfolioopt) (2.8.1)\n",
            "Requirement already satisfied: pytz>=2017.2 in /usr/local/lib/python3.7/dist-packages (from pandas>=0.19->pyportfolioopt) (2018.9)\n",
            "Requirement already satisfied: osqp>=0.4.1 in /usr/local/lib/python3.7/dist-packages (from cvxpy<2.0.0,>=1.1.10->pyportfolioopt) (0.6.2.post0)\n",
            "Requirement already satisfied: ecos>=2 in /usr/local/lib/python3.7/dist-packages (from cvxpy<2.0.0,>=1.1.10->pyportfolioopt) (2.0.7.post1)\n",
            "Requirement already satisfied: scs>=1.1.6 in /usr/local/lib/python3.7/dist-packages (from cvxpy<2.0.0,>=1.1.10->pyportfolioopt) (2.1.3)\n",
            "Requirement already satisfied: six>=1.5 in /usr/local/lib/python3.7/dist-packages (from python-dateutil>=2.7.3->pandas>=0.19->pyportfolioopt) (1.15.0)\n",
            "Requirement already satisfied: qdldl in /usr/local/lib/python3.7/dist-packages (from osqp>=0.4.1->cvxpy<2.0.0,>=1.1.10->pyportfolioopt) (0.1.5.post0)\n",
            "Building wheels for collected packages: cvxpy\n",
            "  Building wheel for cvxpy (PEP 517) ... \u001b[?25l\u001b[?25hdone\n",
            "  Created wheel for cvxpy: filename=cvxpy-1.1.13-cp37-cp37m-linux_x86_64.whl size=2736200 sha256=4a571b284b6964356404d2e610895698f86b4bfe9535800b425fa8f1c7d05ad0\n",
            "  Stored in directory: /root/.cache/pip/wheels/f9/78/00/f29636789ee83434953b5442f16ec3f9834a68e7fd0393c220\n",
            "Successfully built cvxpy\n",
            "Installing collected packages: cvxpy, pyportfolioopt\n",
            "  Found existing installation: cvxpy 1.0.31\n",
            "    Uninstalling cvxpy-1.0.31:\n",
            "      Successfully uninstalled cvxpy-1.0.31\n",
            "Successfully installed cvxpy-1.1.13 pyportfolioopt-1.4.1\n",
            "Collecting bta-lib\n",
            "\u001b[?25l  Downloading https://files.pythonhosted.org/packages/fa/72/7367a8f398f5281538aa14320de927e7838ac4e5dee57ba112ad276f6406/bta_lib-1.0.0-py2.py3-none-any.whl (92kB)\n",
            "\u001b[K     |████████████████████████████████| 102kB 4.0MB/s \n",
            "\u001b[?25hRequirement already satisfied: pandas in /usr/local/lib/python3.7/dist-packages (from bta-lib) (1.1.5)\n",
            "Requirement already satisfied: python-dateutil>=2.7.3 in /usr/local/lib/python3.7/dist-packages (from pandas->bta-lib) (2.8.1)\n",
            "Requirement already satisfied: pytz>=2017.2 in /usr/local/lib/python3.7/dist-packages (from pandas->bta-lib) (2018.9)\n",
            "Requirement already satisfied: numpy>=1.15.4 in /usr/local/lib/python3.7/dist-packages (from pandas->bta-lib) (1.19.5)\n",
            "Requirement already satisfied: six>=1.5 in /usr/local/lib/python3.7/dist-packages (from python-dateutil>=2.7.3->pandas->bta-lib) (1.15.0)\n",
            "Installing collected packages: bta-lib\n",
            "Successfully installed bta-lib-1.0.0\n",
            "Collecting plotly\n",
            "\u001b[?25l  Downloading https://files.pythonhosted.org/packages/1f/f6/bd3c17c8003b6641df1228e80e1acac97ed8402635e46c2571f8e1ef63af/plotly-4.14.3-py2.py3-none-any.whl (13.2MB)\n",
            "\u001b[K     |████████████████████████████████| 13.2MB 320kB/s \n",
            "\u001b[?25hRequirement already satisfied, skipping upgrade: six in /usr/local/lib/python3.7/dist-packages (from plotly) (1.15.0)\n",
            "Requirement already satisfied, skipping upgrade: retrying>=1.3.3 in /usr/local/lib/python3.7/dist-packages (from plotly) (1.3.3)\n",
            "Installing collected packages: plotly\n",
            "  Found existing installation: plotly 4.4.1\n",
            "    Uninstalling plotly-4.4.1:\n",
            "      Successfully uninstalled plotly-4.4.1\n",
            "Successfully installed plotly-4.14.3\n",
            "Collecting python-binance==0.7.9\n",
            "  Downloading https://files.pythonhosted.org/packages/79/8c/d41c21d4815627b12e6afbaddfe0b87f34a4c5a835af17c535ed680828e8/python_binance-0.7.9-py2.py3-none-any.whl\n",
            "Collecting service-identity\n",
            "  Downloading https://files.pythonhosted.org/packages/93/5a/5e93f280ec7be676b5a57f305350f439d31ced168bca04e6ffa64b575664/service_identity-21.1.0-py2.py3-none-any.whl\n",
            "Requirement already satisfied: certifi in /usr/local/lib/python3.7/dist-packages (from python-binance==0.7.9) (2020.12.5)\n",
            "Collecting autobahn\n",
            "\u001b[?25l  Downloading https://files.pythonhosted.org/packages/f0/8b/816e29fdcb249c3ce8e7e4c16f0547b0255c5f4c9a6cb88c2c91b7d8b202/autobahn-21.3.1-py2.py3-none-any.whl (495kB)\n",
            "\u001b[K     |████████████████████████████████| 501kB 9.1MB/s \n",
            "\u001b[?25hCollecting pyOpenSSL\n",
            "\u001b[?25l  Downloading https://files.pythonhosted.org/packages/b2/5e/06351ede29fd4899782ad335c2e02f1f862a887c20a3541f17c3fa1a3525/pyOpenSSL-20.0.1-py2.py3-none-any.whl (54kB)\n",
            "\u001b[K     |████████████████████████████████| 61kB 6.2MB/s \n",
            "\u001b[?25hRequirement already satisfied: urllib3 in /usr/local/lib/python3.7/dist-packages (from python-binance==0.7.9) (1.24.3)\n",
            "Requirement already satisfied: requests in /usr/local/lib/python3.7/dist-packages (from python-binance==0.7.9) (2.23.0)\n",
            "Collecting Twisted\n",
            "\u001b[?25l  Downloading https://files.pythonhosted.org/packages/f2/16/3eb9c66a7bfb5220c7bcbaaac33d359fe8a157b028959cd210983749b2e0/Twisted-21.2.0-py3-none-any.whl (3.1MB)\n",
            "\u001b[K     |████████████████████████████████| 3.1MB 25.7MB/s \n",
            "\u001b[?25hCollecting dateparser\n",
            "\u001b[?25l  Downloading https://files.pythonhosted.org/packages/78/c4/b5ddc3eeac974d85055d88c1e6b62cc492fc1a93dbe3b66a45a756a7b807/dateparser-1.0.0-py2.py3-none-any.whl (279kB)\n",
            "\u001b[K     |████████████████████████████████| 286kB 33.8MB/s \n",
            "\u001b[?25hCollecting cryptography\n",
            "\u001b[?25l  Downloading https://files.pythonhosted.org/packages/b2/26/7af637e6a7e87258b963f1731c5982fb31cd507f0d90d91836e446955d02/cryptography-3.4.7-cp36-abi3-manylinux2014_x86_64.whl (3.2MB)\n",
            "\u001b[K     |████████████████████████████████| 3.2MB 34.6MB/s \n",
            "\u001b[?25hCollecting ujson\n",
            "\u001b[?25l  Downloading https://files.pythonhosted.org/packages/17/4e/50e8e4cf5f00b537095711c2c86ac4d7191aed2b4fffd5a19f06898f6929/ujson-4.0.2-cp37-cp37m-manylinux1_x86_64.whl (179kB)\n",
            "\u001b[K     |████████████████████████████████| 184kB 37.9MB/s \n",
            "\u001b[?25hRequirement already satisfied: six in /usr/local/lib/python3.7/dist-packages (from python-binance==0.7.9) (1.15.0)\n",
            "Requirement already satisfied: attrs>=19.1.0 in /usr/local/lib/python3.7/dist-packages (from service-identity->python-binance==0.7.9) (21.2.0)\n",
            "Requirement already satisfied: pyasn1-modules in /usr/local/lib/python3.7/dist-packages (from service-identity->python-binance==0.7.9) (0.2.8)\n",
            "Requirement already satisfied: pyasn1 in /usr/local/lib/python3.7/dist-packages (from service-identity->python-binance==0.7.9) (0.4.8)\n",
            "Collecting txaio>=21.2.1\n",
            "  Downloading https://files.pythonhosted.org/packages/55/53/c9b89497ba46395bbf84a8c511550626cc5c507c0b76680df54435553e53/txaio-21.2.1-py2.py3-none-any.whl\n",
            "Collecting hyperlink>=21.0.0\n",
            "\u001b[?25l  Downloading https://files.pythonhosted.org/packages/6e/aa/8caf6a0a3e62863cbb9dab27135660acba46903b703e224f14f447e57934/hyperlink-21.0.0-py2.py3-none-any.whl (74kB)\n",
            "\u001b[K     |████████████████████████████████| 81kB 8.8MB/s \n",
            "\u001b[?25hRequirement already satisfied: idna<3,>=2.5 in /usr/local/lib/python3.7/dist-packages (from requests->python-binance==0.7.9) (2.10)\n",
            "Requirement already satisfied: chardet<4,>=3.0.2 in /usr/local/lib/python3.7/dist-packages (from requests->python-binance==0.7.9) (3.0.4)\n",
            "Collecting constantly>=15.1\n",
            "  Downloading https://files.pythonhosted.org/packages/b9/65/48c1909d0c0aeae6c10213340ce682db01b48ea900a7d9fce7a7910ff318/constantly-15.1.0-py2.py3-none-any.whl\n",
            "Collecting incremental>=16.10.1\n",
            "  Downloading https://files.pythonhosted.org/packages/99/3b/4f80dd10cb716f3a9e22ae88f026d25c47cc3fdf82c2747f3d59c98e4ff1/incremental-21.3.0-py2.py3-none-any.whl\n",
            "Collecting Automat>=0.8.0\n",
            "  Downloading https://files.pythonhosted.org/packages/dd/83/5f6f3c1a562674d65efc320257bdc0873ec53147835aeef7762fe7585273/Automat-20.2.0-py2.py3-none-any.whl\n",
            "Collecting zope.interface>=4.4.2\n",
            "\u001b[?25l  Downloading https://files.pythonhosted.org/packages/bb/a7/94e1a92c71436f934cdd2102826fa041c83dcb7d21dd0f1fb1a57f6e0620/zope.interface-5.4.0-cp37-cp37m-manylinux2010_x86_64.whl (251kB)\n",
            "\u001b[K     |████████████████████████████████| 256kB 39.1MB/s \n",
            "\u001b[?25hRequirement already satisfied: python-dateutil in /usr/local/lib/python3.7/dist-packages (from dateparser->python-binance==0.7.9) (2.8.1)\n",
            "Requirement already satisfied: tzlocal in /usr/local/lib/python3.7/dist-packages (from dateparser->python-binance==0.7.9) (1.5.1)\n",
            "Requirement already satisfied: regex!=2019.02.19 in /usr/local/lib/python3.7/dist-packages (from dateparser->python-binance==0.7.9) (2019.12.20)\n",
            "Requirement already satisfied: pytz in /usr/local/lib/python3.7/dist-packages (from dateparser->python-binance==0.7.9) (2018.9)\n",
            "Requirement already satisfied: cffi>=1.12 in /usr/local/lib/python3.7/dist-packages (from cryptography->python-binance==0.7.9) (1.14.5)\n",
            "Requirement already satisfied: setuptools in /usr/local/lib/python3.7/dist-packages (from zope.interface>=4.4.2->Twisted->python-binance==0.7.9) (57.0.0)\n",
            "Requirement already satisfied: pycparser in /usr/local/lib/python3.7/dist-packages (from cffi>=1.12->cryptography->python-binance==0.7.9) (2.20)\n",
            "Installing collected packages: cryptography, service-identity, txaio, hyperlink, autobahn, pyOpenSSL, constantly, incremental, Automat, zope.interface, Twisted, dateparser, ujson, python-binance\n",
            "Successfully installed Automat-20.2.0 Twisted-21.2.0 autobahn-21.3.1 constantly-15.1.0 cryptography-3.4.7 dateparser-1.0.0 hyperlink-21.0.0 incremental-21.3.0 pyOpenSSL-20.0.1 python-binance-0.7.9 service-identity-21.1.0 txaio-21.2.1 ujson-4.0.2 zope.interface-5.4.0\n",
            "Collecting chart_studio\n",
            "\u001b[?25l  Downloading https://files.pythonhosted.org/packages/ca/ce/330794a6b6ca4b9182c38fc69dd2a9cbff60fd49421cb8648ee5fee352dc/chart_studio-1.1.0-py3-none-any.whl (64kB)\n",
            "\u001b[K     |████████████████████████████████| 71kB 3.7MB/s \n",
            "\u001b[?25hRequirement already satisfied: six in /usr/local/lib/python3.7/dist-packages (from chart_studio) (1.15.0)\n",
            "Requirement already satisfied: retrying>=1.3.3 in /usr/local/lib/python3.7/dist-packages (from chart_studio) (1.3.3)\n",
            "Requirement already satisfied: requests in /usr/local/lib/python3.7/dist-packages (from chart_studio) (2.23.0)\n",
            "Requirement already satisfied: plotly in /usr/local/lib/python3.7/dist-packages (from chart_studio) (4.14.3)\n",
            "Requirement already satisfied: chardet<4,>=3.0.2 in /usr/local/lib/python3.7/dist-packages (from requests->chart_studio) (3.0.4)\n",
            "Requirement already satisfied: idna<3,>=2.5 in /usr/local/lib/python3.7/dist-packages (from requests->chart_studio) (2.10)\n",
            "Requirement already satisfied: certifi>=2017.4.17 in /usr/local/lib/python3.7/dist-packages (from requests->chart_studio) (2020.12.5)\n",
            "Requirement already satisfied: urllib3!=1.25.0,!=1.25.1,<1.26,>=1.21.1 in /usr/local/lib/python3.7/dist-packages (from requests->chart_studio) (1.24.3)\n",
            "Installing collected packages: chart-studio\n",
            "Successfully installed chart-studio-1.1.0\n"
          ],
          "name": "stdout"
        }
      ]
    },
    {
      "cell_type": "code",
      "metadata": {
        "id": "prerequisite-packaging"
      },
      "source": [
        "# import talib as ta\n",
        "import pandas as pd\n",
        "import numpy as np\n",
        "import btalib as ba\n",
        "import time as T\n",
        "from binance.client import Client\n",
        "from datetime import datetime\n",
        "import plotly.graph_objects as go\n",
        "import matplotlib.pyplot as plt\n",
        "from sklearn import preprocessing\n",
        "import plotly.express as px\n",
        "from binance.enums import *\n",
        "from binance.exceptions import BinanceAPIException, BinanceOrderException\n",
        "from decimal import Decimal\n",
        "\n",
        "# settings\n",
        "pd.options.plotting.backend = \"plotly\""
      ],
      "id": "prerequisite-packaging",
      "execution_count": null,
      "outputs": []
    },
    {
      "cell_type": "code",
      "metadata": {
        "id": "tropical-lightning"
      },
      "source": [
        "# api key and the api secret\n",
        "\n",
        "api_key='your api key'\n",
        "api_secret='your secret key'\n",
        "\n",
        "# puting key and secret into client\n",
        "\n",
        "client = Client(api_key, api_secret)"
      ],
      "id": "tropical-lightning",
      "execution_count": null,
      "outputs": []
    },
    {
      "cell_type": "code",
      "metadata": {
        "id": "equipped-estonia"
      },
      "source": [
        "# create a class containing my coins and a dictionary containg the instances:\n",
        "class coin(object):\n",
        "    def __init__(self, ticker, time_interval):\n",
        "        self.ticker = ticker\n",
        "        self.time_interval = time_interval\n",
        "        self.direction = None\n",
        "\n",
        "    def madebefore(self, from_date):\n",
        "        # return if from_date is greater(more current) than coinbirth\n",
        "        coinbirth = client._get_earliest_valid_timestamp(self.ticker, self.time_interval)\n",
        "        coinbirth = datetime.fromtimestamp(coinbirth/1000)\n",
        "        return from_date > coinbirth, 'you want data from ' + str(from_date.date()) +' and coin made in ' + str(coinbirth.date())\n",
        "\n",
        "\n",
        "    def coindata(self, from_date, CciPeriod):\n",
        "        df = pd.DataFrame()\n",
        "\n",
        "        bars = np.array(client.get_historical_klines(self.ticker, interval = self.time_interval,  start_str = str(from_date)))\n",
        "        bars = np.delete(bars,np.s_[5:],1)\n",
        "\n",
        "        if (self.madebefore(from_date)[0]) & (np.size(bars) > 100):\n",
        "            \n",
        "\n",
        "            columns=['date', 'open', 'high', 'low', 'close']\n",
        "\n",
        "            df = pd.DataFrame(bars, columns = columns)\n",
        "            df.set_index('date', inplace=True)\n",
        "            df = df.apply(pd.to_numeric)\n",
        "            df.index = pd.to_datetime(df.index, unit='ms')\n",
        "            \n",
        "            df['cci'] = ba.cci(df.high, df.low, df.close, period= CciPeriod).df \n",
        "        \n",
        "\n",
        "        return df\n",
        "        \n",
        "    def currentprice(self):\n",
        "        # gets current price and converts it to float\n",
        "        return float(client.get_symbol_ticker(symbol=self.ticker)['price'])\n",
        "    \n",
        "    def backtest(self, df, space):\n",
        "        # gets when cci crossed above or below  0.0 and then buys or sells respectively for 5 periods \n",
        "        trades = {'buy':[], 'sell':[]}\n",
        "        buyreturns = []\n",
        "        sellreturns = []\n",
        "\n",
        "        # entries using df but take profit spaces back, also i trade when signal show up\n",
        "        for n in np.arange(len(df.index)-space):\n",
        "            if df['cci'][n-1] > 0 and df['cci'][n-2] < 0 and df['cci'][n] > df['cci'][n-1]:\n",
        "                trades['buy'].append(df.index[n])\n",
        "                entry = df.loc[df.index[n]]['open']\n",
        "                \n",
        "                #exits and profit count and stoploss\n",
        "                exist = df.loc[df.index[n+space]]['close']\n",
        "                pnl = (exist - entry) / entry\n",
        "                buyreturns.append(pnl)\n",
        "                \n",
        "            if df['cci'][n-1] < 0 and df['cci'][n-2] > 0 and df['cci'][n] < df['cci'][n-1]:\n",
        "                trades['sell'].append(df.index[n])\n",
        "                entry = df.loc[df.index[n]]['open']\n",
        "                \n",
        "                #exits and profit count and stoploss\n",
        "                exist = df.loc[df.index[n+space]]['close']\n",
        "                pnl = (entry - exist) / entry\n",
        "                sellreturns.append(pnl)\n",
        "        \n",
        "        return trades, buyreturns, sellreturns\n",
        "    \n",
        "    def plotcandles(self, df):\n",
        "        # plots candles of the given data\n",
        "        fig = go.Figure(data=[go.Candlestick(x=df.index,\n",
        "                open=df['open'],\n",
        "                high=df['high'],\n",
        "                low=df['low'],\n",
        "                close=df['close'])])\n",
        "        \n",
        "        fig.update_layout(xaxis_rangeslider_visible=False)\n",
        "\n",
        "        fig.show()\n",
        "        \n",
        "    def signals(self, df):\n",
        "\n",
        "        if df['cci'][-2] > 0 and df['cci'][-3] < 0 and df['cci'][-1] > df['cci'][-2]:\n",
        "                self.direction = 1\n",
        "        \n",
        "        elif df['cci'][-2] < 0 and df['cci'][-3] > 0 and df['cci'][-1] < df['cci'][-2]:\n",
        "                self.direction = -1\n",
        "\n",
        "        else: self.direction = 0\n",
        "\n",
        "        return self.direction\n",
        "        "
      ],
      "id": "equipped-estonia",
      "execution_count": null,
      "outputs": []
    },
    {
      "cell_type": "code",
      "metadata": {
        "id": "eastern-rendering"
      },
      "source": [
        "symbols = ['BNBUSDT', 'BCCUSDT', 'NEOUSDT', 'LTCUSDT', 'QTUMUSDT', 'ADAUSDT', 'XRPUSDT', 'EOSUSDT', 'TUSDUSDT', 'IOTAUSDT',\n",
        "           'XLMUSDT', 'ONTUSDT', 'TRXUSDT', 'ETCUSDT', 'ICXUSDT', 'VENUSDT', 'NULSUSDT', 'VETUSDT','BCHABCUSDT', 'BCHSVUSDT', \n",
        "           'USDCUSDT', 'LINKUSDT', 'WAVESUSDT', 'BTTUSDT', 'ONGUSDT', 'HOTUSDT', 'ZILUSDT', 'ZRXUSDT', 'FETUSDT', 'BATUSDT', \n",
        "           'XMRUSDT', 'ZECUSDT', 'IOSTUSDT', 'CELRUSDT', 'DASHUSDT', 'NANOUSDT', 'OMGUSDT', 'THETAUSDT', 'ENJUSDT', 'MITHUSDT',\n",
        "           'MATICUSDT', 'ATOMUSDT', 'TFUELUSDT', 'ONEUSDT', 'FTMUSDT', 'ALGOUSDT', 'USDSBUSDT', 'GTOUSDT', 'ERDUSDT', \n",
        "           'DOGEUSDT', 'DUSKUSDT', 'ANKRUSDT', 'WINUSDT', 'COSUSDT', 'NPXSUSDT', 'COCOSUSDT', 'MTLUSDT', 'TOMOUSDT', 'PERLUSDT',\n",
        "           'DENTUSDT', 'MFTUSDT', 'KEYUSDT', 'STORMUSDT', 'DOCKUSDT', 'WANUSDT', 'FUNUSDT', 'CVCUSDT', 'CHZUSDT', 'BANDUSDT',\n",
        "           'BEAMUSDT', 'XTZUSDT', 'RENUSDT', 'RVNUSDT', 'HCUSDT', 'HBARUSDT', 'NKNUSDT', 'STXUSDT', 'KAVAUSDT', 'ARPAUSDT',\n",
        "           'IOTXUSDT', 'RLCUSDT', 'MCOUSDT', 'CTXCUSDT', 'BCHUSDT', 'TROYUSDT', 'VITEUSDT', 'FTTUSDT', 'BUSDTRY', 'OGNUSDT',\n",
        "           'DREPUSDT', 'BULLUSDT', 'BEARUSDT',  'TCTUSDT', 'WRXUSDT', 'BTSUSDT', 'LSKUSDT', 'BNTUSDT', 'LTOUSDT', \n",
        "           'AIONUSDT', 'MBLUSDT', 'COTIUSDT',  'STPTUSDT', 'USDTZAR', 'WTCUSDT', 'DATAUSDT', 'XZCUSDT', 'SOLUSDT', 'USDTIDRT', \n",
        "           'CTSIUSDT', 'HIVEUSDT',  'GXSUSDT', 'ARDRUSDT', 'MDTUSDT', 'STMXUSDT', 'KNCUSDT', 'REPUSDT', 'LRCUSDT',\n",
        "           'PNTUSDT', 'COMPUSDT',  'BKRWUSDT', 'SCUSDT', 'ZENUSDT', 'SNXUSDT', 'VTHOUSDT', 'DGBUSDT', 'SXPUSDT', 'MKRUSDT', \n",
        "           'DAIUSDT', 'DCRUSDT', 'STORJUSDT', 'USDTBKRW', 'MANAUSDT', 'YFIUSDT', 'BALUSDT', 'BLZUSDT','IRISUSDT', 'KMDUSDT',\n",
        "           'JSTUSDT', 'SRMUSDT', 'ANTUSDT', 'CRVUSDT', 'SANDUSDT', 'OCEANUSDT', 'NMRUSDT', 'DOTUSDT', 'LUNAUSDT', 'RSRUSDT',\n",
        "           'WNXMUSDT', 'TRBUSDT', 'BZRXUSDT', 'SUSHIUSDT', 'YFIIUSDT', 'KSMUSDT', 'EGLDUSDT', 'RUNEUSDT', 'FIOUSDT', 'UMAUSDT', \n",
        "           'USDTNGN', 'BELUSDT', 'WINGUSDT', 'UNIUSDT', 'NBSUSDT', 'OXTUSDT', 'SUNUSDT', 'AVAXUSDT', 'HNTUSDT', 'FLMUSDT', \n",
        "           'ORNUSDT', 'UTKUSDT', 'XVSUSDT', 'ALPHAUSDT', 'USDTBRL', 'AAVEUSDT', 'NEARUSDT', 'FILUSDT', 'INJUSDT', 'AUDIOUSDT',\n",
        "           'CTKUSDT', 'AKROUSDT', 'AXSUSDT', 'HARDUSDT', 'DNTUSDT', 'STRAXUSDT', 'UNFIUSDT', 'ROSEUSDT', 'AVAUSDT', 'XEMUSDT', \n",
        "           'SKLUSDT', 'SUSDUSDT', 'GRTUSDT', 'JUVUSDT', 'PSGUSDT', '1INCHUSDT', 'REEFUSDT', 'OGUSDT', 'ATMUSDT', 'ASRUSDT',\n",
        "           'CELOUSDT', 'RIFUSDT', 'BTCSTUSDT', 'TRUUSDT', 'CKBUSDT', 'TWTUSDT', 'FIROUSDT', 'LITUSDT', 'SFPUSDT', 'DODOUSDT',\n",
        "           'CAKEUSDT', 'ACMUSDT', 'BADGERUSDT', 'FISUSDT', 'OMUSDT', 'PONDUSDT', 'DEGOUSDT', 'ALICEUSDT', 'LINAUSDT','PERPUSDT',\n",
        "           'RAMPUSDT', 'SUPERUSDT', 'CFXUSDT', 'EPSUSDT', 'AUTOUSDT', 'TKOUSDT', 'PUNDIXUSDT', 'TLMUSDT', 'BTGUSDT', 'MIRUSDT',\n",
        "           'BARUSDT', 'FORTHUSDT', 'BAKEUSDT', 'BURGERUSDT', 'SLPUSDT','SHIBUSDT', 'ICPUSDT', 'USDTGYEN', 'ARUSDT', 'POLSUSDT',\n",
        "           'MDXUSDT', 'MASKUSDT', 'LPTUSDT', 'NUUSDT']\n",
        "\n",
        "symbolclass = {}\n",
        "for c in symbols:\n",
        "    symbolclass[c] = coin(c, '4h')\n"
      ],
      "id": "eastern-rendering",
      "execution_count": null,
      "outputs": []
    },
    {
      "cell_type": "code",
      "metadata": {
        "colab": {
          "base_uri": "https://localhost:8080/"
        },
        "id": "strange-cooling",
        "outputId": "d489394c-d7fa-4ef7-ea6f-ca30c03a28f6"
      },
      "source": [
        "# date %yyyy%mm%dd\n",
        "start = datetime(2021, 3, 1, 0, 0)\n",
        "print(start)\n",
        "print(len(symbols))"
      ],
      "id": "strange-cooling",
      "execution_count": null,
      "outputs": [
        {
          "output_type": "stream",
          "text": [
            "2021-03-01 00:00:00\n",
            "241\n"
          ],
          "name": "stdout"
        }
      ]
    },
    {
      "cell_type": "code",
      "metadata": {
        "id": "parallel-listening"
      },
      "source": [
        ""
      ],
      "id": "parallel-listening",
      "execution_count": null,
      "outputs": []
    },
    {
      "cell_type": "code",
      "metadata": {
        "colab": {
          "background_save": true
        },
        "id": "adequate-lawrence"
      },
      "source": [
        "def select(from_date):\n",
        "    # current price of every coin\n",
        "    cheapcoins = [c for c in symbolclass if 0.05 < symbolclass[c].currentprice() < 1.5 and symbolclass[c].madebefore(from_date)[0]]\n",
        "\n",
        "    return cheapcoins\n",
        "\n",
        "cheaplist = select(start)\n"
      ],
      "id": "adequate-lawrence",
      "execution_count": null,
      "outputs": []
    },
    {
      "cell_type": "code",
      "metadata": {
        "id": "cuaalrKAyKma"
      },
      "source": [
        "def gettrades(coinlist, from_date):\n",
        "    # dict to store the directions and symbols in those directions\n",
        "    trades = {'buy':[], 'sell':[]}\n",
        "    \n",
        "    for c in set(coinlist):\n",
        "        # df of date, ohlc of symbol under study\n",
        "        df = symbolclass[c].coindata(from_date, 100)\n",
        "\n",
        "        #  directional biasing\n",
        "        if symbolclass[c].signals(df) > 0:\n",
        "          trades['buy'].append(c)\n",
        "\n",
        "        elif symbolclass[c].signals(df) < 0:\n",
        "          trades['sell'].append(c)\n",
        "\n",
        "    return trades\n",
        "\n"
      ],
      "id": "cuaalrKAyKma",
      "execution_count": null,
      "outputs": []
    },
    {
      "cell_type": "code",
      "metadata": {
        "colab": {
          "base_uri": "https://localhost:8080/",
          "height": 1000
        },
        "id": "QcrAC8Doh9D6",
        "outputId": "088f1b5b-2f89-4464-93ad-a322faaf3dbe"
      },
      "source": [
        "# get close price of the cheapcoins into the same data frame\n",
        "df = pd.DataFrame()\n",
        "for i in cheaplist:\n",
        "    df[i] = symbolclass[i].coindata(start, 100)['close']\n",
        "\n",
        "df.head()"
      ],
      "id": "QcrAC8Doh9D6",
      "execution_count": null,
      "outputs": [
        {
          "output_type": "stream",
          "text": [
            "XRPUSDT\n",
            "TUSDUSDT\n",
            "IOTAUSDT\n",
            "XLMUSDT\n",
            "ONTUSDT\n",
            "TRXUSDT\n",
            "ICXUSDT\n",
            "NULSUSDT\n",
            "VETUSDT\n",
            "USDCUSDT\n",
            "ONGUSDT\n",
            "ZILUSDT\n",
            "ZRXUSDT\n",
            "FETUSDT\n",
            "BATUSDT\n",
            "ENJUSDT\n",
            "MITHUSDT\n",
            "MATICUSDT\n",
            "TFUELUSDT\n",
            "ONEUSDT\n",
            "FTMUSDT\n",
            "ALGOUSDT\n",
            "USDSBUSDT\n",
            "GTOUSDT\n",
            "DOGEUSDT\n",
            "DUSKUSDT\n",
            "ANKRUSDT\n",
            "COCOSUSDT\n",
            "PERLUSDT\n",
            "DOCKUSDT\n",
            "WANUSDT\n",
            "CVCUSDT\n",
            "CHZUSDT\n",
            "BEAMUSDT\n",
            "RENUSDT\n",
            "RVNUSDT\n",
            "HCUSDT\n",
            "HBARUSDT\n",
            "NKNUSDT\n",
            "STXUSDT\n",
            "CTXCUSDT\n",
            "VITEUSDT\n",
            "OGNUSDT\n",
            "DREPUSDT\n",
            "LTOUSDT\n",
            "AIONUSDT\n",
            "COTIUSDT\n",
            "WTCUSDT\n",
            "DATAUSDT\n",
            "CTSIUSDT\n",
            "HIVEUSDT\n",
            "GXSUSDT\n",
            "ARDRUSDT\n",
            "LRCUSDT\n",
            "PNTUSDT\n",
            "DGBUSDT\n",
            "DAIUSDT\n",
            "STORJUSDT\n",
            "MANAUSDT\n",
            "BLZUSDT\n",
            "IRISUSDT\n",
            "KMDUSDT\n",
            "JSTUSDT\n",
            "SANDUSDT\n",
            "OCEANUSDT\n",
            "BZRXUSDT\n",
            "FIOUSDT\n",
            "OXTUSDT\n",
            "FLMUSDT\n",
            "UTKUSDT\n",
            "ALPHAUSDT\n",
            "AUDIOUSDT\n",
            "CTKUSDT\n",
            "HARDUSDT\n",
            "DNTUSDT\n",
            "STRAXUSDT\n",
            "ROSEUSDT\n",
            "XEMUSDT\n",
            "SKLUSDT\n",
            "SUSDUSDT\n",
            "GRTUSDT\n",
            "RIFUSDT\n",
            "TRUUSDT\n",
            "TWTUSDT\n",
            "SFPUSDT\n",
            "DODOUSDT\n"
          ],
          "name": "stdout"
        },
        {
          "output_type": "execute_result",
          "data": {
            "text/html": [
              "<div>\n",
              "<style scoped>\n",
              "    .dataframe tbody tr th:only-of-type {\n",
              "        vertical-align: middle;\n",
              "    }\n",
              "\n",
              "    .dataframe tbody tr th {\n",
              "        vertical-align: top;\n",
              "    }\n",
              "\n",
              "    .dataframe thead th {\n",
              "        text-align: right;\n",
              "    }\n",
              "</style>\n",
              "<table border=\"1\" class=\"dataframe\">\n",
              "  <thead>\n",
              "    <tr style=\"text-align: right;\">\n",
              "      <th></th>\n",
              "    </tr>\n",
              "  </thead>\n",
              "  <tbody>\n",
              "  </tbody>\n",
              "</table>\n",
              "</div>"
            ],
            "text/plain": [
              "Empty DataFrame\n",
              "Columns: []\n",
              "Index: []"
            ]
          },
          "metadata": {
            "tags": []
          },
          "execution_count": 47
        }
      ]
    },
    {
      "cell_type": "code",
      "metadata": {
        "colab": {
          "base_uri": "https://localhost:8080/"
        },
        "id": "quality-saver",
        "outputId": "882b7bab-06ec-44f3-fb09-44e40838b735"
      },
      "source": [
        "print(type(cheaplist))\n",
        "print(len(cheaplist))\n"
      ],
      "id": "quality-saver",
      "execution_count": null,
      "outputs": [
        {
          "output_type": "stream",
          "text": [
            "<class 'numpy.ndarray'>\n",
            "86\n"
          ],
          "name": "stdout"
        }
      ]
    },
    {
      "cell_type": "code",
      "metadata": {
        "colab": {
          "base_uri": "https://localhost:8080/"
        },
        "id": "immune-bangladesh",
        "outputId": "a7b44bc9-0ea1-4a25-8dbe-893264f2268a"
      },
      "source": [
        "print(gettrades(cheaplist, start))"
      ],
      "id": "immune-bangladesh",
      "execution_count": null,
      "outputs": [
        {
          "output_type": "stream",
          "text": [
            "{'buy': [], 'sell': []}\n"
          ],
          "name": "stdout"
        }
      ]
    },
    {
      "cell_type": "code",
      "metadata": {
        "id": "DQRAAUNY7xJc"
      },
      "source": [
        "\n",
        "# time_bool = symbolclass['CTSIUSDT'].hasdata(start)\n",
        "df = symbolclass['CTSIUSDT'].coindata(start, 100)\n",
        "\n",
        "bef_2 = df['cci'].shift(2).fillna(0).astype(int)\n",
        "bef_1 = df['cci'].shift(1).fillna(0).astype(int)\n",
        "now =  df['cci'].fillna(0).astype(int)\n",
        "\n",
        "conditions = [\n",
        "             ((bef_1 > 0) & (bef_2 < 0) & (now  > bef_1)),\n",
        "             ((bef_1 < 0) & (bef_2 > 0) & (now  < bef_1))\n",
        "]\n",
        "\n",
        "choices = ['buy','sell']\n",
        "\n",
        "df['direction'] = np.select(conditions, choices, default = 'flat')\n",
        "\n",
        "symbolclass['CTSIUSDT'].direction = df['direction'].iloc[-1]"
      ],
      "id": "DQRAAUNY7xJc",
      "execution_count": null,
      "outputs": []
    },
    {
      "cell_type": "code",
      "metadata": {
        "id": "indie-burst"
      },
      "source": [
        "\n"
      ],
      "id": "indie-burst",
      "execution_count": null,
      "outputs": []
    },
    {
      "cell_type": "code",
      "metadata": {
        "id": "destroyed-pension"
      },
      "source": [
        ""
      ],
      "id": "destroyed-pension",
      "execution_count": null,
      "outputs": []
    },
    {
      "cell_type": "code",
      "metadata": {
        "colab": {
          "base_uri": "https://localhost:8080/"
        },
        "id": "58bOZb7rICvT",
        "outputId": "dfaeaa34-6f10-4b6f-c790-54fd21e10a6c"
      },
      "source": [
        "print(df.pct_change().iloc[-1].sort_values(ascending = False).head(10).index)\n",
        "print(df.pct_change().iloc[-1].sort_values(ascending = False).head(10))\n",
        "df = df[df.pct_change().iloc[-1].sort_values(ascending = False).head(10).index]"
      ],
      "id": "58bOZb7rICvT",
      "execution_count": null,
      "outputs": [
        {
          "output_type": "stream",
          "text": [
            "Index(['TFUELUSDT', 'COCOSUSDT', 'HIVEUSDT', 'DATAUSDT', 'ONGUSDT', 'IRISUSDT',\n",
            "       'BZRXUSDT', 'FIOUSDT', 'GTOUSDT', 'CTKUSDT'],\n",
            "      dtype='object')\n",
            "TFUELUSDT    0.225763\n",
            "COCOSUSDT    0.134210\n",
            "HIVEUSDT     0.121630\n",
            "DATAUSDT     0.116860\n",
            "ONGUSDT      0.074872\n",
            "IRISUSDT     0.064940\n",
            "BZRXUSDT     0.056028\n",
            "FIOUSDT      0.053997\n",
            "GTOUSDT      0.053445\n",
            "CTKUSDT      0.051609\n",
            "Name: 2021-06-13 00:00:00, dtype: float64\n"
          ],
          "name": "stdout"
        }
      ]
    },
    {
      "cell_type": "markdown",
      "metadata": {
        "id": "yNm1sJUnV_sL"
      },
      "source": [
        "### optimize the portfolio of cheap coins"
      ],
      "id": "yNm1sJUnV_sL"
    },
    {
      "cell_type": "code",
      "metadata": {
        "id": "TohIISl6solU"
      },
      "source": [
        ""
      ],
      "id": "TohIISl6solU",
      "execution_count": null,
      "outputs": []
    },
    {
      "cell_type": "code",
      "metadata": {
        "colab": {
          "base_uri": "https://localhost:8080/",
          "height": 542
        },
        "id": "reZ34OZ51XCG",
        "outputId": "b7da25c2-4a08-4104-81bf-9e0ffcdf9a03"
      },
      "source": [
        "df.plot(x=df.index, y = df.columns)"
      ],
      "id": "reZ34OZ51XCG",
      "execution_count": null,
      "outputs": [
        {
          "output_type": "display_data",
          "data": {
            "text/html": [
              "<html>\n",
              "<head><meta charset=\"utf-8\" /></head>\n",
              "<body>\n",
              "    <div>            <script src=\"https://cdnjs.cloudflare.com/ajax/libs/mathjax/2.7.5/MathJax.js?config=TeX-AMS-MML_SVG\"></script><script type=\"text/javascript\">if (window.MathJax) {MathJax.Hub.Config({SVG: {font: \"STIX-Web\"}});}</script>                <script type=\"text/javascript\">window.PlotlyConfig = {MathJaxConfig: 'local'};</script>\n",
              "        <script src=\"https://cdn.plot.ly/plotly-latest.min.js\"></script>                <div id=\"b3cc5b44-a0f3-41a2-b47e-1fc32e81313d\" class=\"plotly-graph-div\" style=\"height:525px; width:100%;\"></div>            <script type=\"text/javascript\">                                    window.PLOTLYENV=window.PLOTLYENV || {};                                    if (document.getElementById(\"b3cc5b44-a0f3-41a2-b47e-1fc32e81313d\")) {                    Plotly.newPlot(                        \"b3cc5b44-a0f3-41a2-b47e-1fc32e81313d\",                        [{\"hovertemplate\": \"variable=TFUELUSDT<br>date=%{x}<br>value=%{y}<extra></extra>\", \"legendgroup\": \"TFUELUSDT\", \"line\": {\"color\": \"#636efa\", \"dash\": \"solid\"}, \"mode\": \"lines\", \"name\": \"TFUELUSDT\", \"showlegend\": true, \"type\": \"scattergl\", \"x\": [\"2021-03-01T00:00:00\", \"2021-03-02T00:00:00\", \"2021-03-03T00:00:00\", \"2021-03-04T00:00:00\", \"2021-03-05T00:00:00\", \"2021-03-06T00:00:00\", \"2021-03-07T00:00:00\", \"2021-03-08T00:00:00\", \"2021-03-09T00:00:00\", \"2021-03-10T00:00:00\", \"2021-03-11T00:00:00\", \"2021-03-12T00:00:00\", \"2021-03-13T00:00:00\", \"2021-03-14T00:00:00\", \"2021-03-15T00:00:00\", \"2021-03-16T00:00:00\", \"2021-03-17T00:00:00\", \"2021-03-18T00:00:00\", \"2021-03-19T00:00:00\", \"2021-03-20T00:00:00\", \"2021-03-21T00:00:00\", \"2021-03-22T00:00:00\", \"2021-03-23T00:00:00\", \"2021-03-24T00:00:00\", \"2021-03-25T00:00:00\", \"2021-03-26T00:00:00\", \"2021-03-27T00:00:00\", \"2021-03-28T00:00:00\", \"2021-03-29T00:00:00\", \"2021-03-30T00:00:00\", \"2021-03-31T00:00:00\", \"2021-04-01T00:00:00\", \"2021-04-02T00:00:00\", \"2021-04-03T00:00:00\", \"2021-04-04T00:00:00\", \"2021-04-05T00:00:00\", \"2021-04-06T00:00:00\", \"2021-04-07T00:00:00\", \"2021-04-08T00:00:00\", \"2021-04-09T00:00:00\", \"2021-04-10T00:00:00\", \"2021-04-11T00:00:00\", \"2021-04-12T00:00:00\", \"2021-04-13T00:00:00\", \"2021-04-14T00:00:00\", \"2021-04-15T00:00:00\", \"2021-04-16T00:00:00\", \"2021-04-17T00:00:00\", \"2021-04-18T00:00:00\", \"2021-04-19T00:00:00\", \"2021-04-20T00:00:00\", \"2021-04-21T00:00:00\", \"2021-04-22T00:00:00\", \"2021-04-23T00:00:00\", \"2021-04-24T00:00:00\", \"2021-04-25T00:00:00\", \"2021-04-26T00:00:00\", \"2021-04-27T00:00:00\", \"2021-04-28T00:00:00\", \"2021-04-29T00:00:00\", \"2021-04-30T00:00:00\", \"2021-05-01T00:00:00\", \"2021-05-02T00:00:00\", \"2021-05-03T00:00:00\", \"2021-05-04T00:00:00\", \"2021-05-05T00:00:00\", \"2021-05-06T00:00:00\", \"2021-05-07T00:00:00\", \"2021-05-08T00:00:00\", \"2021-05-09T00:00:00\", \"2021-05-10T00:00:00\", \"2021-05-11T00:00:00\", \"2021-05-12T00:00:00\", \"2021-05-13T00:00:00\", \"2021-05-14T00:00:00\", \"2021-05-15T00:00:00\", \"2021-05-16T00:00:00\", \"2021-05-17T00:00:00\", \"2021-05-18T00:00:00\", \"2021-05-19T00:00:00\", \"2021-05-20T00:00:00\", \"2021-05-21T00:00:00\", \"2021-05-22T00:00:00\", \"2021-05-23T00:00:00\", \"2021-05-24T00:00:00\", \"2021-05-25T00:00:00\", \"2021-05-26T00:00:00\", \"2021-05-27T00:00:00\", \"2021-05-28T00:00:00\", \"2021-05-29T00:00:00\", \"2021-05-30T00:00:00\", \"2021-05-31T00:00:00\", \"2021-06-01T00:00:00\", \"2021-06-02T00:00:00\", \"2021-06-03T00:00:00\", \"2021-06-04T00:00:00\", \"2021-06-05T00:00:00\", \"2021-06-06T00:00:00\", \"2021-06-07T00:00:00\", \"2021-06-08T00:00:00\", \"2021-06-09T00:00:00\", \"2021-06-10T00:00:00\", \"2021-06-11T00:00:00\", \"2021-06-12T00:00:00\", \"2021-06-13T00:00:00\"], \"xaxis\": \"x\", \"y\": [0.112899, 0.122481, 0.128678, 0.143324, 0.139971, 0.140474, 0.146994, 0.171611, 0.184748, 0.253021, 0.361876, 0.394429, 0.369683, 0.374202, 0.344795, 0.35307, 0.346803, 0.352472, 0.341767, 0.317905, 0.332983, 0.371675, 0.476938, 0.392889, 0.417473, 0.416534, 0.396588, 0.399384, 0.41121, 0.411099, 0.416252, 0.415404, 0.439453, 0.393855, 0.410231, 0.376921, 0.347919, 0.359988, 0.382227, 0.375167, 0.361716, 0.354218, 0.357912, 0.352329, 0.334358, 0.363338, 0.387414, 0.355571, 0.318046, 0.300044, 0.31082, 0.290039, 0.250976, 0.265, 0.238531, 0.26626, 0.3023, 0.32129, 0.31404, 0.33615, 0.35815, 0.35872, 0.35685, 0.37214, 0.32882, 0.38419, 0.38257, 0.40605, 0.40215, 0.3874, 0.34681, 0.36499, 0.28697, 0.33436, 0.34021, 0.31496, 0.344, 0.33172, 0.33024, 0.23274, 0.28624, 0.25489, 0.27369, 0.25157, 0.27944, 0.27915, 0.30654, 0.31268, 0.29327, 0.28627, 0.30461, 0.34008, 0.36487, 0.36738, 0.43258, 0.43143, 0.44424, 0.4597, 0.4784, 0.5775, 0.57565, 0.53091, 0.48342, 0.42363, 0.51927], \"yaxis\": \"y\"}, {\"hovertemplate\": \"variable=COCOSUSDT<br>date=%{x}<br>value=%{y}<extra></extra>\", \"legendgroup\": \"COCOSUSDT\", \"line\": {\"color\": \"#EF553B\", \"dash\": \"solid\"}, \"mode\": \"lines\", \"name\": \"COCOSUSDT\", \"showlegend\": true, \"type\": \"scattergl\", \"x\": [\"2021-03-01T00:00:00\", \"2021-03-02T00:00:00\", \"2021-03-03T00:00:00\", \"2021-03-04T00:00:00\", \"2021-03-05T00:00:00\", \"2021-03-06T00:00:00\", \"2021-03-07T00:00:00\", \"2021-03-08T00:00:00\", \"2021-03-09T00:00:00\", \"2021-03-10T00:00:00\", \"2021-03-11T00:00:00\", \"2021-03-12T00:00:00\", \"2021-03-13T00:00:00\", \"2021-03-14T00:00:00\", \"2021-03-15T00:00:00\", \"2021-03-16T00:00:00\", \"2021-03-17T00:00:00\", \"2021-03-18T00:00:00\", \"2021-03-19T00:00:00\", \"2021-03-20T00:00:00\", \"2021-03-21T00:00:00\", \"2021-03-22T00:00:00\", \"2021-03-23T00:00:00\", \"2021-03-24T00:00:00\", \"2021-03-25T00:00:00\", \"2021-03-26T00:00:00\", \"2021-03-27T00:00:00\", \"2021-03-28T00:00:00\", \"2021-03-29T00:00:00\", \"2021-03-30T00:00:00\", \"2021-03-31T00:00:00\", \"2021-04-01T00:00:00\", \"2021-04-02T00:00:00\", \"2021-04-03T00:00:00\", \"2021-04-04T00:00:00\", \"2021-04-05T00:00:00\", \"2021-04-06T00:00:00\", \"2021-04-07T00:00:00\", \"2021-04-08T00:00:00\", \"2021-04-09T00:00:00\", \"2021-04-10T00:00:00\", \"2021-04-11T00:00:00\", \"2021-04-12T00:00:00\", \"2021-04-13T00:00:00\", \"2021-04-14T00:00:00\", \"2021-04-15T00:00:00\", \"2021-04-16T00:00:00\", \"2021-04-17T00:00:00\", \"2021-04-18T00:00:00\", \"2021-04-19T00:00:00\", \"2021-04-20T00:00:00\", \"2021-04-21T00:00:00\", \"2021-04-22T00:00:00\", \"2021-04-23T00:00:00\", \"2021-04-24T00:00:00\", \"2021-04-25T00:00:00\", \"2021-04-26T00:00:00\", \"2021-04-27T00:00:00\", \"2021-04-28T00:00:00\", \"2021-04-29T00:00:00\", \"2021-04-30T00:00:00\", \"2021-05-01T00:00:00\", \"2021-05-02T00:00:00\", \"2021-05-03T00:00:00\", \"2021-05-04T00:00:00\", \"2021-05-05T00:00:00\", \"2021-05-06T00:00:00\", \"2021-05-07T00:00:00\", \"2021-05-08T00:00:00\", \"2021-05-09T00:00:00\", \"2021-05-10T00:00:00\", \"2021-05-11T00:00:00\", \"2021-05-12T00:00:00\", \"2021-05-13T00:00:00\", \"2021-05-14T00:00:00\", \"2021-05-15T00:00:00\", \"2021-05-16T00:00:00\", \"2021-05-17T00:00:00\", \"2021-05-18T00:00:00\", \"2021-05-19T00:00:00\", \"2021-05-20T00:00:00\", \"2021-05-21T00:00:00\", \"2021-05-22T00:00:00\", \"2021-05-23T00:00:00\", \"2021-05-24T00:00:00\", \"2021-05-25T00:00:00\", \"2021-05-26T00:00:00\", \"2021-05-27T00:00:00\", \"2021-05-28T00:00:00\", \"2021-05-29T00:00:00\", \"2021-05-30T00:00:00\", \"2021-05-31T00:00:00\", \"2021-06-01T00:00:00\", \"2021-06-02T00:00:00\", \"2021-06-03T00:00:00\", \"2021-06-04T00:00:00\", \"2021-06-05T00:00:00\", \"2021-06-06T00:00:00\", \"2021-06-07T00:00:00\", \"2021-06-08T00:00:00\", \"2021-06-09T00:00:00\", \"2021-06-10T00:00:00\", \"2021-06-11T00:00:00\", \"2021-06-12T00:00:00\", \"2021-06-13T00:00:00\"], \"xaxis\": \"x\", \"y\": [0.7512, 0.8272, 0.8483, 1.0313, 0.9173, 0.9456, 0.9243, 1.152, 1.2, 1.0518, 1.658, 1.561, 1.6044, 1.4127, 1.3352, 1.3841, 1.3577, 1.315, 1.3788, 1.4913, 1.4774, 1.4755, 1.336, 1.251, 1.1536, 1.2736, 1.2712, 1.5316, 1.6184, 1.577, 1.4875, 1.4225, 1.444, 1.3299, 1.5108, 1.4277, 1.5165, 1.3175, 1.4039, 1.498, 1.3585, 1.3388, 1.2735, 1.2723, 1.2209, 1.2622, 1.1906, 1.2166, 1.091, 1.0703, 1.0119, 0.9571, 0.8443, 0.7466, 0.7855, 0.7803, 0.9184, 1.149, 1.0947, 1.2984, 1.235, 1.2256, 1.2691, 1.3151, 1.1535, 1.2101, 1.1283, 1.1125, 1.0954, 1.0656, 0.933, 1.0776, 0.8518, 0.881, 0.9633, 0.8808, 0.8795, 0.8513, 0.8118, 0.495, 0.6061, 0.4712, 0.4323, 0.3393, 0.4086, 0.4959, 0.6195, 0.598, 0.4824, 0.4328, 0.5258, 0.5375, 0.5092, 0.5304, 0.5491, 0.4922, 0.4673, 0.5035, 0.4653, 0.4443, 0.4577, 0.6145, 0.6023, 0.5402, 0.6127], \"yaxis\": \"y\"}, {\"hovertemplate\": \"variable=HIVEUSDT<br>date=%{x}<br>value=%{y}<extra></extra>\", \"legendgroup\": \"HIVEUSDT\", \"line\": {\"color\": \"#00cc96\", \"dash\": \"solid\"}, \"mode\": \"lines\", \"name\": \"HIVEUSDT\", \"showlegend\": true, \"type\": \"scattergl\", \"x\": [\"2021-03-01T00:00:00\", \"2021-03-02T00:00:00\", \"2021-03-03T00:00:00\", \"2021-03-04T00:00:00\", \"2021-03-05T00:00:00\", \"2021-03-06T00:00:00\", \"2021-03-07T00:00:00\", \"2021-03-08T00:00:00\", \"2021-03-09T00:00:00\", \"2021-03-10T00:00:00\", \"2021-03-11T00:00:00\", \"2021-03-12T00:00:00\", \"2021-03-13T00:00:00\", \"2021-03-14T00:00:00\", \"2021-03-15T00:00:00\", \"2021-03-16T00:00:00\", \"2021-03-17T00:00:00\", \"2021-03-18T00:00:00\", \"2021-03-19T00:00:00\", \"2021-03-20T00:00:00\", \"2021-03-21T00:00:00\", \"2021-03-22T00:00:00\", \"2021-03-23T00:00:00\", \"2021-03-24T00:00:00\", \"2021-03-25T00:00:00\", \"2021-03-26T00:00:00\", \"2021-03-27T00:00:00\", \"2021-03-28T00:00:00\", \"2021-03-29T00:00:00\", \"2021-03-30T00:00:00\", \"2021-03-31T00:00:00\", \"2021-04-01T00:00:00\", \"2021-04-02T00:00:00\", \"2021-04-03T00:00:00\", \"2021-04-04T00:00:00\", \"2021-04-05T00:00:00\", \"2021-04-06T00:00:00\", \"2021-04-07T00:00:00\", \"2021-04-08T00:00:00\", \"2021-04-09T00:00:00\", \"2021-04-10T00:00:00\", \"2021-04-11T00:00:00\", \"2021-04-12T00:00:00\", \"2021-04-13T00:00:00\", \"2021-04-14T00:00:00\", \"2021-04-15T00:00:00\", \"2021-04-16T00:00:00\", \"2021-04-17T00:00:00\", \"2021-04-18T00:00:00\", \"2021-04-19T00:00:00\", \"2021-04-20T00:00:00\", \"2021-04-21T00:00:00\", \"2021-04-22T00:00:00\", \"2021-04-23T00:00:00\", \"2021-04-24T00:00:00\", \"2021-04-25T00:00:00\", \"2021-04-26T00:00:00\", \"2021-04-27T00:00:00\", \"2021-04-28T00:00:00\", \"2021-04-29T00:00:00\", \"2021-04-30T00:00:00\", \"2021-05-01T00:00:00\", \"2021-05-02T00:00:00\", \"2021-05-03T00:00:00\", \"2021-05-04T00:00:00\", \"2021-05-05T00:00:00\", \"2021-05-06T00:00:00\", \"2021-05-07T00:00:00\", \"2021-05-08T00:00:00\", \"2021-05-09T00:00:00\", \"2021-05-10T00:00:00\", \"2021-05-11T00:00:00\", \"2021-05-12T00:00:00\", \"2021-05-13T00:00:00\", \"2021-05-14T00:00:00\", \"2021-05-15T00:00:00\", \"2021-05-16T00:00:00\", \"2021-05-17T00:00:00\", \"2021-05-18T00:00:00\", \"2021-05-19T00:00:00\", \"2021-05-20T00:00:00\", \"2021-05-21T00:00:00\", \"2021-05-22T00:00:00\", \"2021-05-23T00:00:00\", \"2021-05-24T00:00:00\", \"2021-05-25T00:00:00\", \"2021-05-26T00:00:00\", \"2021-05-27T00:00:00\", \"2021-05-28T00:00:00\", \"2021-05-29T00:00:00\", \"2021-05-30T00:00:00\", \"2021-05-31T00:00:00\", \"2021-06-01T00:00:00\", \"2021-06-02T00:00:00\", \"2021-06-03T00:00:00\", \"2021-06-04T00:00:00\", \"2021-06-05T00:00:00\", \"2021-06-06T00:00:00\", \"2021-06-07T00:00:00\", \"2021-06-08T00:00:00\", \"2021-06-09T00:00:00\", \"2021-06-10T00:00:00\", \"2021-06-11T00:00:00\", \"2021-06-12T00:00:00\", \"2021-06-13T00:00:00\"], \"xaxis\": \"x\", \"y\": [0.319, 0.2998, 0.3066, 0.2922, 0.2873, 0.2996, 0.3172, 0.3153, 0.3235, 0.3394, 0.3579, 0.3417, 0.3878, 0.3887, 0.3689, 0.3813, 0.3764, 0.4376, 0.436, 0.3971, 0.4041, 0.4515, 0.6415, 0.5269, 0.4906, 0.5294, 0.529, 0.7673, 0.7601, 0.7724, 0.7493, 0.7952, 0.8502, 0.7099, 0.7471, 0.6712, 0.6202, 0.5441, 0.6205, 0.6895, 0.7017, 0.6806, 0.6478, 0.6351, 0.5858, 0.632, 0.594, 0.588, 0.5264, 0.5058, 0.5379, 0.5159, 0.4682, 0.4592, 0.4374, 0.4463, 0.535, 0.7203, 0.6768, 0.635, 0.656, 0.6547, 0.6295, 0.6642, 0.5786, 0.6149, 0.5734, 0.5788, 0.5879, 0.5639, 0.5082, 0.5499, 0.4494, 0.4808, 0.4941, 0.4784, 0.47, 0.4799, 0.4874, 0.3487, 0.415, 0.43, 0.4214, 0.564, 0.5679, 0.512, 0.5254, 0.4897, 0.4489, 0.4213, 0.4218, 0.4342, 0.4228, 0.4376, 0.4548, 0.4245, 0.4096, 0.4189, 0.388, 0.376, 0.3933, 0.394, 0.3546, 0.3264, 0.3661], \"yaxis\": \"y\"}, {\"hovertemplate\": \"variable=DATAUSDT<br>date=%{x}<br>value=%{y}<extra></extra>\", \"legendgroup\": \"DATAUSDT\", \"line\": {\"color\": \"#ab63fa\", \"dash\": \"solid\"}, \"mode\": \"lines\", \"name\": \"DATAUSDT\", \"showlegend\": true, \"type\": \"scattergl\", \"x\": [\"2021-03-01T00:00:00\", \"2021-03-02T00:00:00\", \"2021-03-03T00:00:00\", \"2021-03-04T00:00:00\", \"2021-03-05T00:00:00\", \"2021-03-06T00:00:00\", \"2021-03-07T00:00:00\", \"2021-03-08T00:00:00\", \"2021-03-09T00:00:00\", \"2021-03-10T00:00:00\", \"2021-03-11T00:00:00\", \"2021-03-12T00:00:00\", \"2021-03-13T00:00:00\", \"2021-03-14T00:00:00\", \"2021-03-15T00:00:00\", \"2021-03-16T00:00:00\", \"2021-03-17T00:00:00\", \"2021-03-18T00:00:00\", \"2021-03-19T00:00:00\", \"2021-03-20T00:00:00\", \"2021-03-21T00:00:00\", \"2021-03-22T00:00:00\", \"2021-03-23T00:00:00\", \"2021-03-24T00:00:00\", \"2021-03-25T00:00:00\", \"2021-03-26T00:00:00\", \"2021-03-27T00:00:00\", \"2021-03-28T00:00:00\", \"2021-03-29T00:00:00\", \"2021-03-30T00:00:00\", \"2021-03-31T00:00:00\", \"2021-04-01T00:00:00\", \"2021-04-02T00:00:00\", \"2021-04-03T00:00:00\", \"2021-04-04T00:00:00\", \"2021-04-05T00:00:00\", \"2021-04-06T00:00:00\", \"2021-04-07T00:00:00\", \"2021-04-08T00:00:00\", \"2021-04-09T00:00:00\", \"2021-04-10T00:00:00\", \"2021-04-11T00:00:00\", \"2021-04-12T00:00:00\", \"2021-04-13T00:00:00\", \"2021-04-14T00:00:00\", \"2021-04-15T00:00:00\", \"2021-04-16T00:00:00\", \"2021-04-17T00:00:00\", \"2021-04-18T00:00:00\", \"2021-04-19T00:00:00\", \"2021-04-20T00:00:00\", \"2021-04-21T00:00:00\", \"2021-04-22T00:00:00\", \"2021-04-23T00:00:00\", \"2021-04-24T00:00:00\", \"2021-04-25T00:00:00\", \"2021-04-26T00:00:00\", \"2021-04-27T00:00:00\", \"2021-04-28T00:00:00\", \"2021-04-29T00:00:00\", \"2021-04-30T00:00:00\", \"2021-05-01T00:00:00\", \"2021-05-02T00:00:00\", \"2021-05-03T00:00:00\", \"2021-05-04T00:00:00\", \"2021-05-05T00:00:00\", \"2021-05-06T00:00:00\", \"2021-05-07T00:00:00\", \"2021-05-08T00:00:00\", \"2021-05-09T00:00:00\", \"2021-05-10T00:00:00\", \"2021-05-11T00:00:00\", \"2021-05-12T00:00:00\", \"2021-05-13T00:00:00\", \"2021-05-14T00:00:00\", \"2021-05-15T00:00:00\", \"2021-05-16T00:00:00\", \"2021-05-17T00:00:00\", \"2021-05-18T00:00:00\", \"2021-05-19T00:00:00\", \"2021-05-20T00:00:00\", \"2021-05-21T00:00:00\", \"2021-05-22T00:00:00\", \"2021-05-23T00:00:00\", \"2021-05-24T00:00:00\", \"2021-05-25T00:00:00\", \"2021-05-26T00:00:00\", \"2021-05-27T00:00:00\", \"2021-05-28T00:00:00\", \"2021-05-29T00:00:00\", \"2021-05-30T00:00:00\", \"2021-05-31T00:00:00\", \"2021-06-01T00:00:00\", \"2021-06-02T00:00:00\", \"2021-06-03T00:00:00\", \"2021-06-04T00:00:00\", \"2021-06-05T00:00:00\", \"2021-06-06T00:00:00\", \"2021-06-07T00:00:00\", \"2021-06-08T00:00:00\", \"2021-06-09T00:00:00\", \"2021-06-10T00:00:00\", \"2021-06-11T00:00:00\", \"2021-06-12T00:00:00\", \"2021-06-13T00:00:00\"], \"xaxis\": \"x\", \"y\": [0.08787, 0.08916, 0.0905, 0.08976, 0.09779, 0.09992, 0.09616, 0.10343, 0.11892, 0.10793, 0.11509, 0.1359, 0.13061, 0.13762, 0.15351, 0.1561, 0.1532, 0.13938, 0.155, 0.14251, 0.14169, 0.14222, 0.15767, 0.15787, 0.14436, 0.16339, 0.16007, 0.16586, 0.1714, 0.18651, 0.17933, 0.17957, 0.17606, 0.1648, 0.18306, 0.19219, 0.25803, 0.20615, 0.21493, 0.20228, 0.20208, 0.21829, 0.2031, 0.19477, 0.20782, 0.1996, 0.19553, 0.19525, 0.1709, 0.15177, 0.16128, 0.1496, 0.13187, 0.12708, 0.11603, 0.1194, 0.13781, 0.15306, 0.14869, 0.14764, 0.16937, 0.17092, 0.16551, 0.18349, 0.17469, 0.19698, 0.178, 0.17809, 0.17285, 0.16456, 0.14446, 0.15333, 0.12951, 0.12837, 0.13396, 0.15105, 0.14409, 0.12931, 0.12707, 0.08436, 0.096, 0.07953, 0.074, 0.06136, 0.0782, 0.07729, 0.09542, 0.0853, 0.07283, 0.07432, 0.08212, 0.08585, 0.08361, 0.08595, 0.09035, 0.08067, 0.0751, 0.07927, 0.07178, 0.09011, 0.14025, 0.19056, 0.1549, 0.1815, 0.20271], \"yaxis\": \"y\"}, {\"hovertemplate\": \"variable=ONGUSDT<br>date=%{x}<br>value=%{y}<extra></extra>\", \"legendgroup\": \"ONGUSDT\", \"line\": {\"color\": \"#FFA15A\", \"dash\": \"solid\"}, \"mode\": \"lines\", \"name\": \"ONGUSDT\", \"showlegend\": true, \"type\": \"scattergl\", \"x\": [\"2021-03-01T00:00:00\", \"2021-03-02T00:00:00\", \"2021-03-03T00:00:00\", \"2021-03-04T00:00:00\", \"2021-03-05T00:00:00\", \"2021-03-06T00:00:00\", \"2021-03-07T00:00:00\", \"2021-03-08T00:00:00\", \"2021-03-09T00:00:00\", \"2021-03-10T00:00:00\", \"2021-03-11T00:00:00\", \"2021-03-12T00:00:00\", \"2021-03-13T00:00:00\", \"2021-03-14T00:00:00\", \"2021-03-15T00:00:00\", \"2021-03-16T00:00:00\", \"2021-03-17T00:00:00\", \"2021-03-18T00:00:00\", \"2021-03-19T00:00:00\", \"2021-03-20T00:00:00\", \"2021-03-21T00:00:00\", \"2021-03-22T00:00:00\", \"2021-03-23T00:00:00\", \"2021-03-24T00:00:00\", \"2021-03-25T00:00:00\", \"2021-03-26T00:00:00\", \"2021-03-27T00:00:00\", \"2021-03-28T00:00:00\", \"2021-03-29T00:00:00\", \"2021-03-30T00:00:00\", \"2021-03-31T00:00:00\", \"2021-04-01T00:00:00\", \"2021-04-02T00:00:00\", \"2021-04-03T00:00:00\", \"2021-04-04T00:00:00\", \"2021-04-05T00:00:00\", \"2021-04-06T00:00:00\", \"2021-04-07T00:00:00\", \"2021-04-08T00:00:00\", \"2021-04-09T00:00:00\", \"2021-04-10T00:00:00\", \"2021-04-11T00:00:00\", \"2021-04-12T00:00:00\", \"2021-04-13T00:00:00\", \"2021-04-14T00:00:00\", \"2021-04-15T00:00:00\", \"2021-04-16T00:00:00\", \"2021-04-17T00:00:00\", \"2021-04-18T00:00:00\", \"2021-04-19T00:00:00\", \"2021-04-20T00:00:00\", \"2021-04-21T00:00:00\", \"2021-04-22T00:00:00\", \"2021-04-23T00:00:00\", \"2021-04-24T00:00:00\", \"2021-04-25T00:00:00\", \"2021-04-26T00:00:00\", \"2021-04-27T00:00:00\", \"2021-04-28T00:00:00\", \"2021-04-29T00:00:00\", \"2021-04-30T00:00:00\", \"2021-05-01T00:00:00\", \"2021-05-02T00:00:00\", \"2021-05-03T00:00:00\", \"2021-05-04T00:00:00\", \"2021-05-05T00:00:00\", \"2021-05-06T00:00:00\", \"2021-05-07T00:00:00\", \"2021-05-08T00:00:00\", \"2021-05-09T00:00:00\", \"2021-05-10T00:00:00\", \"2021-05-11T00:00:00\", \"2021-05-12T00:00:00\", \"2021-05-13T00:00:00\", \"2021-05-14T00:00:00\", \"2021-05-15T00:00:00\", \"2021-05-16T00:00:00\", \"2021-05-17T00:00:00\", \"2021-05-18T00:00:00\", \"2021-05-19T00:00:00\", \"2021-05-20T00:00:00\", \"2021-05-21T00:00:00\", \"2021-05-22T00:00:00\", \"2021-05-23T00:00:00\", \"2021-05-24T00:00:00\", \"2021-05-25T00:00:00\", \"2021-05-26T00:00:00\", \"2021-05-27T00:00:00\", \"2021-05-28T00:00:00\", \"2021-05-29T00:00:00\", \"2021-05-30T00:00:00\", \"2021-05-31T00:00:00\", \"2021-06-01T00:00:00\", \"2021-06-02T00:00:00\", \"2021-06-03T00:00:00\", \"2021-06-04T00:00:00\", \"2021-06-05T00:00:00\", \"2021-06-06T00:00:00\", \"2021-06-07T00:00:00\", \"2021-06-08T00:00:00\", \"2021-06-09T00:00:00\", \"2021-06-10T00:00:00\", \"2021-06-11T00:00:00\", \"2021-06-12T00:00:00\", \"2021-06-13T00:00:00\"], \"xaxis\": \"x\", \"y\": [0.5286, 0.4999, 0.5203, 0.5541, 0.6913, 0.7626, 0.7888, 0.7665, 0.7679, 0.763, 0.7457, 0.742, 0.7699, 0.7764, 0.7364, 0.722, 0.7711, 0.7644, 0.8133, 0.7615, 0.7915, 0.7997, 0.856, 0.7352, 0.6915, 0.7518, 0.8921, 0.8781, 0.937, 1.0083, 1.0245, 0.969, 1.0801, 1.1088, 1.214, 1.1686, 1.0994, 0.9606, 1.0825, 1.1855, 1.2324, 1.2135, 1.1638, 1.1615, 1.1461, 1.2549, 1.3563, 1.3005, 1.2961, 1.131, 1.1021, 1.0513, 0.8442, 0.7958, 0.7353, 0.7533, 0.8849, 0.9627, 0.9299, 0.9307, 1.0069, 0.9994, 1.003, 1.0033, 0.8662, 0.9898, 1.0975, 1.0584, 1.0369, 1.0338, 0.8988, 0.9724, 0.7956, 0.8062, 0.8414, 0.7817, 0.7794, 0.6959, 0.7277, 0.5153, 2.4318, 1.3506, 0.8925, 0.7534, 0.9185, 1.0436, 1.1722, 1.065, 1.1689, 1.0449, 1.0348, 1.0609, 1.0147, 1.0517, 1.0986, 1.0087, 0.9579, 1.0378, 0.935, 0.9221, 0.9842, 0.9379, 0.8579, 0.784, 0.8427], \"yaxis\": \"y\"}, {\"hovertemplate\": \"variable=IRISUSDT<br>date=%{x}<br>value=%{y}<extra></extra>\", \"legendgroup\": \"IRISUSDT\", \"line\": {\"color\": \"#19d3f3\", \"dash\": \"solid\"}, \"mode\": \"lines\", \"name\": \"IRISUSDT\", \"showlegend\": true, \"type\": \"scattergl\", \"x\": [\"2021-03-01T00:00:00\", \"2021-03-02T00:00:00\", \"2021-03-03T00:00:00\", \"2021-03-04T00:00:00\", \"2021-03-05T00:00:00\", \"2021-03-06T00:00:00\", \"2021-03-07T00:00:00\", \"2021-03-08T00:00:00\", \"2021-03-09T00:00:00\", \"2021-03-10T00:00:00\", \"2021-03-11T00:00:00\", \"2021-03-12T00:00:00\", \"2021-03-13T00:00:00\", \"2021-03-14T00:00:00\", \"2021-03-15T00:00:00\", \"2021-03-16T00:00:00\", \"2021-03-17T00:00:00\", \"2021-03-18T00:00:00\", \"2021-03-19T00:00:00\", \"2021-03-20T00:00:00\", \"2021-03-21T00:00:00\", \"2021-03-22T00:00:00\", \"2021-03-23T00:00:00\", \"2021-03-24T00:00:00\", \"2021-03-25T00:00:00\", \"2021-03-26T00:00:00\", \"2021-03-27T00:00:00\", \"2021-03-28T00:00:00\", \"2021-03-29T00:00:00\", \"2021-03-30T00:00:00\", \"2021-03-31T00:00:00\", \"2021-04-01T00:00:00\", \"2021-04-02T00:00:00\", \"2021-04-03T00:00:00\", \"2021-04-04T00:00:00\", \"2021-04-05T00:00:00\", \"2021-04-06T00:00:00\", \"2021-04-07T00:00:00\", \"2021-04-08T00:00:00\", \"2021-04-09T00:00:00\", \"2021-04-10T00:00:00\", \"2021-04-11T00:00:00\", \"2021-04-12T00:00:00\", \"2021-04-13T00:00:00\", \"2021-04-14T00:00:00\", \"2021-04-15T00:00:00\", \"2021-04-16T00:00:00\", \"2021-04-17T00:00:00\", \"2021-04-18T00:00:00\", \"2021-04-19T00:00:00\", \"2021-04-20T00:00:00\", \"2021-04-21T00:00:00\", \"2021-04-22T00:00:00\", \"2021-04-23T00:00:00\", \"2021-04-24T00:00:00\", \"2021-04-25T00:00:00\", \"2021-04-26T00:00:00\", \"2021-04-27T00:00:00\", \"2021-04-28T00:00:00\", \"2021-04-29T00:00:00\", \"2021-04-30T00:00:00\", \"2021-05-01T00:00:00\", \"2021-05-02T00:00:00\", \"2021-05-03T00:00:00\", \"2021-05-04T00:00:00\", \"2021-05-05T00:00:00\", \"2021-05-06T00:00:00\", \"2021-05-07T00:00:00\", \"2021-05-08T00:00:00\", \"2021-05-09T00:00:00\", \"2021-05-10T00:00:00\", \"2021-05-11T00:00:00\", \"2021-05-12T00:00:00\", \"2021-05-13T00:00:00\", \"2021-05-14T00:00:00\", \"2021-05-15T00:00:00\", \"2021-05-16T00:00:00\", \"2021-05-17T00:00:00\", \"2021-05-18T00:00:00\", \"2021-05-19T00:00:00\", \"2021-05-20T00:00:00\", \"2021-05-21T00:00:00\", \"2021-05-22T00:00:00\", \"2021-05-23T00:00:00\", \"2021-05-24T00:00:00\", \"2021-05-25T00:00:00\", \"2021-05-26T00:00:00\", \"2021-05-27T00:00:00\", \"2021-05-28T00:00:00\", \"2021-05-29T00:00:00\", \"2021-05-30T00:00:00\", \"2021-05-31T00:00:00\", \"2021-06-01T00:00:00\", \"2021-06-02T00:00:00\", \"2021-06-03T00:00:00\", \"2021-06-04T00:00:00\", \"2021-06-05T00:00:00\", \"2021-06-06T00:00:00\", \"2021-06-07T00:00:00\", \"2021-06-08T00:00:00\", \"2021-06-09T00:00:00\", \"2021-06-10T00:00:00\", \"2021-06-11T00:00:00\", \"2021-06-12T00:00:00\", \"2021-06-13T00:00:00\"], \"xaxis\": \"x\", \"y\": [0.10565, 0.10033, 0.1052, 0.10575, 0.11494, 0.10726, 0.11455, 0.12791, 0.14854, 0.1688, 0.15882, 0.17267, 0.1757, 0.16635, 0.2, 0.21226, 0.24196, 0.24385, 0.23589, 0.23518, 0.23223, 0.20029, 0.19197, 0.1915, 0.176, 0.21722, 0.2174, 0.22663, 0.24259, 0.2339, 0.21849, 0.21251, 0.2131, 0.20561, 0.22174, 0.22596, 0.22319, 0.198, 0.22123, 0.21626, 0.20905, 0.26871, 0.2431, 0.25601, 0.2435, 0.24418, 0.21177, 0.22142, 0.1925, 0.16885, 0.17451, 0.16026, 0.1405, 0.13587, 0.11932, 0.12568, 0.14999, 0.163, 0.15071, 0.14857, 0.17516, 0.16866, 0.18201, 0.21999, 0.19026, 0.19707, 0.1804, 0.18181, 0.17685, 0.16918, 0.15086, 0.16771, 0.16007, 0.15172, 0.1522, 0.13812, 0.1379, 0.1242, 0.12697, 0.08222, 0.09648, 0.08151, 0.08533, 0.065, 0.08453, 0.08418, 0.08875, 0.08666, 0.07421, 0.06994, 0.07682, 0.08355, 0.0825, 0.08652, 0.08851, 0.07902, 0.07629, 0.10537, 0.08058, 0.07932, 0.08283, 0.07999, 0.07708, 0.0753, 0.08019], \"yaxis\": \"y\"}, {\"hovertemplate\": \"variable=BZRXUSDT<br>date=%{x}<br>value=%{y}<extra></extra>\", \"legendgroup\": \"BZRXUSDT\", \"line\": {\"color\": \"#FF6692\", \"dash\": \"solid\"}, \"mode\": \"lines\", \"name\": \"BZRXUSDT\", \"showlegend\": true, \"type\": \"scattergl\", \"x\": [\"2021-03-01T00:00:00\", \"2021-03-02T00:00:00\", \"2021-03-03T00:00:00\", \"2021-03-04T00:00:00\", \"2021-03-05T00:00:00\", \"2021-03-06T00:00:00\", \"2021-03-07T00:00:00\", \"2021-03-08T00:00:00\", \"2021-03-09T00:00:00\", \"2021-03-10T00:00:00\", \"2021-03-11T00:00:00\", \"2021-03-12T00:00:00\", \"2021-03-13T00:00:00\", \"2021-03-14T00:00:00\", \"2021-03-15T00:00:00\", \"2021-03-16T00:00:00\", \"2021-03-17T00:00:00\", \"2021-03-18T00:00:00\", \"2021-03-19T00:00:00\", \"2021-03-20T00:00:00\", \"2021-03-21T00:00:00\", \"2021-03-22T00:00:00\", \"2021-03-23T00:00:00\", \"2021-03-24T00:00:00\", \"2021-03-25T00:00:00\", \"2021-03-26T00:00:00\", \"2021-03-27T00:00:00\", \"2021-03-28T00:00:00\", \"2021-03-29T00:00:00\", \"2021-03-30T00:00:00\", \"2021-03-31T00:00:00\", \"2021-04-01T00:00:00\", \"2021-04-02T00:00:00\", \"2021-04-03T00:00:00\", \"2021-04-04T00:00:00\", \"2021-04-05T00:00:00\", \"2021-04-06T00:00:00\", \"2021-04-07T00:00:00\", \"2021-04-08T00:00:00\", \"2021-04-09T00:00:00\", \"2021-04-10T00:00:00\", \"2021-04-11T00:00:00\", \"2021-04-12T00:00:00\", \"2021-04-13T00:00:00\", \"2021-04-14T00:00:00\", \"2021-04-15T00:00:00\", \"2021-04-16T00:00:00\", \"2021-04-17T00:00:00\", \"2021-04-18T00:00:00\", \"2021-04-19T00:00:00\", \"2021-04-20T00:00:00\", \"2021-04-21T00:00:00\", \"2021-04-22T00:00:00\", \"2021-04-23T00:00:00\", \"2021-04-24T00:00:00\", \"2021-04-25T00:00:00\", \"2021-04-26T00:00:00\", \"2021-04-27T00:00:00\", \"2021-04-28T00:00:00\", \"2021-04-29T00:00:00\", \"2021-04-30T00:00:00\", \"2021-05-01T00:00:00\", \"2021-05-02T00:00:00\", \"2021-05-03T00:00:00\", \"2021-05-04T00:00:00\", \"2021-05-05T00:00:00\", \"2021-05-06T00:00:00\", \"2021-05-07T00:00:00\", \"2021-05-08T00:00:00\", \"2021-05-09T00:00:00\", \"2021-05-10T00:00:00\", \"2021-05-11T00:00:00\", \"2021-05-12T00:00:00\", \"2021-05-13T00:00:00\", \"2021-05-14T00:00:00\", \"2021-05-15T00:00:00\", \"2021-05-16T00:00:00\", \"2021-05-17T00:00:00\", \"2021-05-18T00:00:00\", \"2021-05-19T00:00:00\", \"2021-05-20T00:00:00\", \"2021-05-21T00:00:00\", \"2021-05-22T00:00:00\", \"2021-05-23T00:00:00\", \"2021-05-24T00:00:00\", \"2021-05-25T00:00:00\", \"2021-05-26T00:00:00\", \"2021-05-27T00:00:00\", \"2021-05-28T00:00:00\", \"2021-05-29T00:00:00\", \"2021-05-30T00:00:00\", \"2021-05-31T00:00:00\", \"2021-06-01T00:00:00\", \"2021-06-02T00:00:00\", \"2021-06-03T00:00:00\", \"2021-06-04T00:00:00\", \"2021-06-05T00:00:00\", \"2021-06-06T00:00:00\", \"2021-06-07T00:00:00\", \"2021-06-08T00:00:00\", \"2021-06-09T00:00:00\", \"2021-06-10T00:00:00\", \"2021-06-11T00:00:00\", \"2021-06-12T00:00:00\", \"2021-06-13T00:00:00\"], \"xaxis\": \"x\", \"y\": [0.4319, 0.4354, 0.4882, 0.446, 0.4326, 0.4488, 0.4591, 0.5339, 0.5608, 0.5201, 0.5132, 0.4857, 0.5168, 0.4859, 0.4946, 0.6066, 0.5759, 0.6112, 0.5967, 0.5858, 0.5648, 0.5144, 0.5111, 0.4659, 0.451, 0.5198, 0.5247, 0.5779, 0.6108, 0.6936, 0.7084, 0.6709, 0.6975, 0.6321, 0.7376, 0.7784, 0.8313, 0.8416, 0.9181, 0.8535, 0.8165, 0.8226, 0.8923, 0.8496, 0.8403, 0.975, 0.912, 0.9093, 0.769, 0.6997, 0.7251, 0.781, 0.6585, 0.6043, 0.5815, 0.5739, 0.7663, 0.7834, 0.7258, 0.8917, 0.8654, 0.84, 0.8324, 0.8608, 0.957, 1.0018, 0.9013, 0.9387, 0.9064, 0.8696, 0.7349, 0.7831, 0.6676, 0.7098, 0.7732, 0.6865, 0.6818, 0.6574, 0.6668, 0.3454, 0.3899, 0.3135, 0.2915, 0.2404, 0.2989, 0.2968, 0.3785, 0.3681, 0.3156, 0.2761, 0.31, 0.3297, 0.3284, 0.3483, 0.3711, 0.3257, 0.3142, 0.337, 0.2843, 0.2756, 0.2948, 0.2763, 0.2723, 0.2588, 0.2733], \"yaxis\": \"y\"}, {\"hovertemplate\": \"variable=FIOUSDT<br>date=%{x}<br>value=%{y}<extra></extra>\", \"legendgroup\": \"FIOUSDT\", \"line\": {\"color\": \"#B6E880\", \"dash\": \"solid\"}, \"mode\": \"lines\", \"name\": \"FIOUSDT\", \"showlegend\": true, \"type\": \"scattergl\", \"x\": [\"2021-03-01T00:00:00\", \"2021-03-02T00:00:00\", \"2021-03-03T00:00:00\", \"2021-03-04T00:00:00\", \"2021-03-05T00:00:00\", \"2021-03-06T00:00:00\", \"2021-03-07T00:00:00\", \"2021-03-08T00:00:00\", \"2021-03-09T00:00:00\", \"2021-03-10T00:00:00\", \"2021-03-11T00:00:00\", \"2021-03-12T00:00:00\", \"2021-03-13T00:00:00\", \"2021-03-14T00:00:00\", \"2021-03-15T00:00:00\", \"2021-03-16T00:00:00\", \"2021-03-17T00:00:00\", \"2021-03-18T00:00:00\", \"2021-03-19T00:00:00\", \"2021-03-20T00:00:00\", \"2021-03-21T00:00:00\", \"2021-03-22T00:00:00\", \"2021-03-23T00:00:00\", \"2021-03-24T00:00:00\", \"2021-03-25T00:00:00\", \"2021-03-26T00:00:00\", \"2021-03-27T00:00:00\", \"2021-03-28T00:00:00\", \"2021-03-29T00:00:00\", \"2021-03-30T00:00:00\", \"2021-03-31T00:00:00\", \"2021-04-01T00:00:00\", \"2021-04-02T00:00:00\", \"2021-04-03T00:00:00\", \"2021-04-04T00:00:00\", \"2021-04-05T00:00:00\", \"2021-04-06T00:00:00\", \"2021-04-07T00:00:00\", \"2021-04-08T00:00:00\", \"2021-04-09T00:00:00\", \"2021-04-10T00:00:00\", \"2021-04-11T00:00:00\", \"2021-04-12T00:00:00\", \"2021-04-13T00:00:00\", \"2021-04-14T00:00:00\", \"2021-04-15T00:00:00\", \"2021-04-16T00:00:00\", \"2021-04-17T00:00:00\", \"2021-04-18T00:00:00\", \"2021-04-19T00:00:00\", \"2021-04-20T00:00:00\", \"2021-04-21T00:00:00\", \"2021-04-22T00:00:00\", \"2021-04-23T00:00:00\", \"2021-04-24T00:00:00\", \"2021-04-25T00:00:00\", \"2021-04-26T00:00:00\", \"2021-04-27T00:00:00\", \"2021-04-28T00:00:00\", \"2021-04-29T00:00:00\", \"2021-04-30T00:00:00\", \"2021-05-01T00:00:00\", \"2021-05-02T00:00:00\", \"2021-05-03T00:00:00\", \"2021-05-04T00:00:00\", \"2021-05-05T00:00:00\", \"2021-05-06T00:00:00\", \"2021-05-07T00:00:00\", \"2021-05-08T00:00:00\", \"2021-05-09T00:00:00\", \"2021-05-10T00:00:00\", \"2021-05-11T00:00:00\", \"2021-05-12T00:00:00\", \"2021-05-13T00:00:00\", \"2021-05-14T00:00:00\", \"2021-05-15T00:00:00\", \"2021-05-16T00:00:00\", \"2021-05-17T00:00:00\", \"2021-05-18T00:00:00\", \"2021-05-19T00:00:00\", \"2021-05-20T00:00:00\", \"2021-05-21T00:00:00\", \"2021-05-22T00:00:00\", \"2021-05-23T00:00:00\", \"2021-05-24T00:00:00\", \"2021-05-25T00:00:00\", \"2021-05-26T00:00:00\", \"2021-05-27T00:00:00\", \"2021-05-28T00:00:00\", \"2021-05-29T00:00:00\", \"2021-05-30T00:00:00\", \"2021-05-31T00:00:00\", \"2021-06-01T00:00:00\", \"2021-06-02T00:00:00\", \"2021-06-03T00:00:00\", \"2021-06-04T00:00:00\", \"2021-06-05T00:00:00\", \"2021-06-06T00:00:00\", \"2021-06-07T00:00:00\", \"2021-06-08T00:00:00\", \"2021-06-09T00:00:00\", \"2021-06-10T00:00:00\", \"2021-06-11T00:00:00\", \"2021-06-12T00:00:00\", \"2021-06-13T00:00:00\"], \"xaxis\": \"x\", \"y\": [0.228, 0.2075, 0.2012, 0.2086, 0.1948, 0.1887, 0.1919, 0.2022, 0.2258, 0.2107, 0.2117, 0.2077, 0.3408, 0.3017, 0.2811, 0.2821, 0.3126, 0.3041, 0.2979, 0.3163, 0.2965, 0.2827, 0.2769, 0.2867, 0.2725, 0.3041, 0.3369, 0.3401, 0.3315, 0.3432, 0.3218, 0.3101, 0.3167, 0.3513, 0.4008, 0.4503, 0.4697, 0.3963, 0.4001, 0.4028, 0.4344, 0.4116, 0.3911, 0.383, 0.4158, 0.3961, 0.4074, 0.3964, 0.3464, 0.3004, 0.3026, 0.2784, 0.2596, 0.2367, 0.2551, 0.3076, 0.3231, 0.3287, 0.3221, 0.3309, 0.3616, 0.3522, 0.3555, 0.3597, 0.3204, 0.356, 0.3282, 0.3473, 0.3537, 0.3374, 0.3003, 0.3159, 0.2647, 0.2797, 0.2841, 0.2937, 0.2823, 0.2597, 0.2636, 0.1707, 0.1925, 0.1706, 0.1596, 0.1251, 0.1606, 0.1574, 0.1934, 0.195, 0.175, 0.1829, 0.1819, 0.1846, 0.1738, 0.1808, 0.1838, 0.1685, 0.1621, 0.1879, 0.1626, 0.19, 0.253, 0.2315, 0.2013, 0.1889, 0.1991], \"yaxis\": \"y\"}, {\"hovertemplate\": \"variable=GTOUSDT<br>date=%{x}<br>value=%{y}<extra></extra>\", \"legendgroup\": \"GTOUSDT\", \"line\": {\"color\": \"#FF97FF\", \"dash\": \"solid\"}, \"mode\": \"lines\", \"name\": \"GTOUSDT\", \"showlegend\": true, \"type\": \"scattergl\", \"x\": [\"2021-03-01T00:00:00\", \"2021-03-02T00:00:00\", \"2021-03-03T00:00:00\", \"2021-03-04T00:00:00\", \"2021-03-05T00:00:00\", \"2021-03-06T00:00:00\", \"2021-03-07T00:00:00\", \"2021-03-08T00:00:00\", \"2021-03-09T00:00:00\", \"2021-03-10T00:00:00\", \"2021-03-11T00:00:00\", \"2021-03-12T00:00:00\", \"2021-03-13T00:00:00\", \"2021-03-14T00:00:00\", \"2021-03-15T00:00:00\", \"2021-03-16T00:00:00\", \"2021-03-17T00:00:00\", \"2021-03-18T00:00:00\", \"2021-03-19T00:00:00\", \"2021-03-20T00:00:00\", \"2021-03-21T00:00:00\", \"2021-03-22T00:00:00\", \"2021-03-23T00:00:00\", \"2021-03-24T00:00:00\", \"2021-03-25T00:00:00\", \"2021-03-26T00:00:00\", \"2021-03-27T00:00:00\", \"2021-03-28T00:00:00\", \"2021-03-29T00:00:00\", \"2021-03-30T00:00:00\", \"2021-03-31T00:00:00\", \"2021-04-01T00:00:00\", \"2021-04-02T00:00:00\", \"2021-04-03T00:00:00\", \"2021-04-04T00:00:00\", \"2021-04-05T00:00:00\", \"2021-04-06T00:00:00\", \"2021-04-07T00:00:00\", \"2021-04-08T00:00:00\", \"2021-04-09T00:00:00\", \"2021-04-10T00:00:00\", \"2021-04-11T00:00:00\", \"2021-04-12T00:00:00\", \"2021-04-13T00:00:00\", \"2021-04-14T00:00:00\", \"2021-04-15T00:00:00\", \"2021-04-16T00:00:00\", \"2021-04-17T00:00:00\", \"2021-04-18T00:00:00\", \"2021-04-19T00:00:00\", \"2021-04-20T00:00:00\", \"2021-04-21T00:00:00\", \"2021-04-22T00:00:00\", \"2021-04-23T00:00:00\", \"2021-04-24T00:00:00\", \"2021-04-25T00:00:00\", \"2021-04-26T00:00:00\", \"2021-04-27T00:00:00\", \"2021-04-28T00:00:00\", \"2021-04-29T00:00:00\", \"2021-04-30T00:00:00\", \"2021-05-01T00:00:00\", \"2021-05-02T00:00:00\", \"2021-05-03T00:00:00\", \"2021-05-04T00:00:00\", \"2021-05-05T00:00:00\", \"2021-05-06T00:00:00\", \"2021-05-07T00:00:00\", \"2021-05-08T00:00:00\", \"2021-05-09T00:00:00\", \"2021-05-10T00:00:00\", \"2021-05-11T00:00:00\", \"2021-05-12T00:00:00\", \"2021-05-13T00:00:00\", \"2021-05-14T00:00:00\", \"2021-05-15T00:00:00\", \"2021-05-16T00:00:00\", \"2021-05-17T00:00:00\", \"2021-05-18T00:00:00\", \"2021-05-19T00:00:00\", \"2021-05-20T00:00:00\", \"2021-05-21T00:00:00\", \"2021-05-22T00:00:00\", \"2021-05-23T00:00:00\", \"2021-05-24T00:00:00\", \"2021-05-25T00:00:00\", \"2021-05-26T00:00:00\", \"2021-05-27T00:00:00\", \"2021-05-28T00:00:00\", \"2021-05-29T00:00:00\", \"2021-05-30T00:00:00\", \"2021-05-31T00:00:00\", \"2021-06-01T00:00:00\", \"2021-06-02T00:00:00\", \"2021-06-03T00:00:00\", \"2021-06-04T00:00:00\", \"2021-06-05T00:00:00\", \"2021-06-06T00:00:00\", \"2021-06-07T00:00:00\", \"2021-06-08T00:00:00\", \"2021-06-09T00:00:00\", \"2021-06-10T00:00:00\", \"2021-06-11T00:00:00\", \"2021-06-12T00:00:00\", \"2021-06-13T00:00:00\"], \"xaxis\": \"x\", \"y\": [0.02009, 0.01892, 0.02061, 0.02128, 0.02337, 0.02274, 0.02371, 0.02305, 0.0245, 0.03189, 0.03127, 0.03112, 0.03691, 0.03303, 0.03589, 0.0396, 0.03912, 0.04069, 0.04275, 0.04232, 0.04244, 0.04084, 0.03853, 0.03657, 0.03352, 0.03743, 0.03684, 0.04341, 0.04397, 0.07073, 0.07258, 0.06857, 0.06299, 0.05626, 0.06866, 0.11507, 0.1016, 0.09018, 0.12652, 0.11312, 0.10276, 0.13147, 0.11484, 0.11016, 0.10422, 0.10568, 0.09496, 0.10031, 0.08364, 0.07318, 0.0718, 0.08596, 0.07414, 0.06718, 0.05957, 0.06261, 0.0725, 0.083, 0.08277, 0.0801, 0.08364, 0.089, 0.08849, 0.09039, 0.07689, 0.08147, 0.0792, 0.07999, 0.08199, 0.07683, 0.06762, 0.07119, 0.05721, 0.05755, 0.06081, 0.05612, 0.0628, 0.05506, 0.05439, 0.03342, 0.03922, 0.03196, 0.02816, 0.02442, 0.02964, 0.0313, 0.03554, 0.03403, 0.02899, 0.03279, 0.03526, 0.0368, 0.03385, 0.03417, 0.03564, 0.03185, 0.03874, 0.04593, 0.05497, 0.07825, 0.0767, 0.07835, 0.06089, 0.0595, 0.06268], \"yaxis\": \"y\"}, {\"hovertemplate\": \"variable=CTKUSDT<br>date=%{x}<br>value=%{y}<extra></extra>\", \"legendgroup\": \"CTKUSDT\", \"line\": {\"color\": \"#FECB52\", \"dash\": \"solid\"}, \"mode\": \"lines\", \"name\": \"CTKUSDT\", \"showlegend\": true, \"type\": \"scattergl\", \"x\": [\"2021-03-01T00:00:00\", \"2021-03-02T00:00:00\", \"2021-03-03T00:00:00\", \"2021-03-04T00:00:00\", \"2021-03-05T00:00:00\", \"2021-03-06T00:00:00\", \"2021-03-07T00:00:00\", \"2021-03-08T00:00:00\", \"2021-03-09T00:00:00\", \"2021-03-10T00:00:00\", \"2021-03-11T00:00:00\", \"2021-03-12T00:00:00\", \"2021-03-13T00:00:00\", \"2021-03-14T00:00:00\", \"2021-03-15T00:00:00\", \"2021-03-16T00:00:00\", \"2021-03-17T00:00:00\", \"2021-03-18T00:00:00\", \"2021-03-19T00:00:00\", \"2021-03-20T00:00:00\", \"2021-03-21T00:00:00\", \"2021-03-22T00:00:00\", \"2021-03-23T00:00:00\", \"2021-03-24T00:00:00\", \"2021-03-25T00:00:00\", \"2021-03-26T00:00:00\", \"2021-03-27T00:00:00\", \"2021-03-28T00:00:00\", \"2021-03-29T00:00:00\", \"2021-03-30T00:00:00\", \"2021-03-31T00:00:00\", \"2021-04-01T00:00:00\", \"2021-04-02T00:00:00\", \"2021-04-03T00:00:00\", \"2021-04-04T00:00:00\", \"2021-04-05T00:00:00\", \"2021-04-06T00:00:00\", \"2021-04-07T00:00:00\", \"2021-04-08T00:00:00\", \"2021-04-09T00:00:00\", \"2021-04-10T00:00:00\", \"2021-04-11T00:00:00\", \"2021-04-12T00:00:00\", \"2021-04-13T00:00:00\", \"2021-04-14T00:00:00\", \"2021-04-15T00:00:00\", \"2021-04-16T00:00:00\", \"2021-04-17T00:00:00\", \"2021-04-18T00:00:00\", \"2021-04-19T00:00:00\", \"2021-04-20T00:00:00\", \"2021-04-21T00:00:00\", \"2021-04-22T00:00:00\", \"2021-04-23T00:00:00\", \"2021-04-24T00:00:00\", \"2021-04-25T00:00:00\", \"2021-04-26T00:00:00\", \"2021-04-27T00:00:00\", \"2021-04-28T00:00:00\", \"2021-04-29T00:00:00\", \"2021-04-30T00:00:00\", \"2021-05-01T00:00:00\", \"2021-05-02T00:00:00\", \"2021-05-03T00:00:00\", \"2021-05-04T00:00:00\", \"2021-05-05T00:00:00\", \"2021-05-06T00:00:00\", \"2021-05-07T00:00:00\", \"2021-05-08T00:00:00\", \"2021-05-09T00:00:00\", \"2021-05-10T00:00:00\", \"2021-05-11T00:00:00\", \"2021-05-12T00:00:00\", \"2021-05-13T00:00:00\", \"2021-05-14T00:00:00\", \"2021-05-15T00:00:00\", \"2021-05-16T00:00:00\", \"2021-05-17T00:00:00\", \"2021-05-18T00:00:00\", \"2021-05-19T00:00:00\", \"2021-05-20T00:00:00\", \"2021-05-21T00:00:00\", \"2021-05-22T00:00:00\", \"2021-05-23T00:00:00\", \"2021-05-24T00:00:00\", \"2021-05-25T00:00:00\", \"2021-05-26T00:00:00\", \"2021-05-27T00:00:00\", \"2021-05-28T00:00:00\", \"2021-05-29T00:00:00\", \"2021-05-30T00:00:00\", \"2021-05-31T00:00:00\", \"2021-06-01T00:00:00\", \"2021-06-02T00:00:00\", \"2021-06-03T00:00:00\", \"2021-06-04T00:00:00\", \"2021-06-05T00:00:00\", \"2021-06-06T00:00:00\", \"2021-06-07T00:00:00\", \"2021-06-08T00:00:00\", \"2021-06-09T00:00:00\", \"2021-06-10T00:00:00\", \"2021-06-11T00:00:00\", \"2021-06-12T00:00:00\", \"2021-06-13T00:00:00\"], \"xaxis\": \"x\", \"y\": [1.7126, 1.7774, 1.7658, 1.8676, 1.7145, 1.8309, 2.1544, 2.0932, 2.2344, 2.1232, 2.1843, 2.2423, 2.5926, 2.39, 2.5653, 2.491, 2.5096, 2.5842, 2.7309, 2.52, 2.4546, 2.6043, 2.3752, 2.1048, 1.9859, 2.3044, 2.369, 2.6747, 2.77, 2.8474, 2.7382, 3.1447, 3.0114, 3.383, 3.555, 3.4964, 3.7849, 3.2546, 3.4061, 3.5534, 3.3691, 3.4212, 3.2298, 3.244, 3.1784, 3.353, 3.0754, 3.0626, 2.5151, 2.1874, 2.3178, 2.1456, 2.2159, 2.1596, 2.452, 2.267, 2.418, 2.76, 2.574, 2.4393, 2.4991, 2.4972, 2.6578, 2.8815, 2.6093, 3.0135, 2.9745, 2.917, 3.1734, 3.1016, 2.593, 2.6928, 2.1359, 2.2214, 2.3278, 2.0981, 2.1688, 1.955, 1.978, 1.2297, 1.4715, 1.2172, 1.22, 1.1151, 1.3001, 1.3184, 1.457, 1.4077, 1.2002, 1.0868, 1.2634, 1.3358, 1.3074, 1.4371, 1.4554, 1.2517, 1.2444, 1.2708, 1.1571, 1.1399, 1.1977, 1.217, 1.1416, 1.0909, 1.1472], \"yaxis\": \"y\"}],                        {\"legend\": {\"title\": {\"text\": \"variable\"}, \"tracegroupgap\": 0}, \"margin\": {\"t\": 60}, \"template\": {\"data\": {\"bar\": [{\"error_x\": {\"color\": \"#2a3f5f\"}, \"error_y\": {\"color\": \"#2a3f5f\"}, \"marker\": {\"line\": {\"color\": \"#E5ECF6\", \"width\": 0.5}}, \"type\": \"bar\"}], \"barpolar\": [{\"marker\": {\"line\": {\"color\": \"#E5ECF6\", \"width\": 0.5}}, \"type\": \"barpolar\"}], \"carpet\": [{\"aaxis\": {\"endlinecolor\": \"#2a3f5f\", \"gridcolor\": \"white\", \"linecolor\": \"white\", \"minorgridcolor\": \"white\", \"startlinecolor\": \"#2a3f5f\"}, \"baxis\": {\"endlinecolor\": \"#2a3f5f\", \"gridcolor\": \"white\", \"linecolor\": \"white\", \"minorgridcolor\": \"white\", \"startlinecolor\": \"#2a3f5f\"}, \"type\": \"carpet\"}], \"choropleth\": [{\"colorbar\": {\"outlinewidth\": 0, \"ticks\": \"\"}, \"type\": \"choropleth\"}], \"contour\": [{\"colorbar\": {\"outlinewidth\": 0, \"ticks\": \"\"}, \"colorscale\": [[0.0, \"#0d0887\"], [0.1111111111111111, \"#46039f\"], [0.2222222222222222, \"#7201a8\"], [0.3333333333333333, \"#9c179e\"], [0.4444444444444444, \"#bd3786\"], [0.5555555555555556, \"#d8576b\"], [0.6666666666666666, \"#ed7953\"], [0.7777777777777778, \"#fb9f3a\"], [0.8888888888888888, \"#fdca26\"], [1.0, \"#f0f921\"]], \"type\": \"contour\"}], \"contourcarpet\": [{\"colorbar\": {\"outlinewidth\": 0, \"ticks\": \"\"}, \"type\": \"contourcarpet\"}], \"heatmap\": [{\"colorbar\": {\"outlinewidth\": 0, \"ticks\": \"\"}, \"colorscale\": [[0.0, \"#0d0887\"], [0.1111111111111111, \"#46039f\"], [0.2222222222222222, \"#7201a8\"], [0.3333333333333333, \"#9c179e\"], [0.4444444444444444, \"#bd3786\"], [0.5555555555555556, \"#d8576b\"], [0.6666666666666666, \"#ed7953\"], [0.7777777777777778, \"#fb9f3a\"], [0.8888888888888888, \"#fdca26\"], [1.0, \"#f0f921\"]], \"type\": \"heatmap\"}], \"heatmapgl\": [{\"colorbar\": {\"outlinewidth\": 0, \"ticks\": \"\"}, \"colorscale\": [[0.0, \"#0d0887\"], [0.1111111111111111, \"#46039f\"], [0.2222222222222222, \"#7201a8\"], [0.3333333333333333, \"#9c179e\"], [0.4444444444444444, \"#bd3786\"], [0.5555555555555556, \"#d8576b\"], [0.6666666666666666, \"#ed7953\"], [0.7777777777777778, \"#fb9f3a\"], [0.8888888888888888, \"#fdca26\"], [1.0, \"#f0f921\"]], \"type\": \"heatmapgl\"}], \"histogram\": [{\"marker\": {\"colorbar\": {\"outlinewidth\": 0, \"ticks\": \"\"}}, \"type\": \"histogram\"}], \"histogram2d\": [{\"colorbar\": {\"outlinewidth\": 0, \"ticks\": \"\"}, \"colorscale\": [[0.0, \"#0d0887\"], [0.1111111111111111, \"#46039f\"], [0.2222222222222222, \"#7201a8\"], [0.3333333333333333, \"#9c179e\"], [0.4444444444444444, \"#bd3786\"], [0.5555555555555556, \"#d8576b\"], [0.6666666666666666, \"#ed7953\"], [0.7777777777777778, \"#fb9f3a\"], [0.8888888888888888, \"#fdca26\"], [1.0, \"#f0f921\"]], \"type\": \"histogram2d\"}], \"histogram2dcontour\": [{\"colorbar\": {\"outlinewidth\": 0, \"ticks\": \"\"}, \"colorscale\": [[0.0, \"#0d0887\"], [0.1111111111111111, \"#46039f\"], [0.2222222222222222, \"#7201a8\"], [0.3333333333333333, \"#9c179e\"], [0.4444444444444444, \"#bd3786\"], [0.5555555555555556, \"#d8576b\"], [0.6666666666666666, \"#ed7953\"], [0.7777777777777778, \"#fb9f3a\"], [0.8888888888888888, \"#fdca26\"], [1.0, \"#f0f921\"]], \"type\": \"histogram2dcontour\"}], \"mesh3d\": [{\"colorbar\": {\"outlinewidth\": 0, \"ticks\": \"\"}, \"type\": \"mesh3d\"}], \"parcoords\": [{\"line\": {\"colorbar\": {\"outlinewidth\": 0, \"ticks\": \"\"}}, \"type\": \"parcoords\"}], \"pie\": [{\"automargin\": true, \"type\": \"pie\"}], \"scatter\": [{\"marker\": {\"colorbar\": {\"outlinewidth\": 0, \"ticks\": \"\"}}, \"type\": \"scatter\"}], \"scatter3d\": [{\"line\": {\"colorbar\": {\"outlinewidth\": 0, \"ticks\": \"\"}}, \"marker\": {\"colorbar\": {\"outlinewidth\": 0, \"ticks\": \"\"}}, \"type\": \"scatter3d\"}], \"scattercarpet\": [{\"marker\": {\"colorbar\": {\"outlinewidth\": 0, \"ticks\": \"\"}}, \"type\": \"scattercarpet\"}], \"scattergeo\": [{\"marker\": {\"colorbar\": {\"outlinewidth\": 0, \"ticks\": \"\"}}, \"type\": \"scattergeo\"}], \"scattergl\": [{\"marker\": {\"colorbar\": {\"outlinewidth\": 0, \"ticks\": \"\"}}, \"type\": \"scattergl\"}], \"scattermapbox\": [{\"marker\": {\"colorbar\": {\"outlinewidth\": 0, \"ticks\": \"\"}}, \"type\": \"scattermapbox\"}], \"scatterpolar\": [{\"marker\": {\"colorbar\": {\"outlinewidth\": 0, \"ticks\": \"\"}}, \"type\": \"scatterpolar\"}], \"scatterpolargl\": [{\"marker\": {\"colorbar\": {\"outlinewidth\": 0, \"ticks\": \"\"}}, \"type\": \"scatterpolargl\"}], \"scatterternary\": [{\"marker\": {\"colorbar\": {\"outlinewidth\": 0, \"ticks\": \"\"}}, \"type\": \"scatterternary\"}], \"surface\": [{\"colorbar\": {\"outlinewidth\": 0, \"ticks\": \"\"}, \"colorscale\": [[0.0, \"#0d0887\"], [0.1111111111111111, \"#46039f\"], [0.2222222222222222, \"#7201a8\"], [0.3333333333333333, \"#9c179e\"], [0.4444444444444444, \"#bd3786\"], [0.5555555555555556, \"#d8576b\"], [0.6666666666666666, \"#ed7953\"], [0.7777777777777778, \"#fb9f3a\"], [0.8888888888888888, \"#fdca26\"], [1.0, \"#f0f921\"]], \"type\": \"surface\"}], \"table\": [{\"cells\": {\"fill\": {\"color\": \"#EBF0F8\"}, \"line\": {\"color\": \"white\"}}, \"header\": {\"fill\": {\"color\": \"#C8D4E3\"}, \"line\": {\"color\": \"white\"}}, \"type\": \"table\"}]}, \"layout\": {\"annotationdefaults\": {\"arrowcolor\": \"#2a3f5f\", \"arrowhead\": 0, \"arrowwidth\": 1}, \"autotypenumbers\": \"strict\", \"coloraxis\": {\"colorbar\": {\"outlinewidth\": 0, \"ticks\": \"\"}}, \"colorscale\": {\"diverging\": [[0, \"#8e0152\"], [0.1, \"#c51b7d\"], [0.2, \"#de77ae\"], [0.3, \"#f1b6da\"], [0.4, \"#fde0ef\"], [0.5, \"#f7f7f7\"], [0.6, \"#e6f5d0\"], [0.7, \"#b8e186\"], [0.8, \"#7fbc41\"], [0.9, \"#4d9221\"], [1, \"#276419\"]], \"sequential\": [[0.0, \"#0d0887\"], [0.1111111111111111, \"#46039f\"], [0.2222222222222222, \"#7201a8\"], [0.3333333333333333, \"#9c179e\"], [0.4444444444444444, \"#bd3786\"], [0.5555555555555556, \"#d8576b\"], [0.6666666666666666, \"#ed7953\"], [0.7777777777777778, \"#fb9f3a\"], [0.8888888888888888, \"#fdca26\"], [1.0, \"#f0f921\"]], \"sequentialminus\": [[0.0, \"#0d0887\"], [0.1111111111111111, \"#46039f\"], [0.2222222222222222, \"#7201a8\"], [0.3333333333333333, \"#9c179e\"], [0.4444444444444444, \"#bd3786\"], [0.5555555555555556, \"#d8576b\"], [0.6666666666666666, \"#ed7953\"], [0.7777777777777778, \"#fb9f3a\"], [0.8888888888888888, \"#fdca26\"], [1.0, \"#f0f921\"]]}, \"colorway\": [\"#636efa\", \"#EF553B\", \"#00cc96\", \"#ab63fa\", \"#FFA15A\", \"#19d3f3\", \"#FF6692\", \"#B6E880\", \"#FF97FF\", \"#FECB52\"], \"font\": {\"color\": \"#2a3f5f\"}, \"geo\": {\"bgcolor\": \"white\", \"lakecolor\": \"white\", \"landcolor\": \"#E5ECF6\", \"showlakes\": true, \"showland\": true, \"subunitcolor\": \"white\"}, \"hoverlabel\": {\"align\": \"left\"}, \"hovermode\": \"closest\", \"mapbox\": {\"style\": \"light\"}, \"paper_bgcolor\": \"white\", \"plot_bgcolor\": \"#E5ECF6\", \"polar\": {\"angularaxis\": {\"gridcolor\": \"white\", \"linecolor\": \"white\", \"ticks\": \"\"}, \"bgcolor\": \"#E5ECF6\", \"radialaxis\": {\"gridcolor\": \"white\", \"linecolor\": \"white\", \"ticks\": \"\"}}, \"scene\": {\"xaxis\": {\"backgroundcolor\": \"#E5ECF6\", \"gridcolor\": \"white\", \"gridwidth\": 2, \"linecolor\": \"white\", \"showbackground\": true, \"ticks\": \"\", \"zerolinecolor\": \"white\"}, \"yaxis\": {\"backgroundcolor\": \"#E5ECF6\", \"gridcolor\": \"white\", \"gridwidth\": 2, \"linecolor\": \"white\", \"showbackground\": true, \"ticks\": \"\", \"zerolinecolor\": \"white\"}, \"zaxis\": {\"backgroundcolor\": \"#E5ECF6\", \"gridcolor\": \"white\", \"gridwidth\": 2, \"linecolor\": \"white\", \"showbackground\": true, \"ticks\": \"\", \"zerolinecolor\": \"white\"}}, \"shapedefaults\": {\"line\": {\"color\": \"#2a3f5f\"}}, \"ternary\": {\"aaxis\": {\"gridcolor\": \"white\", \"linecolor\": \"white\", \"ticks\": \"\"}, \"baxis\": {\"gridcolor\": \"white\", \"linecolor\": \"white\", \"ticks\": \"\"}, \"bgcolor\": \"#E5ECF6\", \"caxis\": {\"gridcolor\": \"white\", \"linecolor\": \"white\", \"ticks\": \"\"}}, \"title\": {\"x\": 0.05}, \"xaxis\": {\"automargin\": true, \"gridcolor\": \"white\", \"linecolor\": \"white\", \"ticks\": \"\", \"title\": {\"standoff\": 15}, \"zerolinecolor\": \"white\", \"zerolinewidth\": 2}, \"yaxis\": {\"automargin\": true, \"gridcolor\": \"white\", \"linecolor\": \"white\", \"ticks\": \"\", \"title\": {\"standoff\": 15}, \"zerolinecolor\": \"white\", \"zerolinewidth\": 2}}}, \"xaxis\": {\"anchor\": \"y\", \"domain\": [0.0, 1.0], \"title\": {\"text\": \"date\"}}, \"yaxis\": {\"anchor\": \"x\", \"domain\": [0.0, 1.0], \"title\": {\"text\": \"value\"}}},                        {\"responsive\": true}                    ).then(function(){\n",
              "                            \n",
              "var gd = document.getElementById('b3cc5b44-a0f3-41a2-b47e-1fc32e81313d');\n",
              "var x = new MutationObserver(function (mutations, observer) {{\n",
              "        var display = window.getComputedStyle(gd).display;\n",
              "        if (!display || display === 'none') {{\n",
              "            console.log([gd, 'removed!']);\n",
              "            Plotly.purge(gd);\n",
              "            observer.disconnect();\n",
              "        }}\n",
              "}});\n",
              "\n",
              "// Listen for the removal of the full notebook cells\n",
              "var notebookContainer = gd.closest('#notebook-container');\n",
              "if (notebookContainer) {{\n",
              "    x.observe(notebookContainer, {childList: true});\n",
              "}}\n",
              "\n",
              "// Listen for the clearing of the current output cell\n",
              "var outputEl = gd.closest('.output');\n",
              "if (outputEl) {{\n",
              "    x.observe(outputEl, {childList: true});\n",
              "}}\n",
              "\n",
              "                        })                };                            </script>        </div>\n",
              "</body>\n",
              "</html>"
            ]
          },
          "metadata": {
            "tags": []
          }
        }
      ]
    },
    {
      "cell_type": "code",
      "metadata": {
        "colab": {
          "base_uri": "https://localhost:8080/",
          "height": 542
        },
        "id": "seasonal-mounting",
        "outputId": "b33f5cfa-e4e7-4690-e2e1-53760bb063a0"
      },
      "source": [
        "min_max = preprocessing.MinMaxScaler()\n",
        "scaled_df = min_max.fit_transform(df.values)\n",
        "final_df = pd.DataFrame(scaled_df)\n",
        "final_df.columns = df.columns\n",
        "final_df.plot(x=df.index, y = df.columns)"
      ],
      "id": "seasonal-mounting",
      "execution_count": null,
      "outputs": [
        {
          "output_type": "display_data",
          "data": {
            "text/html": [
              "<html>\n",
              "<head><meta charset=\"utf-8\" /></head>\n",
              "<body>\n",
              "    <div>            <script src=\"https://cdnjs.cloudflare.com/ajax/libs/mathjax/2.7.5/MathJax.js?config=TeX-AMS-MML_SVG\"></script><script type=\"text/javascript\">if (window.MathJax) {MathJax.Hub.Config({SVG: {font: \"STIX-Web\"}});}</script>                <script type=\"text/javascript\">window.PlotlyConfig = {MathJaxConfig: 'local'};</script>\n",
              "        <script src=\"https://cdn.plot.ly/plotly-latest.min.js\"></script>                <div id=\"1a307464-440b-44bd-be53-81fbce5ec77e\" class=\"plotly-graph-div\" style=\"height:525px; width:100%;\"></div>            <script type=\"text/javascript\">                                    window.PLOTLYENV=window.PLOTLYENV || {};                                    if (document.getElementById(\"1a307464-440b-44bd-be53-81fbce5ec77e\")) {                    Plotly.newPlot(                        \"1a307464-440b-44bd-be53-81fbce5ec77e\",                        [{\"hovertemplate\": \"variable=TFUELUSDT<br>x=%{x}<br>value=%{y}<extra></extra>\", \"legendgroup\": \"TFUELUSDT\", \"line\": {\"color\": \"#636efa\", \"dash\": \"solid\"}, \"mode\": \"lines\", \"name\": \"TFUELUSDT\", \"showlegend\": true, \"type\": \"scattergl\", \"x\": [\"2021-03-01T00:00:00\", \"2021-03-02T00:00:00\", \"2021-03-03T00:00:00\", \"2021-03-04T00:00:00\", \"2021-03-05T00:00:00\", \"2021-03-06T00:00:00\", \"2021-03-07T00:00:00\", \"2021-03-08T00:00:00\", \"2021-03-09T00:00:00\", \"2021-03-10T00:00:00\", \"2021-03-11T00:00:00\", \"2021-03-12T00:00:00\", \"2021-03-13T00:00:00\", \"2021-03-14T00:00:00\", \"2021-03-15T00:00:00\", \"2021-03-16T00:00:00\", \"2021-03-17T00:00:00\", \"2021-03-18T00:00:00\", \"2021-03-19T00:00:00\", \"2021-03-20T00:00:00\", \"2021-03-21T00:00:00\", \"2021-03-22T00:00:00\", \"2021-03-23T00:00:00\", \"2021-03-24T00:00:00\", \"2021-03-25T00:00:00\", \"2021-03-26T00:00:00\", \"2021-03-27T00:00:00\", \"2021-03-28T00:00:00\", \"2021-03-29T00:00:00\", \"2021-03-30T00:00:00\", \"2021-03-31T00:00:00\", \"2021-04-01T00:00:00\", \"2021-04-02T00:00:00\", \"2021-04-03T00:00:00\", \"2021-04-04T00:00:00\", \"2021-04-05T00:00:00\", \"2021-04-06T00:00:00\", \"2021-04-07T00:00:00\", \"2021-04-08T00:00:00\", \"2021-04-09T00:00:00\", \"2021-04-10T00:00:00\", \"2021-04-11T00:00:00\", \"2021-04-12T00:00:00\", \"2021-04-13T00:00:00\", \"2021-04-14T00:00:00\", \"2021-04-15T00:00:00\", \"2021-04-16T00:00:00\", \"2021-04-17T00:00:00\", \"2021-04-18T00:00:00\", \"2021-04-19T00:00:00\", \"2021-04-20T00:00:00\", \"2021-04-21T00:00:00\", \"2021-04-22T00:00:00\", \"2021-04-23T00:00:00\", \"2021-04-24T00:00:00\", \"2021-04-25T00:00:00\", \"2021-04-26T00:00:00\", \"2021-04-27T00:00:00\", \"2021-04-28T00:00:00\", \"2021-04-29T00:00:00\", \"2021-04-30T00:00:00\", \"2021-05-01T00:00:00\", \"2021-05-02T00:00:00\", \"2021-05-03T00:00:00\", \"2021-05-04T00:00:00\", \"2021-05-05T00:00:00\", \"2021-05-06T00:00:00\", \"2021-05-07T00:00:00\", \"2021-05-08T00:00:00\", \"2021-05-09T00:00:00\", \"2021-05-10T00:00:00\", \"2021-05-11T00:00:00\", \"2021-05-12T00:00:00\", \"2021-05-13T00:00:00\", \"2021-05-14T00:00:00\", \"2021-05-15T00:00:00\", \"2021-05-16T00:00:00\", \"2021-05-17T00:00:00\", \"2021-05-18T00:00:00\", \"2021-05-19T00:00:00\", \"2021-05-20T00:00:00\", \"2021-05-21T00:00:00\", \"2021-05-22T00:00:00\", \"2021-05-23T00:00:00\", \"2021-05-24T00:00:00\", \"2021-05-25T00:00:00\", \"2021-05-26T00:00:00\", \"2021-05-27T00:00:00\", \"2021-05-28T00:00:00\", \"2021-05-29T00:00:00\", \"2021-05-30T00:00:00\", \"2021-05-31T00:00:00\", \"2021-06-01T00:00:00\", \"2021-06-02T00:00:00\", \"2021-06-03T00:00:00\", \"2021-06-04T00:00:00\", \"2021-06-05T00:00:00\", \"2021-06-06T00:00:00\", \"2021-06-07T00:00:00\", \"2021-06-08T00:00:00\", \"2021-06-09T00:00:00\", \"2021-06-10T00:00:00\", \"2021-06-11T00:00:00\", \"2021-06-12T00:00:00\", \"2021-06-13T00:00:00\"], \"xaxis\": \"x\", \"y\": [0.0, 0.02062414846287461, 0.03396247532829241, 0.06548629899634309, 0.05826935370350042, 0.05935200311665276, 0.07338555018176887, 0.12637079989065889, 0.15464667531925239, 0.30159642359788286, 0.5358942404342649, 0.6059608136874435, 0.552697906375578, 0.5624245320177957, 0.49912936046198775, 0.5169403423582815, 0.5034513485765203, 0.5156532164158062, 0.49261194013788157, 0.4412517407409797, 0.4737053945213203, 0.5569854563378037, 0.7835519079812567, 0.6026461415278915, 0.6555603625476483, 0.6535392734841293, 0.6106078118643739, 0.616625878980028, 0.6420799783039639, 0.6418410636223338, 0.6529323010497178, 0.651107078977445, 0.7028697742794353, 0.6047253449734287, 0.6399727938596773, 0.5682768655254723, 0.5058534096999359, 0.531830538462035, 0.5796974177842922, 0.5645015830788137, 0.5355498589111946, 0.5194112797863111, 0.5273621882001975, 0.5153454254295621, 0.47666492323520604, 0.5390410266013201, 0.5908618362853285, 0.5223234560407747, 0.4415552269581855, 0.4028080008437346, 0.4260020964225215, 0.38127339372924285, 0.29719479725614006, 0.32737983775325485, 0.2704083719148257, 0.3300918422474337, 0.4076637803190264, 0.44853756233843656, 0.432932774574312, 0.4805219962935937, 0.5278744557157646, 0.5291013148917026, 0.5250763558408181, 0.5579863151392269, 0.4647450177679341, 0.5839225485954613, 0.5804356856743743, 0.6309736741849457, 0.6225793745601063, 0.59083170290206, 0.5034664152681547, 0.5425967658270213, 0.37466772563985007, 0.4766692280042444, 0.4892606774415035, 0.43491296833196647, 0.49741821476923187, 0.47098693287358395, 0.4678014037851833, 0.25794391316419885, 0.3730964849408416, 0.3056192302642482, 0.3460840592250123, 0.29847331366053875, 0.35846027021035254, 0.3578360786997875, 0.4167898906803901, 0.4300055316282142, 0.38822774811074434, 0.3731610564764174, 0.41263578855835426, 0.4889808674540088, 0.5423384796847186, 0.5477409648278844, 0.6880764354790454, 0.6856011932819772, 0.7131732389727959, 0.7464491036394668, 0.7866986941483121, 0.9999999999999998, 0.9960180886394991, 0.8997204052509571, 0.7975036644346438, 0.6688125940322985, 0.8746666494475903], \"yaxis\": \"y\"}, {\"hovertemplate\": \"variable=COCOSUSDT<br>x=%{x}<br>value=%{y}<extra></extra>\", \"legendgroup\": \"COCOSUSDT\", \"line\": {\"color\": \"#EF553B\", \"dash\": \"solid\"}, \"mode\": \"lines\", \"name\": \"COCOSUSDT\", \"showlegend\": true, \"type\": \"scattergl\", \"x\": [\"2021-03-01T00:00:00\", \"2021-03-02T00:00:00\", \"2021-03-03T00:00:00\", \"2021-03-04T00:00:00\", \"2021-03-05T00:00:00\", \"2021-03-06T00:00:00\", \"2021-03-07T00:00:00\", \"2021-03-08T00:00:00\", \"2021-03-09T00:00:00\", \"2021-03-10T00:00:00\", \"2021-03-11T00:00:00\", \"2021-03-12T00:00:00\", \"2021-03-13T00:00:00\", \"2021-03-14T00:00:00\", \"2021-03-15T00:00:00\", \"2021-03-16T00:00:00\", \"2021-03-17T00:00:00\", \"2021-03-18T00:00:00\", \"2021-03-19T00:00:00\", \"2021-03-20T00:00:00\", \"2021-03-21T00:00:00\", \"2021-03-22T00:00:00\", \"2021-03-23T00:00:00\", \"2021-03-24T00:00:00\", \"2021-03-25T00:00:00\", \"2021-03-26T00:00:00\", \"2021-03-27T00:00:00\", \"2021-03-28T00:00:00\", \"2021-03-29T00:00:00\", \"2021-03-30T00:00:00\", \"2021-03-31T00:00:00\", \"2021-04-01T00:00:00\", \"2021-04-02T00:00:00\", \"2021-04-03T00:00:00\", \"2021-04-04T00:00:00\", \"2021-04-05T00:00:00\", \"2021-04-06T00:00:00\", \"2021-04-07T00:00:00\", \"2021-04-08T00:00:00\", \"2021-04-09T00:00:00\", \"2021-04-10T00:00:00\", \"2021-04-11T00:00:00\", \"2021-04-12T00:00:00\", \"2021-04-13T00:00:00\", \"2021-04-14T00:00:00\", \"2021-04-15T00:00:00\", \"2021-04-16T00:00:00\", \"2021-04-17T00:00:00\", \"2021-04-18T00:00:00\", \"2021-04-19T00:00:00\", \"2021-04-20T00:00:00\", \"2021-04-21T00:00:00\", \"2021-04-22T00:00:00\", \"2021-04-23T00:00:00\", \"2021-04-24T00:00:00\", \"2021-04-25T00:00:00\", \"2021-04-26T00:00:00\", \"2021-04-27T00:00:00\", \"2021-04-28T00:00:00\", \"2021-04-29T00:00:00\", \"2021-04-30T00:00:00\", \"2021-05-01T00:00:00\", \"2021-05-02T00:00:00\", \"2021-05-03T00:00:00\", \"2021-05-04T00:00:00\", \"2021-05-05T00:00:00\", \"2021-05-06T00:00:00\", \"2021-05-07T00:00:00\", \"2021-05-08T00:00:00\", \"2021-05-09T00:00:00\", \"2021-05-10T00:00:00\", \"2021-05-11T00:00:00\", \"2021-05-12T00:00:00\", \"2021-05-13T00:00:00\", \"2021-05-14T00:00:00\", \"2021-05-15T00:00:00\", \"2021-05-16T00:00:00\", \"2021-05-17T00:00:00\", \"2021-05-18T00:00:00\", \"2021-05-19T00:00:00\", \"2021-05-20T00:00:00\", \"2021-05-21T00:00:00\", \"2021-05-22T00:00:00\", \"2021-05-23T00:00:00\", \"2021-05-24T00:00:00\", \"2021-05-25T00:00:00\", \"2021-05-26T00:00:00\", \"2021-05-27T00:00:00\", \"2021-05-28T00:00:00\", \"2021-05-29T00:00:00\", \"2021-05-30T00:00:00\", \"2021-05-31T00:00:00\", \"2021-06-01T00:00:00\", \"2021-06-02T00:00:00\", \"2021-06-03T00:00:00\", \"2021-06-04T00:00:00\", \"2021-06-05T00:00:00\", \"2021-06-06T00:00:00\", \"2021-06-07T00:00:00\", \"2021-06-08T00:00:00\", \"2021-06-09T00:00:00\", \"2021-06-10T00:00:00\", \"2021-06-11T00:00:00\", \"2021-06-12T00:00:00\", \"2021-06-13T00:00:00\"], \"xaxis\": \"x\", \"y\": [0.3123530749981042, 0.3699855918707819, 0.38598619852885424, 0.5247592325775385, 0.4383104572685221, 0.45977098657769017, 0.4436187154015319, 0.6162887692424357, 0.6526882535830743, 0.5403048456813531, 1.0, 0.9264427087282929, 0.9593539091529537, 0.8139834685675287, 0.755213467809206, 0.7922954424812316, 0.7722757260938802, 0.7398953514825206, 0.7882763327519526, 0.8735876241753242, 0.8630469401683476, 0.8616061272465307, 0.75582012588155, 0.6913627056950027, 0.6175020853871238, 0.70850079623872, 0.7066808220216882, 0.904148024569652, 0.9699704254189734, 0.9385758701751725, 0.8707059983316903, 0.8214150299537424, 0.8377189656479866, 0.7511943580799272, 0.8883749146887086, 0.8253583074239781, 0.8926973534541593, 0.7417911579585956, 0.8073102297717449, 0.878668385531205, 0.7728823841662245, 0.757943429134754, 0.7084249639796771, 0.707514976871161, 0.6685371957230608, 0.6998559187078184, 0.6455600212330326, 0.6652764085842118, 0.5700310912262077, 0.5543338136043074, 0.5100477743231973, 0.4684916963676348, 0.3829529081671344, 0.30886479108212644, 0.3383635398498522, 0.33442026237961636, 0.439144612117995, 0.6140138014711458, 0.5728368848107985, 0.7273071964813833, 0.6792295442481233, 0.6721013118980814, 0.705088344581785, 0.7399711837415637, 0.6174262531280807, 0.6603473117464169, 0.5983165238492456, 0.5863350269204521, 0.5733677106240995, 0.5507696974292866, 0.4502161219382726, 0.5598695685144459, 0.3886403275953591, 0.4107833472359142, 0.4731932964283007, 0.4106316827178282, 0.40964586335026926, 0.3882611663001441, 0.35830742397816034, 0.11807082732994617, 0.2023204671267157, 0.10002274967771291, 0.07052400090998712, 0.0, 0.05255175551679686, 0.11875331766133318, 0.21248198983847738, 0.19617805414423295, 0.10851596269052854, 0.07090316220520215, 0.14142716311518927, 0.15029953742321983, 0.12883900811405175, 0.1449154470311671, 0.15909607947220755, 0.1159475240767423, 0.09706529157503602, 0.12451656934860089, 0.0955486463941761, 0.07962387199514676, 0.08978539470690833, 0.20869037688632752, 0.1994388412830818, 0.1523470084173808, 0.20732539622355356], \"yaxis\": \"y\"}, {\"hovertemplate\": \"variable=HIVEUSDT<br>x=%{x}<br>value=%{y}<extra></extra>\", \"legendgroup\": \"HIVEUSDT\", \"line\": {\"color\": \"#00cc96\", \"dash\": \"solid\"}, \"mode\": \"lines\", \"name\": \"HIVEUSDT\", \"showlegend\": true, \"type\": \"scattergl\", \"x\": [\"2021-03-01T00:00:00\", \"2021-03-02T00:00:00\", \"2021-03-03T00:00:00\", \"2021-03-04T00:00:00\", \"2021-03-05T00:00:00\", \"2021-03-06T00:00:00\", \"2021-03-07T00:00:00\", \"2021-03-08T00:00:00\", \"2021-03-09T00:00:00\", \"2021-03-10T00:00:00\", \"2021-03-11T00:00:00\", \"2021-03-12T00:00:00\", \"2021-03-13T00:00:00\", \"2021-03-14T00:00:00\", \"2021-03-15T00:00:00\", \"2021-03-16T00:00:00\", \"2021-03-17T00:00:00\", \"2021-03-18T00:00:00\", \"2021-03-19T00:00:00\", \"2021-03-20T00:00:00\", \"2021-03-21T00:00:00\", \"2021-03-22T00:00:00\", \"2021-03-23T00:00:00\", \"2021-03-24T00:00:00\", \"2021-03-25T00:00:00\", \"2021-03-26T00:00:00\", \"2021-03-27T00:00:00\", \"2021-03-28T00:00:00\", \"2021-03-29T00:00:00\", \"2021-03-30T00:00:00\", \"2021-03-31T00:00:00\", \"2021-04-01T00:00:00\", \"2021-04-02T00:00:00\", \"2021-04-03T00:00:00\", \"2021-04-04T00:00:00\", \"2021-04-05T00:00:00\", \"2021-04-06T00:00:00\", \"2021-04-07T00:00:00\", \"2021-04-08T00:00:00\", \"2021-04-09T00:00:00\", \"2021-04-10T00:00:00\", \"2021-04-11T00:00:00\", \"2021-04-12T00:00:00\", \"2021-04-13T00:00:00\", \"2021-04-14T00:00:00\", \"2021-04-15T00:00:00\", \"2021-04-16T00:00:00\", \"2021-04-17T00:00:00\", \"2021-04-18T00:00:00\", \"2021-04-19T00:00:00\", \"2021-04-20T00:00:00\", \"2021-04-21T00:00:00\", \"2021-04-22T00:00:00\", \"2021-04-23T00:00:00\", \"2021-04-24T00:00:00\", \"2021-04-25T00:00:00\", \"2021-04-26T00:00:00\", \"2021-04-27T00:00:00\", \"2021-04-28T00:00:00\", \"2021-04-29T00:00:00\", \"2021-04-30T00:00:00\", \"2021-05-01T00:00:00\", \"2021-05-02T00:00:00\", \"2021-05-03T00:00:00\", \"2021-05-04T00:00:00\", \"2021-05-05T00:00:00\", \"2021-05-06T00:00:00\", \"2021-05-07T00:00:00\", \"2021-05-08T00:00:00\", \"2021-05-09T00:00:00\", \"2021-05-10T00:00:00\", \"2021-05-11T00:00:00\", \"2021-05-12T00:00:00\", \"2021-05-13T00:00:00\", \"2021-05-14T00:00:00\", \"2021-05-15T00:00:00\", \"2021-05-16T00:00:00\", \"2021-05-17T00:00:00\", \"2021-05-18T00:00:00\", \"2021-05-19T00:00:00\", \"2021-05-20T00:00:00\", \"2021-05-21T00:00:00\", \"2021-05-22T00:00:00\", \"2021-05-23T00:00:00\", \"2021-05-24T00:00:00\", \"2021-05-25T00:00:00\", \"2021-05-26T00:00:00\", \"2021-05-27T00:00:00\", \"2021-05-28T00:00:00\", \"2021-05-29T00:00:00\", \"2021-05-30T00:00:00\", \"2021-05-31T00:00:00\", \"2021-06-01T00:00:00\", \"2021-06-02T00:00:00\", \"2021-06-03T00:00:00\", \"2021-06-04T00:00:00\", \"2021-06-05T00:00:00\", \"2021-06-06T00:00:00\", \"2021-06-07T00:00:00\", \"2021-06-08T00:00:00\", \"2021-06-09T00:00:00\", \"2021-06-10T00:00:00\", \"2021-06-11T00:00:00\", \"2021-06-12T00:00:00\", \"2021-06-13T00:00:00\"], \"xaxis\": \"x\", \"y\": [0.05631550897139814, 0.022206430982412595, 0.034286729436844965, 0.008704920945105776, 0.0, 0.021851128086693872, 0.053117782909930744, 0.04974240540060415, 0.0643098241250667, 0.09255640433469536, 0.12542192218866588, 0.09664238763545929, 0.1785397050985965, 0.18013856812933027, 0.14496358145318888, 0.16699236098774206, 0.1582874400426364, 0.26701012613252806, 0.26416770296677927, 0.19506128974951153, 0.20749689109966252, 0.2917036773849707, 0.6292414283176408, 0.42565286907088307, 0.36116539349795707, 0.4300941552673655, 0.4293835494759284, 0.8527269497246404, 0.8399360454787708, 0.8617871735654645, 0.8207496891099664, 0.9022917036773852, 1.0, 0.750755018653402, 0.8168413572570616, 0.682003908331853, 0.59140166992361, 0.4562089181026827, 0.5919346242671879, 0.7145141232901049, 0.7361875999289396, 0.6987031444306271, 0.6404334695327769, 0.6178717356546457, 0.5302895718600107, 0.6123645407710074, 0.5448569905844733, 0.5341979037129152, 0.4247646118315864, 0.3881684135725707, 0.44519452833540607, 0.40611120980636006, 0.32137146917747383, 0.30538283887013684, 0.26665482323680945, 0.28246580209628713, 0.4400426363474864, 0.7692307692307694, 0.6919523894119737, 0.6176940842067864, 0.6550008882572393, 0.6526914194350684, 0.6079232545745248, 0.669568306981702, 0.5174986676141411, 0.581986143187067, 0.5082607923254576, 0.5178539705098597, 0.5340202522650561, 0.491383904778824, 0.3924320483211938, 0.46651270207852213, 0.2879729969799255, 0.3437555516077456, 0.36738319417303256, 0.3394919168591225, 0.32456919523894123, 0.342156688577012, 0.3554805471664595, 0.10907798898561027, 0.22686089891632621, 0.25350861609522124, 0.23823059157932147, 0.4915615562266833, 0.498489962693196, 0.39918280333984735, 0.4229880973529935, 0.3595665304672234, 0.287084739740629, 0.23805294013146217, 0.2389411973707587, 0.26096997690531176, 0.24071771184935165, 0.26701012613252806, 0.2975661751643276, 0.24373778646295974, 0.21726772073192402, 0.23378930538283893, 0.17889500799431524, 0.15757683425119917, 0.18831053473085813, 0.18955409486587327, 0.119559424409309, 0.06946171611298635, 0.13998934091312842], \"yaxis\": \"y\"}, {\"hovertemplate\": \"variable=DATAUSDT<br>x=%{x}<br>value=%{y}<extra></extra>\", \"legendgroup\": \"DATAUSDT\", \"line\": {\"color\": \"#ab63fa\", \"dash\": \"solid\"}, \"mode\": \"lines\", \"name\": \"DATAUSDT\", \"showlegend\": true, \"type\": \"scattergl\", \"x\": [\"2021-03-01T00:00:00\", \"2021-03-02T00:00:00\", \"2021-03-03T00:00:00\", \"2021-03-04T00:00:00\", \"2021-03-05T00:00:00\", \"2021-03-06T00:00:00\", \"2021-03-07T00:00:00\", \"2021-03-08T00:00:00\", \"2021-03-09T00:00:00\", \"2021-03-10T00:00:00\", \"2021-03-11T00:00:00\", \"2021-03-12T00:00:00\", \"2021-03-13T00:00:00\", \"2021-03-14T00:00:00\", \"2021-03-15T00:00:00\", \"2021-03-16T00:00:00\", \"2021-03-17T00:00:00\", \"2021-03-18T00:00:00\", \"2021-03-19T00:00:00\", \"2021-03-20T00:00:00\", \"2021-03-21T00:00:00\", \"2021-03-22T00:00:00\", \"2021-03-23T00:00:00\", \"2021-03-24T00:00:00\", \"2021-03-25T00:00:00\", \"2021-03-26T00:00:00\", \"2021-03-27T00:00:00\", \"2021-03-28T00:00:00\", \"2021-03-29T00:00:00\", \"2021-03-30T00:00:00\", \"2021-03-31T00:00:00\", \"2021-04-01T00:00:00\", \"2021-04-02T00:00:00\", \"2021-04-03T00:00:00\", \"2021-04-04T00:00:00\", \"2021-04-05T00:00:00\", \"2021-04-06T00:00:00\", \"2021-04-07T00:00:00\", \"2021-04-08T00:00:00\", \"2021-04-09T00:00:00\", \"2021-04-10T00:00:00\", \"2021-04-11T00:00:00\", \"2021-04-12T00:00:00\", \"2021-04-13T00:00:00\", \"2021-04-14T00:00:00\", \"2021-04-15T00:00:00\", \"2021-04-16T00:00:00\", \"2021-04-17T00:00:00\", \"2021-04-18T00:00:00\", \"2021-04-19T00:00:00\", \"2021-04-20T00:00:00\", \"2021-04-21T00:00:00\", \"2021-04-22T00:00:00\", \"2021-04-23T00:00:00\", \"2021-04-24T00:00:00\", \"2021-04-25T00:00:00\", \"2021-04-26T00:00:00\", \"2021-04-27T00:00:00\", \"2021-04-28T00:00:00\", \"2021-04-29T00:00:00\", \"2021-04-30T00:00:00\", \"2021-05-01T00:00:00\", \"2021-05-02T00:00:00\", \"2021-05-03T00:00:00\", \"2021-05-04T00:00:00\", \"2021-05-05T00:00:00\", \"2021-05-06T00:00:00\", \"2021-05-07T00:00:00\", \"2021-05-08T00:00:00\", \"2021-05-09T00:00:00\", \"2021-05-10T00:00:00\", \"2021-05-11T00:00:00\", \"2021-05-12T00:00:00\", \"2021-05-13T00:00:00\", \"2021-05-14T00:00:00\", \"2021-05-15T00:00:00\", \"2021-05-16T00:00:00\", \"2021-05-17T00:00:00\", \"2021-05-18T00:00:00\", \"2021-05-19T00:00:00\", \"2021-05-20T00:00:00\", \"2021-05-21T00:00:00\", \"2021-05-22T00:00:00\", \"2021-05-23T00:00:00\", \"2021-05-24T00:00:00\", \"2021-05-25T00:00:00\", \"2021-05-26T00:00:00\", \"2021-05-27T00:00:00\", \"2021-05-28T00:00:00\", \"2021-05-29T00:00:00\", \"2021-05-30T00:00:00\", \"2021-05-31T00:00:00\", \"2021-06-01T00:00:00\", \"2021-06-02T00:00:00\", \"2021-06-03T00:00:00\", \"2021-06-04T00:00:00\", \"2021-06-05T00:00:00\", \"2021-06-06T00:00:00\", \"2021-06-07T00:00:00\", \"2021-06-08T00:00:00\", \"2021-06-09T00:00:00\", \"2021-06-10T00:00:00\", \"2021-06-11T00:00:00\", \"2021-06-12T00:00:00\", \"2021-06-13T00:00:00\"], \"xaxis\": \"x\", \"y\": [0.13479432551990644, 0.14135353638073933, 0.1481669802206742, 0.14440433212996395, 0.18523414857375298, 0.1960644734835002, 0.17694615345502618, 0.21391162861646407, 0.29267300554227893, 0.23679259673564856, 0.2731987593430619, 0.37901052524533485, 0.3521126760563381, 0.3877561397264453, 0.4685513804850766, 0.4817206488025626, 0.4669751360146439, 0.3967051405908375, 0.47612752326231755, 0.4126201250826257, 0.40845070422535223, 0.4111455738038339, 0.4897035643463671, 0.49072049626277525, 0.42202674530940154, 0.5187878171556415, 0.5019067473432653, 0.5313469263232827, 0.5595159404077897, 0.636345146692429, 0.5998372908933747, 0.6010576091930646, 0.5832104540601006, 0.5259571871663192, 0.6188030711343876, 0.6652260131184218, 1.0, 0.7362078608837139, 0.7808511720140339, 0.7165302283012152, 0.7155132963848072, 0.7979356282096914, 0.7206996491584889, 0.6783444348400874, 0.7446992423857224, 0.7029033406213454, 0.6822087761224387, 0.6807850714394672, 0.5569736106167692, 0.45970407281232517, 0.508059185437535, 0.4486703615192964, 0.35851934712970956, 0.33416382773173336, 0.27797833935018046, 0.2951136421416587, 0.388722225047033, 0.46626328367315806, 0.44404332129963897, 0.4387044287384959, 0.5491940814562465, 0.55707530380841, 0.5295672954695683, 0.6209894747546651, 0.5762444704327047, 0.6895815325163981, 0.5930746936492601, 0.5935323130116439, 0.5668886968017491, 0.5247368688666295, 0.4225352112676056, 0.4676361417603091, 0.34651955051609284, 0.34072303859256625, 0.36914628565617535, 0.4560431179132557, 0.4206538872222505, 0.3455026185996848, 0.3341129811359129, 0.11694717038694263, 0.17613260792189966, 0.09238826460568467, 0.06427009711699799, 0.0, 0.08562566736157018, 0.0809986271419128, 0.17318350536431587, 0.12172675039406111, 0.058321045406010075, 0.06589718818325113, 0.10555753292317077, 0.12452331316418364, 0.11313367570041188, 0.12503177912238772, 0.14740428128336808, 0.09818477652921137, 0.0698632226572431, 0.09106625311435396, 0.052982152844867014, 0.1461839629836782, 0.40112879442721316, 0.656938017999695, 0.4756190573041136, 0.6108710021864037, 0.7187166319214928], \"yaxis\": \"y\"}, {\"hovertemplate\": \"variable=ONGUSDT<br>x=%{x}<br>value=%{y}<extra></extra>\", \"legendgroup\": \"ONGUSDT\", \"line\": {\"color\": \"#FFA15A\", \"dash\": \"solid\"}, \"mode\": \"lines\", \"name\": \"ONGUSDT\", \"showlegend\": true, \"type\": \"scattergl\", \"x\": [\"2021-03-01T00:00:00\", \"2021-03-02T00:00:00\", \"2021-03-03T00:00:00\", \"2021-03-04T00:00:00\", \"2021-03-05T00:00:00\", \"2021-03-06T00:00:00\", \"2021-03-07T00:00:00\", \"2021-03-08T00:00:00\", \"2021-03-09T00:00:00\", \"2021-03-10T00:00:00\", \"2021-03-11T00:00:00\", \"2021-03-12T00:00:00\", \"2021-03-13T00:00:00\", \"2021-03-14T00:00:00\", \"2021-03-15T00:00:00\", \"2021-03-16T00:00:00\", \"2021-03-17T00:00:00\", \"2021-03-18T00:00:00\", \"2021-03-19T00:00:00\", \"2021-03-20T00:00:00\", \"2021-03-21T00:00:00\", \"2021-03-22T00:00:00\", \"2021-03-23T00:00:00\", \"2021-03-24T00:00:00\", \"2021-03-25T00:00:00\", \"2021-03-26T00:00:00\", \"2021-03-27T00:00:00\", \"2021-03-28T00:00:00\", \"2021-03-29T00:00:00\", \"2021-03-30T00:00:00\", \"2021-03-31T00:00:00\", \"2021-04-01T00:00:00\", \"2021-04-02T00:00:00\", \"2021-04-03T00:00:00\", \"2021-04-04T00:00:00\", \"2021-04-05T00:00:00\", \"2021-04-06T00:00:00\", \"2021-04-07T00:00:00\", \"2021-04-08T00:00:00\", \"2021-04-09T00:00:00\", \"2021-04-10T00:00:00\", \"2021-04-11T00:00:00\", \"2021-04-12T00:00:00\", \"2021-04-13T00:00:00\", \"2021-04-14T00:00:00\", \"2021-04-15T00:00:00\", \"2021-04-16T00:00:00\", \"2021-04-17T00:00:00\", \"2021-04-18T00:00:00\", \"2021-04-19T00:00:00\", \"2021-04-20T00:00:00\", \"2021-04-21T00:00:00\", \"2021-04-22T00:00:00\", \"2021-04-23T00:00:00\", \"2021-04-24T00:00:00\", \"2021-04-25T00:00:00\", \"2021-04-26T00:00:00\", \"2021-04-27T00:00:00\", \"2021-04-28T00:00:00\", \"2021-04-29T00:00:00\", \"2021-04-30T00:00:00\", \"2021-05-01T00:00:00\", \"2021-05-02T00:00:00\", \"2021-05-03T00:00:00\", \"2021-05-04T00:00:00\", \"2021-05-05T00:00:00\", \"2021-05-06T00:00:00\", \"2021-05-07T00:00:00\", \"2021-05-08T00:00:00\", \"2021-05-09T00:00:00\", \"2021-05-10T00:00:00\", \"2021-05-11T00:00:00\", \"2021-05-12T00:00:00\", \"2021-05-13T00:00:00\", \"2021-05-14T00:00:00\", \"2021-05-15T00:00:00\", \"2021-05-16T00:00:00\", \"2021-05-17T00:00:00\", \"2021-05-18T00:00:00\", \"2021-05-19T00:00:00\", \"2021-05-20T00:00:00\", \"2021-05-21T00:00:00\", \"2021-05-22T00:00:00\", \"2021-05-23T00:00:00\", \"2021-05-24T00:00:00\", \"2021-05-25T00:00:00\", \"2021-05-26T00:00:00\", \"2021-05-27T00:00:00\", \"2021-05-28T00:00:00\", \"2021-05-29T00:00:00\", \"2021-05-30T00:00:00\", \"2021-05-31T00:00:00\", \"2021-06-01T00:00:00\", \"2021-06-02T00:00:00\", \"2021-06-03T00:00:00\", \"2021-06-04T00:00:00\", \"2021-06-05T00:00:00\", \"2021-06-06T00:00:00\", \"2021-06-07T00:00:00\", \"2021-06-08T00:00:00\", \"2021-06-09T00:00:00\", \"2021-06-10T00:00:00\", \"2021-06-11T00:00:00\", \"2021-06-12T00:00:00\", \"2021-06-13T00:00:00\"], \"xaxis\": \"x\", \"y\": [0.014855841399658287, 0.0, 0.010559552771882585, 0.028055282364511602, 0.09907345100678089, 0.1359801231947823, 0.14954190175474918, 0.137998861224701, 0.1387235364149283, 0.136187173249133, 0.1272322583984678, 0.1253170453957244, 0.1397587866866815, 0.14312335006987936, 0.12241834463481549, 0.1149645426781924, 0.14037993684973338, 0.13691184843936016, 0.16222371758372583, 0.13541073554531802, 0.15093948962161602, 0.1551840157358041, 0.1843263108856566, 0.12179719447176351, 0.0991769760339562, 0.13038977172731508, 0.20301257829080177, 0.1957658263885294, 0.22625394689166106, 0.2631606190796625, 0.2715461462808634, 0.24281795123971217, 0.3003261038356023, 0.31518194523526066, 0.3696361095294787, 0.3461359283606812, 0.31031626895802056, 0.23846990009834879, 0.30156840416170605, 0.3548837931569957, 0.37916041202960815, 0.3693772969615404, 0.3436513277084735, 0.3424607898959573, 0.33448936280345765, 0.3908069775868316, 0.44329416636471874, 0.41441068378280443, 0.4121331331849475, 0.3266732232517211, 0.3117138568248874, 0.28541849992235613, 0.1782183342823127, 0.15316527770588534, 0.12184895698535114, 0.13116620943112994, 0.1992856773124903, 0.23955691288368963, 0.22257880842693717, 0.22299290853563847, 0.26243594388943525, 0.25855375537036074, 0.26041720585951644, 0.26057249340027955, 0.1896060872715979, 0.2535845540659454, 0.30933278119985497, 0.28909363838708, 0.2779646979657332, 0.27636006004451574, 0.206480666701175, 0.24457787670169262, 0.15306175267871003, 0.158548579119002, 0.17676898390185825, 0.1458667632900253, 0.14467622547750913, 0.1014545266318132, 0.11791500595268906, 0.007971427092499594, 1.0, 0.4403437030902221, 0.2032196283451524, 0.13121797194471757, 0.21667788187794396, 0.28143278637610647, 0.3479993788498369, 0.29250996428386555, 0.3462912159014442, 0.28210569905274596, 0.27687768518039235, 0.2903877012267715, 0.26647341994927265, 0.28562554997670686, 0.3099021688493193, 0.2633676691340131, 0.23707231223148195, 0.2784305605880222, 0.22521869661990784, 0.21854133236709972, 0.25068585330503645, 0.22671980951394993, 0.18530979864382213, 0.1470573011025415, 0.17744189657849785], \"yaxis\": \"y\"}, {\"hovertemplate\": \"variable=IRISUSDT<br>x=%{x}<br>value=%{y}<extra></extra>\", \"legendgroup\": \"IRISUSDT\", \"line\": {\"color\": \"#19d3f3\", \"dash\": \"solid\"}, \"mode\": \"lines\", \"name\": \"IRISUSDT\", \"showlegend\": true, \"type\": \"scattergl\", \"x\": [\"2021-03-01T00:00:00\", \"2021-03-02T00:00:00\", \"2021-03-03T00:00:00\", \"2021-03-04T00:00:00\", \"2021-03-05T00:00:00\", \"2021-03-06T00:00:00\", \"2021-03-07T00:00:00\", \"2021-03-08T00:00:00\", \"2021-03-09T00:00:00\", \"2021-03-10T00:00:00\", \"2021-03-11T00:00:00\", \"2021-03-12T00:00:00\", \"2021-03-13T00:00:00\", \"2021-03-14T00:00:00\", \"2021-03-15T00:00:00\", \"2021-03-16T00:00:00\", \"2021-03-17T00:00:00\", \"2021-03-18T00:00:00\", \"2021-03-19T00:00:00\", \"2021-03-20T00:00:00\", \"2021-03-21T00:00:00\", \"2021-03-22T00:00:00\", \"2021-03-23T00:00:00\", \"2021-03-24T00:00:00\", \"2021-03-25T00:00:00\", \"2021-03-26T00:00:00\", \"2021-03-27T00:00:00\", \"2021-03-28T00:00:00\", \"2021-03-29T00:00:00\", \"2021-03-30T00:00:00\", \"2021-03-31T00:00:00\", \"2021-04-01T00:00:00\", \"2021-04-02T00:00:00\", \"2021-04-03T00:00:00\", \"2021-04-04T00:00:00\", \"2021-04-05T00:00:00\", \"2021-04-06T00:00:00\", \"2021-04-07T00:00:00\", \"2021-04-08T00:00:00\", \"2021-04-09T00:00:00\", \"2021-04-10T00:00:00\", \"2021-04-11T00:00:00\", \"2021-04-12T00:00:00\", \"2021-04-13T00:00:00\", \"2021-04-14T00:00:00\", \"2021-04-15T00:00:00\", \"2021-04-16T00:00:00\", \"2021-04-17T00:00:00\", \"2021-04-18T00:00:00\", \"2021-04-19T00:00:00\", \"2021-04-20T00:00:00\", \"2021-04-21T00:00:00\", \"2021-04-22T00:00:00\", \"2021-04-23T00:00:00\", \"2021-04-24T00:00:00\", \"2021-04-25T00:00:00\", \"2021-04-26T00:00:00\", \"2021-04-27T00:00:00\", \"2021-04-28T00:00:00\", \"2021-04-29T00:00:00\", \"2021-04-30T00:00:00\", \"2021-05-01T00:00:00\", \"2021-05-02T00:00:00\", \"2021-05-03T00:00:00\", \"2021-05-04T00:00:00\", \"2021-05-05T00:00:00\", \"2021-05-06T00:00:00\", \"2021-05-07T00:00:00\", \"2021-05-08T00:00:00\", \"2021-05-09T00:00:00\", \"2021-05-10T00:00:00\", \"2021-05-11T00:00:00\", \"2021-05-12T00:00:00\", \"2021-05-13T00:00:00\", \"2021-05-14T00:00:00\", \"2021-05-15T00:00:00\", \"2021-05-16T00:00:00\", \"2021-05-17T00:00:00\", \"2021-05-18T00:00:00\", \"2021-05-19T00:00:00\", \"2021-05-20T00:00:00\", \"2021-05-21T00:00:00\", \"2021-05-22T00:00:00\", \"2021-05-23T00:00:00\", \"2021-05-24T00:00:00\", \"2021-05-25T00:00:00\", \"2021-05-26T00:00:00\", \"2021-05-27T00:00:00\", \"2021-05-28T00:00:00\", \"2021-05-29T00:00:00\", \"2021-05-30T00:00:00\", \"2021-05-31T00:00:00\", \"2021-06-01T00:00:00\", \"2021-06-02T00:00:00\", \"2021-06-03T00:00:00\", \"2021-06-04T00:00:00\", \"2021-06-05T00:00:00\", \"2021-06-06T00:00:00\", \"2021-06-07T00:00:00\", \"2021-06-08T00:00:00\", \"2021-06-09T00:00:00\", \"2021-06-10T00:00:00\", \"2021-06-11T00:00:00\", \"2021-06-12T00:00:00\", \"2021-06-13T00:00:00\"], \"xaxis\": \"x\", \"y\": [0.19954837759560162, 0.17343282116734576, 0.197339354965392, 0.20003927151342593, 0.2451524225614845, 0.20745176967257373, 0.24323793628196944, 0.3088213637033037, 0.4100927789504689, 0.5095478867016838, 0.46055667370281284, 0.5285454813214864, 0.5434195670315645, 0.49752098571498704, 0.6627067890628836, 0.7228903833881498, 0.8686858769819844, 0.8779637720288648, 0.8388886161700456, 0.8354032693534928, 0.8209218987776742, 0.6641303814245741, 0.6232880074615876, 0.6209808060478131, 0.5448922487850375, 0.7472387217122379, 0.748122330764322, 0.7934318393795102, 0.8717785086642776, 0.8291198272053409, 0.7534730744686072, 0.7241176181827108, 0.7270138922978745, 0.69024593785283, 0.769427126797899, 0.790142850130087, 0.7765450886063522, 0.6528889107063964, 0.7669235678169949, 0.7425261401011242, 0.707132688625988, 1.0, 0.874282067645182, 0.9376564724363067, 0.8762456433164793, 0.8795837219576851, 0.7204850031908107, 0.7678562662608611, 0.6258897452260567, 0.509793333660596, 0.5375779294094547, 0.4676255461194837, 0.37062490795739056, 0.34789651956212264, 0.2666535761621913, 0.29787442933582053, 0.41721074075892206, 0.48107603946787103, 0.42074517696725744, 0.4102400471258162, 0.540768739875313, 0.5088606352167298, 0.5743949732462815, 0.7608364832359727, 0.6148937214667911, 0.6483235972706298, 0.5664915811693094, 0.5734131854106328, 0.5490648470865447, 0.5114132835894164, 0.4214815178439939, 0.5041971429973983, 0.46669284767561725, 0.42570320553728336, 0.42805949634284035, 0.3589416327131707, 0.3578616660939571, 0.2906091993520201, 0.30420696087575483, 0.08453193264935449, 0.15453340533110793, 0.08104658583280155, 0.09979873349369206, 0.0, 0.09587158215109715, 0.09415345343871195, 0.11658730548328505, 0.10632762260075601, 0.045211329831623404, 0.02425015954052334, 0.05802366108683915, 0.09106082175641844, 0.0859064356192627, 0.10564037111580188, 0.11540916008050667, 0.06882332727897505, 0.05542192332237006, 0.19817387462569347, 0.076481272397035, 0.07029600903244809, 0.08752638554808306, 0.07358499828187132, 0.059299985273182476, 0.050562073535908914, 0.07456678611751999], \"yaxis\": \"y\"}, {\"hovertemplate\": \"variable=BZRXUSDT<br>x=%{x}<br>value=%{y}<extra></extra>\", \"legendgroup\": \"BZRXUSDT\", \"line\": {\"color\": \"#FF6692\", \"dash\": \"solid\"}, \"mode\": \"lines\", \"name\": \"BZRXUSDT\", \"showlegend\": true, \"type\": \"scattergl\", \"x\": [\"2021-03-01T00:00:00\", \"2021-03-02T00:00:00\", \"2021-03-03T00:00:00\", \"2021-03-04T00:00:00\", \"2021-03-05T00:00:00\", \"2021-03-06T00:00:00\", \"2021-03-07T00:00:00\", \"2021-03-08T00:00:00\", \"2021-03-09T00:00:00\", \"2021-03-10T00:00:00\", \"2021-03-11T00:00:00\", \"2021-03-12T00:00:00\", \"2021-03-13T00:00:00\", \"2021-03-14T00:00:00\", \"2021-03-15T00:00:00\", \"2021-03-16T00:00:00\", \"2021-03-17T00:00:00\", \"2021-03-18T00:00:00\", \"2021-03-19T00:00:00\", \"2021-03-20T00:00:00\", \"2021-03-21T00:00:00\", \"2021-03-22T00:00:00\", \"2021-03-23T00:00:00\", \"2021-03-24T00:00:00\", \"2021-03-25T00:00:00\", \"2021-03-26T00:00:00\", \"2021-03-27T00:00:00\", \"2021-03-28T00:00:00\", \"2021-03-29T00:00:00\", \"2021-03-30T00:00:00\", \"2021-03-31T00:00:00\", \"2021-04-01T00:00:00\", \"2021-04-02T00:00:00\", \"2021-04-03T00:00:00\", \"2021-04-04T00:00:00\", \"2021-04-05T00:00:00\", \"2021-04-06T00:00:00\", \"2021-04-07T00:00:00\", \"2021-04-08T00:00:00\", \"2021-04-09T00:00:00\", \"2021-04-10T00:00:00\", \"2021-04-11T00:00:00\", \"2021-04-12T00:00:00\", \"2021-04-13T00:00:00\", \"2021-04-14T00:00:00\", \"2021-04-15T00:00:00\", \"2021-04-16T00:00:00\", \"2021-04-17T00:00:00\", \"2021-04-18T00:00:00\", \"2021-04-19T00:00:00\", \"2021-04-20T00:00:00\", \"2021-04-21T00:00:00\", \"2021-04-22T00:00:00\", \"2021-04-23T00:00:00\", \"2021-04-24T00:00:00\", \"2021-04-25T00:00:00\", \"2021-04-26T00:00:00\", \"2021-04-27T00:00:00\", \"2021-04-28T00:00:00\", \"2021-04-29T00:00:00\", \"2021-04-30T00:00:00\", \"2021-05-01T00:00:00\", \"2021-05-02T00:00:00\", \"2021-05-03T00:00:00\", \"2021-05-04T00:00:00\", \"2021-05-05T00:00:00\", \"2021-05-06T00:00:00\", \"2021-05-07T00:00:00\", \"2021-05-08T00:00:00\", \"2021-05-09T00:00:00\", \"2021-05-10T00:00:00\", \"2021-05-11T00:00:00\", \"2021-05-12T00:00:00\", \"2021-05-13T00:00:00\", \"2021-05-14T00:00:00\", \"2021-05-15T00:00:00\", \"2021-05-16T00:00:00\", \"2021-05-17T00:00:00\", \"2021-05-18T00:00:00\", \"2021-05-19T00:00:00\", \"2021-05-20T00:00:00\", \"2021-05-21T00:00:00\", \"2021-05-22T00:00:00\", \"2021-05-23T00:00:00\", \"2021-05-24T00:00:00\", \"2021-05-25T00:00:00\", \"2021-05-26T00:00:00\", \"2021-05-27T00:00:00\", \"2021-05-28T00:00:00\", \"2021-05-29T00:00:00\", \"2021-05-30T00:00:00\", \"2021-05-31T00:00:00\", \"2021-06-01T00:00:00\", \"2021-06-02T00:00:00\", \"2021-06-03T00:00:00\", \"2021-06-04T00:00:00\", \"2021-06-05T00:00:00\", \"2021-06-06T00:00:00\", \"2021-06-07T00:00:00\", \"2021-06-08T00:00:00\", \"2021-06-09T00:00:00\", \"2021-06-10T00:00:00\", \"2021-06-11T00:00:00\", \"2021-06-12T00:00:00\", \"2021-06-13T00:00:00\"], \"xaxis\": \"x\", \"y\": [0.2515103756238508, 0.25610717100078806, 0.32545311268715527, 0.2700288941423693, 0.25242973469923824, 0.273706330443919, 0.2872340425531915, 0.38547412660887836, 0.4208037825059101, 0.3673496191226687, 0.35828736537956396, 0.3221696874179144, 0.3630154977672708, 0.32243236143945364, 0.33385868137641184, 0.48095613343840293, 0.440635671132125, 0.4869976359338061, 0.467953769372209, 0.4536380351983188, 0.42605726293669544, 0.35986340950879947, 0.35552928815340157, 0.29616495928552666, 0.276595744680851, 0.3669556080903599, 0.373391121618072, 0.44326241134751765, 0.4864722878907276, 0.5952193328079852, 0.6146572104018913, 0.5654058313632782, 0.600341476228001, 0.5144470711846598, 0.6530076175466246, 0.7065931179406355, 0.7760703966377724, 0.789598108747045, 0.8900709219858156, 0.8052272130286313, 0.7566325190438665, 0.7646440767008142, 0.8561859732072497, 0.8001050696086156, 0.7878907276070397, 0.9648016811137377, 0.8820593643288679, 0.8785132650380876, 0.69424743892829, 0.603230890464933, 0.6365904912004202, 0.7100078802206462, 0.5491200420278434, 0.4779353821907012, 0.4479905437352246, 0.4380089309167322, 0.6907013396375097, 0.7131599684791172, 0.6375098502758076, 0.855397951142632, 0.8208563173102179, 0.7874967165747306, 0.7775151037562384, 0.8148148148148147, 0.9411610191752033, 1.0, 0.8680063041765169, 0.9171263462043602, 0.8747044917257683, 0.8263724717625427, 0.6494615182558444, 0.7127659574468084, 0.5610717100078801, 0.6164959285526661, 0.6997635933806146, 0.5858944050433411, 0.5797215655371682, 0.5476753349093774, 0.560021013921723, 0.1379038613081166, 0.1963488311006042, 0.09600735487260309, 0.06711321250328339, 0.0, 0.0768321513002364, 0.07407407407407407, 0.1813764118728658, 0.16771736275282373, 0.09876543209876543, 0.046887312844759665, 0.0914105594956659, 0.11728395061728397, 0.11557656947727873, 0.14171263462043604, 0.17165747307591278, 0.11203047018649853, 0.09692671394799052, 0.1268715524034673, 0.05765694772786972, 0.04623062779091153, 0.0714473338586814, 0.0471499868662989, 0.041896506435513514, 0.02416600998161278, 0.043209876543209846], \"yaxis\": \"y\"}, {\"hovertemplate\": \"variable=FIOUSDT<br>x=%{x}<br>value=%{y}<extra></extra>\", \"legendgroup\": \"FIOUSDT\", \"line\": {\"color\": \"#B6E880\", \"dash\": \"solid\"}, \"mode\": \"lines\", \"name\": \"FIOUSDT\", \"showlegend\": true, \"type\": \"scattergl\", \"x\": [\"2021-03-01T00:00:00\", \"2021-03-02T00:00:00\", \"2021-03-03T00:00:00\", \"2021-03-04T00:00:00\", \"2021-03-05T00:00:00\", \"2021-03-06T00:00:00\", \"2021-03-07T00:00:00\", \"2021-03-08T00:00:00\", \"2021-03-09T00:00:00\", \"2021-03-10T00:00:00\", \"2021-03-11T00:00:00\", \"2021-03-12T00:00:00\", \"2021-03-13T00:00:00\", \"2021-03-14T00:00:00\", \"2021-03-15T00:00:00\", \"2021-03-16T00:00:00\", \"2021-03-17T00:00:00\", \"2021-03-18T00:00:00\", \"2021-03-19T00:00:00\", \"2021-03-20T00:00:00\", \"2021-03-21T00:00:00\", \"2021-03-22T00:00:00\", \"2021-03-23T00:00:00\", \"2021-03-24T00:00:00\", \"2021-03-25T00:00:00\", \"2021-03-26T00:00:00\", \"2021-03-27T00:00:00\", \"2021-03-28T00:00:00\", \"2021-03-29T00:00:00\", \"2021-03-30T00:00:00\", \"2021-03-31T00:00:00\", \"2021-04-01T00:00:00\", \"2021-04-02T00:00:00\", \"2021-04-03T00:00:00\", \"2021-04-04T00:00:00\", \"2021-04-05T00:00:00\", \"2021-04-06T00:00:00\", \"2021-04-07T00:00:00\", \"2021-04-08T00:00:00\", \"2021-04-09T00:00:00\", \"2021-04-10T00:00:00\", \"2021-04-11T00:00:00\", \"2021-04-12T00:00:00\", \"2021-04-13T00:00:00\", \"2021-04-14T00:00:00\", \"2021-04-15T00:00:00\", \"2021-04-16T00:00:00\", \"2021-04-17T00:00:00\", \"2021-04-18T00:00:00\", \"2021-04-19T00:00:00\", \"2021-04-20T00:00:00\", \"2021-04-21T00:00:00\", \"2021-04-22T00:00:00\", \"2021-04-23T00:00:00\", \"2021-04-24T00:00:00\", \"2021-04-25T00:00:00\", \"2021-04-26T00:00:00\", \"2021-04-27T00:00:00\", \"2021-04-28T00:00:00\", \"2021-04-29T00:00:00\", \"2021-04-30T00:00:00\", \"2021-05-01T00:00:00\", \"2021-05-02T00:00:00\", \"2021-05-03T00:00:00\", \"2021-05-04T00:00:00\", \"2021-05-05T00:00:00\", \"2021-05-06T00:00:00\", \"2021-05-07T00:00:00\", \"2021-05-08T00:00:00\", \"2021-05-09T00:00:00\", \"2021-05-10T00:00:00\", \"2021-05-11T00:00:00\", \"2021-05-12T00:00:00\", \"2021-05-13T00:00:00\", \"2021-05-14T00:00:00\", \"2021-05-15T00:00:00\", \"2021-05-16T00:00:00\", \"2021-05-17T00:00:00\", \"2021-05-18T00:00:00\", \"2021-05-19T00:00:00\", \"2021-05-20T00:00:00\", \"2021-05-21T00:00:00\", \"2021-05-22T00:00:00\", \"2021-05-23T00:00:00\", \"2021-05-24T00:00:00\", \"2021-05-25T00:00:00\", \"2021-05-26T00:00:00\", \"2021-05-27T00:00:00\", \"2021-05-28T00:00:00\", \"2021-05-29T00:00:00\", \"2021-05-30T00:00:00\", \"2021-05-31T00:00:00\", \"2021-06-01T00:00:00\", \"2021-06-02T00:00:00\", \"2021-06-03T00:00:00\", \"2021-06-04T00:00:00\", \"2021-06-05T00:00:00\", \"2021-06-06T00:00:00\", \"2021-06-07T00:00:00\", \"2021-06-08T00:00:00\", \"2021-06-09T00:00:00\", \"2021-06-10T00:00:00\", \"2021-06-11T00:00:00\", \"2021-06-12T00:00:00\", \"2021-06-13T00:00:00\"], \"xaxis\": \"x\", \"y\": [0.2986070806732443, 0.23911781775972135, 0.22083575159605334, 0.24230992455020312, 0.20226349390597792, 0.18456181079512485, 0.1938479396401625, 0.2237376668601277, 0.2922228670922809, 0.24840394660475912, 0.25130586186883347, 0.2396982008125363, 0.6259431224608241, 0.5124782356355195, 0.4526987811955891, 0.45560069645966345, 0.5441091120139292, 0.5194428322692977, 0.5014509576320372, 0.554846198491004, 0.4973882762623331, 0.4573418456181079, 0.440510737086477, 0.4689495066744051, 0.42774230992455026, 0.5194428322692977, 0.6146256529309344, 0.6239117817759721, 0.5989553105049332, 0.6329077190946024, 0.5708067324434125, 0.5368543238537433, 0.5560069645966337, 0.6564132327336041, 0.8000580383052813, 0.9437028438769586, 1.0, 0.786999419616947, 0.7980266976204295, 0.80586186883343, 0.8975623911781776, 0.8313987231572837, 0.7719094602437608, 0.7484039466047592, 0.8435867672663957, 0.7864190365641324, 0.8192106790481717, 0.7872896111433545, 0.6421938479396401, 0.5087057457922228, 0.5150899593731861, 0.4448636099825885, 0.3903076030179919, 0.3238537434706907, 0.37724898432965753, 0.5295995356935577, 0.5745792222867092, 0.5908299477655252, 0.5716773070226349, 0.5972141613464887, 0.6863029599535693, 0.6590249564712709, 0.6686012768427161, 0.6807893209518281, 0.5667440510737087, 0.6700522344747533, 0.589378990133488, 0.6448055716773069, 0.6633778293673824, 0.6160766105629716, 0.5084155542658155, 0.5536854323853744, 0.4051073708647707, 0.4486360998258851, 0.46140452698781204, 0.4892629135229252, 0.45618107951247827, 0.3905977945443993, 0.40191526407428907, 0.13232733604178754, 0.1955890887986071, 0.13203714451538018, 0.10011607661056293, 0.0, 0.10301799187463723, 0.09373186302959957, 0.19820081253627392, 0.20284387695879286, 0.14480557167730695, 0.1677307022634939, 0.16482878699941966, 0.17266395821242014, 0.1413232733604179, 0.1616366802089379, 0.17034242600116073, 0.12594312246082418, 0.1073708647707487, 0.18224027858386543, 0.10882182240278582, 0.18833430063842133, 0.37115496227510153, 0.30876378409750443, 0.22112594312246087, 0.18514219384793967, 0.21474172954149734], \"yaxis\": \"y\"}, {\"hovertemplate\": \"variable=GTOUSDT<br>x=%{x}<br>value=%{y}<extra></extra>\", \"legendgroup\": \"GTOUSDT\", \"line\": {\"color\": \"#FF97FF\", \"dash\": \"solid\"}, \"mode\": \"lines\", \"name\": \"GTOUSDT\", \"showlegend\": true, \"type\": \"scattergl\", \"x\": [\"2021-03-01T00:00:00\", \"2021-03-02T00:00:00\", \"2021-03-03T00:00:00\", \"2021-03-04T00:00:00\", \"2021-03-05T00:00:00\", \"2021-03-06T00:00:00\", \"2021-03-07T00:00:00\", \"2021-03-08T00:00:00\", \"2021-03-09T00:00:00\", \"2021-03-10T00:00:00\", \"2021-03-11T00:00:00\", \"2021-03-12T00:00:00\", \"2021-03-13T00:00:00\", \"2021-03-14T00:00:00\", \"2021-03-15T00:00:00\", \"2021-03-16T00:00:00\", \"2021-03-17T00:00:00\", \"2021-03-18T00:00:00\", \"2021-03-19T00:00:00\", \"2021-03-20T00:00:00\", \"2021-03-21T00:00:00\", \"2021-03-22T00:00:00\", \"2021-03-23T00:00:00\", \"2021-03-24T00:00:00\", \"2021-03-25T00:00:00\", \"2021-03-26T00:00:00\", \"2021-03-27T00:00:00\", \"2021-03-28T00:00:00\", \"2021-03-29T00:00:00\", \"2021-03-30T00:00:00\", \"2021-03-31T00:00:00\", \"2021-04-01T00:00:00\", \"2021-04-02T00:00:00\", \"2021-04-03T00:00:00\", \"2021-04-04T00:00:00\", \"2021-04-05T00:00:00\", \"2021-04-06T00:00:00\", \"2021-04-07T00:00:00\", \"2021-04-08T00:00:00\", \"2021-04-09T00:00:00\", \"2021-04-10T00:00:00\", \"2021-04-11T00:00:00\", \"2021-04-12T00:00:00\", \"2021-04-13T00:00:00\", \"2021-04-14T00:00:00\", \"2021-04-15T00:00:00\", \"2021-04-16T00:00:00\", \"2021-04-17T00:00:00\", \"2021-04-18T00:00:00\", \"2021-04-19T00:00:00\", \"2021-04-20T00:00:00\", \"2021-04-21T00:00:00\", \"2021-04-22T00:00:00\", \"2021-04-23T00:00:00\", \"2021-04-24T00:00:00\", \"2021-04-25T00:00:00\", \"2021-04-26T00:00:00\", \"2021-04-27T00:00:00\", \"2021-04-28T00:00:00\", \"2021-04-29T00:00:00\", \"2021-04-30T00:00:00\", \"2021-05-01T00:00:00\", \"2021-05-02T00:00:00\", \"2021-05-03T00:00:00\", \"2021-05-04T00:00:00\", \"2021-05-05T00:00:00\", \"2021-05-06T00:00:00\", \"2021-05-07T00:00:00\", \"2021-05-08T00:00:00\", \"2021-05-09T00:00:00\", \"2021-05-10T00:00:00\", \"2021-05-11T00:00:00\", \"2021-05-12T00:00:00\", \"2021-05-13T00:00:00\", \"2021-05-14T00:00:00\", \"2021-05-15T00:00:00\", \"2021-05-16T00:00:00\", \"2021-05-17T00:00:00\", \"2021-05-18T00:00:00\", \"2021-05-19T00:00:00\", \"2021-05-20T00:00:00\", \"2021-05-21T00:00:00\", \"2021-05-22T00:00:00\", \"2021-05-23T00:00:00\", \"2021-05-24T00:00:00\", \"2021-05-25T00:00:00\", \"2021-05-26T00:00:00\", \"2021-05-27T00:00:00\", \"2021-05-28T00:00:00\", \"2021-05-29T00:00:00\", \"2021-05-30T00:00:00\", \"2021-05-31T00:00:00\", \"2021-06-01T00:00:00\", \"2021-06-02T00:00:00\", \"2021-06-03T00:00:00\", \"2021-06-04T00:00:00\", \"2021-06-05T00:00:00\", \"2021-06-06T00:00:00\", \"2021-06-07T00:00:00\", \"2021-06-08T00:00:00\", \"2021-06-09T00:00:00\", \"2021-06-10T00:00:00\", \"2021-06-11T00:00:00\", \"2021-06-12T00:00:00\", \"2021-06-13T00:00:00\"], \"xaxis\": \"x\", \"y\": [0.010395379831186158, 0.0, 0.015015548645046672, 0.020968458462905404, 0.03953798311861395, 0.03394047090182142, 0.04255886272767659, 0.03669480231008443, 0.04957796534873393, 0.11523767214571304, 0.10972900932918703, 0.10839626832518881, 0.15984007107952022, 0.1253665037760995, 0.15077743225233228, 0.1837405597512217, 0.17947578853842736, 0.1934251443802754, 0.2117281208351844, 0.2079075966237228, 0.20897378942692132, 0.19475788538427366, 0.17423367392270103, 0.15681919147045756, 0.1297201243891604, 0.16446023989338068, 0.15921812527765436, 0.2175921812527765, 0.22256774766770324, 0.46032874278098623, 0.47676588183029767, 0.4411372723234118, 0.3915593069746779, 0.33176366059529094, 0.4419369169258107, 0.8542869835628608, 0.7346068414038204, 0.6331408262994224, 0.9560195468680586, 0.8369613505108839, 0.74491337183474, 1.0, 0.8522434473567302, 0.8106619280319857, 0.757885384273656, 0.770857396712572, 0.6756108396268324, 0.7231452687694356, 0.5750333185251, 0.4820968458462904, 0.4698356286095069, 0.595646379386939, 0.4906263882718791, 0.42878720568636164, 0.36117281208351837, 0.388183029764549, 0.4760550866281652, 0.5693469569080408, 0.5673034207019102, 0.5435806308307418, 0.5750333185251, 0.6226565970679697, 0.6181252776543757, 0.6350066637050199, 0.5150599733451798, 0.5557529986672589, 0.5355841848067525, 0.5426032874278098, 0.5603731674811194, 0.5145268769435806, 0.4326965792980897, 0.46441581519324737, 0.34020435362061296, 0.3432252332296756, 0.3721901377165704, 0.3305197689915593, 0.38987116836961344, 0.3211017325633052, 0.3151488227454464, 0.1288316303864949, 0.18036428254109285, 0.1158596179475789, 0.08209684584629054, 0.048867170146601524, 0.09524655708573967, 0.10999555752998671, 0.14766770324300313, 0.1342514438027543, 0.08947134606841403, 0.12323411816970234, 0.14517992003553978, 0.15886272767658818, 0.13265215459795646, 0.13549533540648598, 0.14855619724566857, 0.11488227454464686, 0.1760995113282985, 0.23998223011994665, 0.3203020879609062, 0.5271434917814304, 0.5133718347401155, 0.5280319857840959, 0.37290093291870274, 0.36055086628165256, 0.3888049755664149], \"yaxis\": \"y\"}, {\"hovertemplate\": \"variable=CTKUSDT<br>x=%{x}<br>value=%{y}<extra></extra>\", \"legendgroup\": \"CTKUSDT\", \"line\": {\"color\": \"#FECB52\", \"dash\": \"solid\"}, \"mode\": \"lines\", \"name\": \"CTKUSDT\", \"showlegend\": true, \"type\": \"scattergl\", \"x\": [\"2021-03-01T00:00:00\", \"2021-03-02T00:00:00\", \"2021-03-03T00:00:00\", \"2021-03-04T00:00:00\", \"2021-03-05T00:00:00\", \"2021-03-06T00:00:00\", \"2021-03-07T00:00:00\", \"2021-03-08T00:00:00\", \"2021-03-09T00:00:00\", \"2021-03-10T00:00:00\", \"2021-03-11T00:00:00\", \"2021-03-12T00:00:00\", \"2021-03-13T00:00:00\", \"2021-03-14T00:00:00\", \"2021-03-15T00:00:00\", \"2021-03-16T00:00:00\", \"2021-03-17T00:00:00\", \"2021-03-18T00:00:00\", \"2021-03-19T00:00:00\", \"2021-03-20T00:00:00\", \"2021-03-21T00:00:00\", \"2021-03-22T00:00:00\", \"2021-03-23T00:00:00\", \"2021-03-24T00:00:00\", \"2021-03-25T00:00:00\", \"2021-03-26T00:00:00\", \"2021-03-27T00:00:00\", \"2021-03-28T00:00:00\", \"2021-03-29T00:00:00\", \"2021-03-30T00:00:00\", \"2021-03-31T00:00:00\", \"2021-04-01T00:00:00\", \"2021-04-02T00:00:00\", \"2021-04-03T00:00:00\", \"2021-04-04T00:00:00\", \"2021-04-05T00:00:00\", \"2021-04-06T00:00:00\", \"2021-04-07T00:00:00\", \"2021-04-08T00:00:00\", \"2021-04-09T00:00:00\", \"2021-04-10T00:00:00\", \"2021-04-11T00:00:00\", \"2021-04-12T00:00:00\", \"2021-04-13T00:00:00\", \"2021-04-14T00:00:00\", \"2021-04-15T00:00:00\", \"2021-04-16T00:00:00\", \"2021-04-17T00:00:00\", \"2021-04-18T00:00:00\", \"2021-04-19T00:00:00\", \"2021-04-20T00:00:00\", \"2021-04-21T00:00:00\", \"2021-04-22T00:00:00\", \"2021-04-23T00:00:00\", \"2021-04-24T00:00:00\", \"2021-04-25T00:00:00\", \"2021-04-26T00:00:00\", \"2021-04-27T00:00:00\", \"2021-04-28T00:00:00\", \"2021-04-29T00:00:00\", \"2021-04-30T00:00:00\", \"2021-05-01T00:00:00\", \"2021-05-02T00:00:00\", \"2021-05-03T00:00:00\", \"2021-05-04T00:00:00\", \"2021-05-05T00:00:00\", \"2021-05-06T00:00:00\", \"2021-05-07T00:00:00\", \"2021-05-08T00:00:00\", \"2021-05-09T00:00:00\", \"2021-05-10T00:00:00\", \"2021-05-11T00:00:00\", \"2021-05-12T00:00:00\", \"2021-05-13T00:00:00\", \"2021-05-14T00:00:00\", \"2021-05-15T00:00:00\", \"2021-05-16T00:00:00\", \"2021-05-17T00:00:00\", \"2021-05-18T00:00:00\", \"2021-05-19T00:00:00\", \"2021-05-20T00:00:00\", \"2021-05-21T00:00:00\", \"2021-05-22T00:00:00\", \"2021-05-23T00:00:00\", \"2021-05-24T00:00:00\", \"2021-05-25T00:00:00\", \"2021-05-26T00:00:00\", \"2021-05-27T00:00:00\", \"2021-05-28T00:00:00\", \"2021-05-29T00:00:00\", \"2021-05-30T00:00:00\", \"2021-05-31T00:00:00\", \"2021-06-01T00:00:00\", \"2021-06-02T00:00:00\", \"2021-06-03T00:00:00\", \"2021-06-04T00:00:00\", \"2021-06-05T00:00:00\", \"2021-06-06T00:00:00\", \"2021-06-07T00:00:00\", \"2021-06-08T00:00:00\", \"2021-06-09T00:00:00\", \"2021-06-10T00:00:00\", \"2021-06-11T00:00:00\", \"2021-06-12T00:00:00\", \"2021-06-13T00:00:00\"], \"xaxis\": \"x\", \"y\": [0.23194099551536257, 0.25595789629739446, 0.2516585745524628, 0.2893888291760868, 0.2326451947666876, 0.275786664689967, 0.39568585300767195, 0.3730032244913087, 0.4253363478003039, 0.38412216003854566, 0.4067677254364182, 0.4282643341610764, 0.558096438234313, 0.4830065601719729, 0.5479782068863275, 0.5204403098476706, 0.5273340498869574, 0.5549831362810866, 0.6093547311070755, 0.5311886142099995, 0.5069493347170231, 0.5624328230977353, 0.477521218635336, 0.3773025462362403, 0.33323449835069124, 0.4512805307438567, 0.47522330528890705, 0.5885252585152514, 0.6238464104369743, 0.6525332641488455, 0.612060338756903, 0.7627219154219635, 0.7133167784737409, 0.8510433267855158, 0.9147918905896744, 0.8930729031540714, 1.0, 0.8034542826433417, 0.8596049071568881, 0.9141988806938215, 0.845891553315296, 0.8652014380489974, 0.7942626292576258, 0.799525592083318, 0.7752121863533599, 0.839924391238279, 0.7370371743078463, 0.7322930951410254, 0.5293725214039509, 0.40791668210963256, 0.45624698862162266, 0.3924242985804825, 0.4184796708795078, 0.3976131351691932, 0.5059856936362626, 0.4374189244283014, 0.493384233349394, 0.6201400985878951, 0.551202698195026, 0.5012786775879321, 0.5234424224454246, 0.5227382231940996, 0.582261591490308, 0.6651717875542049, 0.564285979022275, 0.7140951039620473, 0.6996404877506393, 0.6783291946184351, 0.7733590304288203, 0.7467477113524332, 0.5582446907082761, 0.5952336829620843, 0.3888291760868759, 0.42051814239650126, 0.45995330047070154, 0.37481931729735746, 0.4010229420703458, 0.3217819947370372, 0.33030651198991884, 0.052963196323338624, 0.1425818168340684, 0.04833030651198994, 0.04936807382973202, 0.010488862532893495, 0.07905563174085467, 0.08583818242466923, 0.13720766465290396, 0.1189355472369445, 0.04202957636855559, 0.0, 0.06545346725473483, 0.09228716504206669, 0.0817612393906823, 0.1298321040732367, 0.1366146547570512, 0.061117082391312416, 0.058411474741484726, 0.06819613802305324, 0.026055372299025215, 0.019680515918609365, 0.041102998406285896, 0.04825618027500833, 0.02031058893295279, 0.0015195878581223399, 0.022386123568437055], \"yaxis\": \"y\"}],                        {\"legend\": {\"title\": {\"text\": \"variable\"}, \"tracegroupgap\": 0}, \"margin\": {\"t\": 60}, \"template\": {\"data\": {\"bar\": [{\"error_x\": {\"color\": \"#2a3f5f\"}, \"error_y\": {\"color\": \"#2a3f5f\"}, \"marker\": {\"line\": {\"color\": \"#E5ECF6\", \"width\": 0.5}}, \"type\": \"bar\"}], \"barpolar\": [{\"marker\": {\"line\": {\"color\": \"#E5ECF6\", \"width\": 0.5}}, \"type\": \"barpolar\"}], \"carpet\": [{\"aaxis\": {\"endlinecolor\": \"#2a3f5f\", \"gridcolor\": \"white\", \"linecolor\": \"white\", \"minorgridcolor\": \"white\", \"startlinecolor\": \"#2a3f5f\"}, \"baxis\": {\"endlinecolor\": \"#2a3f5f\", \"gridcolor\": \"white\", \"linecolor\": \"white\", \"minorgridcolor\": \"white\", \"startlinecolor\": \"#2a3f5f\"}, \"type\": \"carpet\"}], \"choropleth\": [{\"colorbar\": {\"outlinewidth\": 0, \"ticks\": \"\"}, \"type\": \"choropleth\"}], \"contour\": [{\"colorbar\": {\"outlinewidth\": 0, \"ticks\": \"\"}, \"colorscale\": [[0.0, \"#0d0887\"], [0.1111111111111111, \"#46039f\"], [0.2222222222222222, \"#7201a8\"], [0.3333333333333333, \"#9c179e\"], [0.4444444444444444, \"#bd3786\"], [0.5555555555555556, \"#d8576b\"], [0.6666666666666666, \"#ed7953\"], [0.7777777777777778, \"#fb9f3a\"], [0.8888888888888888, \"#fdca26\"], [1.0, \"#f0f921\"]], \"type\": \"contour\"}], \"contourcarpet\": [{\"colorbar\": {\"outlinewidth\": 0, \"ticks\": \"\"}, \"type\": \"contourcarpet\"}], \"heatmap\": [{\"colorbar\": {\"outlinewidth\": 0, \"ticks\": \"\"}, \"colorscale\": [[0.0, \"#0d0887\"], [0.1111111111111111, \"#46039f\"], [0.2222222222222222, \"#7201a8\"], [0.3333333333333333, \"#9c179e\"], [0.4444444444444444, \"#bd3786\"], [0.5555555555555556, \"#d8576b\"], [0.6666666666666666, \"#ed7953\"], [0.7777777777777778, \"#fb9f3a\"], [0.8888888888888888, \"#fdca26\"], [1.0, \"#f0f921\"]], \"type\": \"heatmap\"}], \"heatmapgl\": [{\"colorbar\": {\"outlinewidth\": 0, \"ticks\": \"\"}, \"colorscale\": [[0.0, \"#0d0887\"], [0.1111111111111111, \"#46039f\"], [0.2222222222222222, \"#7201a8\"], [0.3333333333333333, \"#9c179e\"], [0.4444444444444444, \"#bd3786\"], [0.5555555555555556, \"#d8576b\"], [0.6666666666666666, \"#ed7953\"], [0.7777777777777778, \"#fb9f3a\"], [0.8888888888888888, \"#fdca26\"], [1.0, \"#f0f921\"]], \"type\": \"heatmapgl\"}], \"histogram\": [{\"marker\": {\"colorbar\": {\"outlinewidth\": 0, \"ticks\": \"\"}}, \"type\": \"histogram\"}], \"histogram2d\": [{\"colorbar\": {\"outlinewidth\": 0, \"ticks\": \"\"}, \"colorscale\": [[0.0, \"#0d0887\"], [0.1111111111111111, \"#46039f\"], [0.2222222222222222, \"#7201a8\"], [0.3333333333333333, \"#9c179e\"], [0.4444444444444444, \"#bd3786\"], [0.5555555555555556, \"#d8576b\"], [0.6666666666666666, \"#ed7953\"], [0.7777777777777778, \"#fb9f3a\"], [0.8888888888888888, \"#fdca26\"], [1.0, \"#f0f921\"]], \"type\": \"histogram2d\"}], \"histogram2dcontour\": [{\"colorbar\": {\"outlinewidth\": 0, \"ticks\": \"\"}, \"colorscale\": [[0.0, \"#0d0887\"], [0.1111111111111111, \"#46039f\"], [0.2222222222222222, \"#7201a8\"], [0.3333333333333333, \"#9c179e\"], [0.4444444444444444, \"#bd3786\"], [0.5555555555555556, \"#d8576b\"], [0.6666666666666666, \"#ed7953\"], [0.7777777777777778, \"#fb9f3a\"], [0.8888888888888888, \"#fdca26\"], [1.0, \"#f0f921\"]], \"type\": \"histogram2dcontour\"}], \"mesh3d\": [{\"colorbar\": {\"outlinewidth\": 0, \"ticks\": \"\"}, \"type\": \"mesh3d\"}], \"parcoords\": [{\"line\": {\"colorbar\": {\"outlinewidth\": 0, \"ticks\": \"\"}}, \"type\": \"parcoords\"}], \"pie\": [{\"automargin\": true, \"type\": \"pie\"}], \"scatter\": [{\"marker\": {\"colorbar\": {\"outlinewidth\": 0, \"ticks\": \"\"}}, \"type\": \"scatter\"}], \"scatter3d\": [{\"line\": {\"colorbar\": {\"outlinewidth\": 0, \"ticks\": \"\"}}, \"marker\": {\"colorbar\": {\"outlinewidth\": 0, \"ticks\": \"\"}}, \"type\": \"scatter3d\"}], \"scattercarpet\": [{\"marker\": {\"colorbar\": {\"outlinewidth\": 0, \"ticks\": \"\"}}, \"type\": \"scattercarpet\"}], \"scattergeo\": [{\"marker\": {\"colorbar\": {\"outlinewidth\": 0, \"ticks\": \"\"}}, \"type\": \"scattergeo\"}], \"scattergl\": [{\"marker\": {\"colorbar\": {\"outlinewidth\": 0, \"ticks\": \"\"}}, \"type\": \"scattergl\"}], \"scattermapbox\": [{\"marker\": {\"colorbar\": {\"outlinewidth\": 0, \"ticks\": \"\"}}, \"type\": \"scattermapbox\"}], \"scatterpolar\": [{\"marker\": {\"colorbar\": {\"outlinewidth\": 0, \"ticks\": \"\"}}, \"type\": \"scatterpolar\"}], \"scatterpolargl\": [{\"marker\": {\"colorbar\": {\"outlinewidth\": 0, \"ticks\": \"\"}}, \"type\": \"scatterpolargl\"}], \"scatterternary\": [{\"marker\": {\"colorbar\": {\"outlinewidth\": 0, \"ticks\": \"\"}}, \"type\": \"scatterternary\"}], \"surface\": [{\"colorbar\": {\"outlinewidth\": 0, \"ticks\": \"\"}, \"colorscale\": [[0.0, \"#0d0887\"], [0.1111111111111111, \"#46039f\"], [0.2222222222222222, \"#7201a8\"], [0.3333333333333333, \"#9c179e\"], [0.4444444444444444, \"#bd3786\"], [0.5555555555555556, \"#d8576b\"], [0.6666666666666666, \"#ed7953\"], [0.7777777777777778, \"#fb9f3a\"], [0.8888888888888888, \"#fdca26\"], [1.0, \"#f0f921\"]], \"type\": \"surface\"}], \"table\": [{\"cells\": {\"fill\": {\"color\": \"#EBF0F8\"}, \"line\": {\"color\": \"white\"}}, \"header\": {\"fill\": {\"color\": \"#C8D4E3\"}, \"line\": {\"color\": \"white\"}}, \"type\": \"table\"}]}, \"layout\": {\"annotationdefaults\": {\"arrowcolor\": \"#2a3f5f\", \"arrowhead\": 0, \"arrowwidth\": 1}, \"autotypenumbers\": \"strict\", \"coloraxis\": {\"colorbar\": {\"outlinewidth\": 0, \"ticks\": \"\"}}, \"colorscale\": {\"diverging\": [[0, \"#8e0152\"], [0.1, \"#c51b7d\"], [0.2, \"#de77ae\"], [0.3, \"#f1b6da\"], [0.4, \"#fde0ef\"], [0.5, \"#f7f7f7\"], [0.6, \"#e6f5d0\"], [0.7, \"#b8e186\"], [0.8, \"#7fbc41\"], [0.9, \"#4d9221\"], [1, \"#276419\"]], \"sequential\": [[0.0, \"#0d0887\"], [0.1111111111111111, \"#46039f\"], [0.2222222222222222, \"#7201a8\"], [0.3333333333333333, \"#9c179e\"], [0.4444444444444444, \"#bd3786\"], [0.5555555555555556, \"#d8576b\"], [0.6666666666666666, \"#ed7953\"], [0.7777777777777778, \"#fb9f3a\"], [0.8888888888888888, \"#fdca26\"], [1.0, \"#f0f921\"]], \"sequentialminus\": [[0.0, \"#0d0887\"], [0.1111111111111111, \"#46039f\"], [0.2222222222222222, \"#7201a8\"], [0.3333333333333333, \"#9c179e\"], [0.4444444444444444, \"#bd3786\"], [0.5555555555555556, \"#d8576b\"], [0.6666666666666666, \"#ed7953\"], [0.7777777777777778, \"#fb9f3a\"], [0.8888888888888888, \"#fdca26\"], [1.0, \"#f0f921\"]]}, \"colorway\": [\"#636efa\", \"#EF553B\", \"#00cc96\", \"#ab63fa\", \"#FFA15A\", \"#19d3f3\", \"#FF6692\", \"#B6E880\", \"#FF97FF\", \"#FECB52\"], \"font\": {\"color\": \"#2a3f5f\"}, \"geo\": {\"bgcolor\": \"white\", \"lakecolor\": \"white\", \"landcolor\": \"#E5ECF6\", \"showlakes\": true, \"showland\": true, \"subunitcolor\": \"white\"}, \"hoverlabel\": {\"align\": \"left\"}, \"hovermode\": \"closest\", \"mapbox\": {\"style\": \"light\"}, \"paper_bgcolor\": \"white\", \"plot_bgcolor\": \"#E5ECF6\", \"polar\": {\"angularaxis\": {\"gridcolor\": \"white\", \"linecolor\": \"white\", \"ticks\": \"\"}, \"bgcolor\": \"#E5ECF6\", \"radialaxis\": {\"gridcolor\": \"white\", \"linecolor\": \"white\", \"ticks\": \"\"}}, \"scene\": {\"xaxis\": {\"backgroundcolor\": \"#E5ECF6\", \"gridcolor\": \"white\", \"gridwidth\": 2, \"linecolor\": \"white\", \"showbackground\": true, \"ticks\": \"\", \"zerolinecolor\": \"white\"}, \"yaxis\": {\"backgroundcolor\": \"#E5ECF6\", \"gridcolor\": \"white\", \"gridwidth\": 2, \"linecolor\": \"white\", \"showbackground\": true, \"ticks\": \"\", \"zerolinecolor\": \"white\"}, \"zaxis\": {\"backgroundcolor\": \"#E5ECF6\", \"gridcolor\": \"white\", \"gridwidth\": 2, \"linecolor\": \"white\", \"showbackground\": true, \"ticks\": \"\", \"zerolinecolor\": \"white\"}}, \"shapedefaults\": {\"line\": {\"color\": \"#2a3f5f\"}}, \"ternary\": {\"aaxis\": {\"gridcolor\": \"white\", \"linecolor\": \"white\", \"ticks\": \"\"}, \"baxis\": {\"gridcolor\": \"white\", \"linecolor\": \"white\", \"ticks\": \"\"}, \"bgcolor\": \"#E5ECF6\", \"caxis\": {\"gridcolor\": \"white\", \"linecolor\": \"white\", \"ticks\": \"\"}}, \"title\": {\"x\": 0.05}, \"xaxis\": {\"automargin\": true, \"gridcolor\": \"white\", \"linecolor\": \"white\", \"ticks\": \"\", \"title\": {\"standoff\": 15}, \"zerolinecolor\": \"white\", \"zerolinewidth\": 2}, \"yaxis\": {\"automargin\": true, \"gridcolor\": \"white\", \"linecolor\": \"white\", \"ticks\": \"\", \"title\": {\"standoff\": 15}, \"zerolinecolor\": \"white\", \"zerolinewidth\": 2}}}, \"xaxis\": {\"anchor\": \"y\", \"domain\": [0.0, 1.0], \"title\": {\"text\": \"x\"}}, \"yaxis\": {\"anchor\": \"x\", \"domain\": [0.0, 1.0], \"title\": {\"text\": \"value\"}}},                        {\"responsive\": true}                    ).then(function(){\n",
              "                            \n",
              "var gd = document.getElementById('1a307464-440b-44bd-be53-81fbce5ec77e');\n",
              "var x = new MutationObserver(function (mutations, observer) {{\n",
              "        var display = window.getComputedStyle(gd).display;\n",
              "        if (!display || display === 'none') {{\n",
              "            console.log([gd, 'removed!']);\n",
              "            Plotly.purge(gd);\n",
              "            observer.disconnect();\n",
              "        }}\n",
              "}});\n",
              "\n",
              "// Listen for the removal of the full notebook cells\n",
              "var notebookContainer = gd.closest('#notebook-container');\n",
              "if (notebookContainer) {{\n",
              "    x.observe(notebookContainer, {childList: true});\n",
              "}}\n",
              "\n",
              "// Listen for the clearing of the current output cell\n",
              "var outputEl = gd.closest('.output');\n",
              "if (outputEl) {{\n",
              "    x.observe(outputEl, {childList: true});\n",
              "}}\n",
              "\n",
              "                        })                };                            </script>        </div>\n",
              "</body>\n",
              "</html>"
            ]
          },
          "metadata": {
            "tags": []
          }
        }
      ]
    },
    {
      "cell_type": "code",
      "metadata": {
        "id": "level-white"
      },
      "source": [
        "from pypfopt.efficient_frontier import EfficientFrontier\n",
        "from pypfopt import risk_models\n",
        "from pypfopt import expected_returns\n",
        "from pypfopt import HRPOpt\n",
        "from pypfopt import CLA\n",
        "from pypfopt import black_litterman\n",
        "from pypfopt import BlackLittermanModel\n",
        "from pypfopt import plotting"
      ],
      "id": "level-white",
      "execution_count": null,
      "outputs": []
    },
    {
      "cell_type": "code",
      "metadata": {
        "colab": {
          "base_uri": "https://localhost:8080/"
        },
        "id": "sharp-scale",
        "outputId": "2cd6953d-d2f3-4b28-bead-a251ce20e48e"
      },
      "source": [
        "# portifolio Optimization !\n",
        "\n",
        "# get the expected return and anual covariance matrix\n",
        "mu = expected_returns.mean_historical_return(df)\n",
        "S = risk_models.sample_cov(df)\n",
        "\n",
        "#  optim the sharpe raatio\n",
        "ef = EfficientFrontier(mu, S)\n",
        "weights = ef.max_sharpe()\n",
        "cleaned_wieghts = ef.clean_weights()\n",
        "print(cleaned_wieghts)\n",
        "\n",
        "ef.portfolio_performance(verbose = True)\n"
      ],
      "id": "sharp-scale",
      "execution_count": null,
      "outputs": [
        {
          "output_type": "stream",
          "text": [
            "OrderedDict([('TFUELUSDT', 1.0), ('COCOSUSDT', 0.0), ('HIVEUSDT', 0.0), ('DATAUSDT', 0.0), ('ONGUSDT', 0.0), ('IRISUSDT', 0.0), ('BZRXUSDT', 0.0), ('FIOUSDT', 0.0), ('GTOUSDT', 0.0), ('CTKUSDT', 0.0)])\n",
            "Expected annual return: 3934.4%\n",
            "Annual volatility: 169.6%\n",
            "Sharpe Ratio: 23.19\n"
          ],
          "name": "stdout"
        },
        {
          "output_type": "execute_result",
          "data": {
            "text/plain": [
              "(39.34416015851886, 1.6960286294318623, 23.18602379471136)"
            ]
          },
          "metadata": {
            "tags": []
          },
          "execution_count": 37
        }
      ]
    },
    {
      "cell_type": "code",
      "metadata": {
        "colab": {
          "base_uri": "https://localhost:8080/"
        },
        "id": "a15708e8",
        "outputId": "58743743-57f5-4ca3-9f2e-b64d8adc613e"
      },
      "source": [
        "# geting the allocation per stock\n",
        "from pypfopt.discrete_allocation import DiscreteAllocation, get_latest_prices\n",
        "\n",
        "latest_prices = get_latest_prices(df)\n",
        "weights = cleaned_wieghts\n",
        "\n",
        "da = DiscreteAllocation(weights, latest_prices, total_portfolio_value = 26)\n",
        "\n",
        "allocation, leftover = da.lp_portfolio()\n",
        "print('discret allocation: ', allocation)\n",
        "print('funds remaining: ${:.2f}'.format(leftover))"
      ],
      "id": "a15708e8",
      "execution_count": null,
      "outputs": [
        {
          "output_type": "stream",
          "text": [
            "discret allocation:  {'TFUELUSDT': 50}\n",
            "funds remaining: $0.04\n"
          ],
          "name": "stdout"
        }
      ]
    },
    {
      "cell_type": "code",
      "metadata": {
        "colab": {
          "base_uri": "https://localhost:8080/",
          "height": 419
        },
        "id": "solar-playback",
        "outputId": "a39d9286-5310-4460-d689-3ffa42d87864"
      },
      "source": [
        "# Hierarchical risk parity\n",
        "hrp = HRPOpt(df.pct_change())\n",
        "weights = hrp.optimize()\n",
        "hrp.portfolio_performance(verbose=True)\n",
        "print(weights)\n",
        "plotting.plot_dendrogram(hrp)  # to plot dendrogram\n",
        "\n",
        "# geting the allocation per stock\n",
        "from pypfopt.discrete_allocation import DiscreteAllocation, get_latest_prices\n",
        "\n",
        "latest_prices = get_latest_prices(df)\n",
        "\n",
        "da = DiscreteAllocation(weights, latest_prices, total_portfolio_value = 26)\n",
        "\n",
        "allocation, leftover = da.lp_portfolio()\n",
        "print('discret allocation: ', allocation)\n",
        "print('funds remaining: ${:.2f}'.format(leftover))"
      ],
      "id": "solar-playback",
      "execution_count": null,
      "outputs": [
        {
          "output_type": "stream",
          "text": [
            "Expected annual return: 228.2%\n",
            "Annual volatility: 128.9%\n",
            "Sharpe Ratio: 1.75\n",
            "OrderedDict([('BZRXUSDT', 0.11341628120269023), ('COCOSUSDT', 0.05200440581132878), ('CTKUSDT', 0.09854830569959012), ('DATAUSDT', 0.0944297997588913), ('FIOUSDT', 0.10936520376532975), ('GTOUSDT', 0.07971489238319346), ('HIVEUSDT', 0.19098175809312024), ('IRISUSDT', 0.11887081279227733), ('ONGUSDT', 0.015799545155089547), ('TFUELUSDT', 0.12686899533848925)])\n",
            "discret allocation:  {'BZRXUSDT': 6, 'COCOSUSDT': 2, 'CTKUSDT': 7, 'DATAUSDT': 12, 'FIOUSDT': 3, 'GTOUSDT': 26, 'HIVEUSDT': 18, 'IRISUSDT': 16, 'ONGUSDT': 7, 'TFUELUSDT': 3}\n",
            "funds remaining: $0.07\n"
          ],
          "name": "stdout"
        },
        {
          "output_type": "display_data",
          "data": {
            "image/png": "[encoded data removed]",
            "text/plain": [
              "<Figure size 432x288 with 1 Axes>"
            ]
          },
          "metadata": {
            "tags": []
          }
        }
      ]
    },
    {
      "cell_type": "code",
      "metadata": {
        "colab": {
          "base_uri": "https://localhost:8080/",
          "height": 419
        },
        "id": "XbCRYHlhlKDW",
        "outputId": "9aac91a1-aadf-44fb-e2da-a81af09c9c7c"
      },
      "source": [
        "# Crticial Line Algorithm\n",
        "cla = CLA(mu, S)\n",
        "weights = cla.max_sharpe()\n",
        "print(cla.max_sharpe())\n",
        "cla.portfolio_performance(verbose=True)\n",
        "plotting.plot_efficient_frontier(cla)  # to plot\n",
        "\n",
        "# geting the allocation per stock\n",
        "from pypfopt.discrete_allocation import DiscreteAllocation, get_latest_prices\n",
        "\n",
        "latest_prices = get_latest_prices(df)\n",
        "\n",
        "da = DiscreteAllocation(weights, latest_prices, total_portfolio_value = 26)\n",
        "\n",
        "allocation, leftover = da.lp_portfolio()\n",
        "print('discret allocation: ', allocation)\n",
        "print('funds remaining: ${:.2f}'.format(leftover))"
      ],
      "id": "XbCRYHlhlKDW",
      "execution_count": null,
      "outputs": [
        {
          "output_type": "stream",
          "text": [
            "OrderedDict([('TFUELUSDT', 1.0), ('COCOSUSDT', 0.0), ('HIVEUSDT', 0.0), ('DATAUSDT', 0.0), ('ONGUSDT', 0.0), ('IRISUSDT', 0.0), ('BZRXUSDT', 0.0), ('FIOUSDT', 0.0), ('GTOUSDT', 6.938893901172926e-18), ('CTKUSDT', 0.0)])\n",
            "Expected annual return: 3934.4%\n",
            "Annual volatility: 169.6%\n",
            "Sharpe Ratio: 23.19\n",
            "discret allocation:  {'TFUELUSDT': 50}\n",
            "funds remaining: $0.04\n"
          ],
          "name": "stdout"
        },
        {
          "output_type": "display_data",
          "data": {
            "image/png": "[encoded data removed]",
            "text/plain": [
              "<Figure size 432x288 with 1 Axes>"
            ]
          },
          "metadata": {
            "tags": []
          }
        }
      ]
    },
    {
      "cell_type": "code",
      "metadata": {
        "id": "Df3nNLt2ltXo"
      },
      "source": [
        ""
      ],
      "id": "Df3nNLt2ltXo",
      "execution_count": null,
      "outputs": []
    },
    {
      "cell_type": "code",
      "metadata": {
        "id": "9kgsMBenl1Gp"
      },
      "source": [
        ""
      ],
      "id": "9kgsMBenl1Gp",
      "execution_count": null,
      "outputs": []
    },
    {
      "cell_type": "code",
      "metadata": {
        "id": "sLCvfzvkm-k-"
      },
      "source": [
        ""
      ],
      "id": "sLCvfzvkm-k-",
      "execution_count": null,
      "outputs": []
    },
    {
      "cell_type": "code",
      "metadata": {
        "id": "0gQAYbP3qBQs"
      },
      "source": [
        ""
      ],
      "id": "0gQAYbP3qBQs",
      "execution_count": null,
      "outputs": []
    },
    {
      "cell_type": "code",
      "metadata": {
        "id": "fheBgFL92L4s"
      },
      "source": [
        ""
      ],
      "id": "fheBgFL92L4s",
      "execution_count": null,
      "outputs": []
    }
  ]
}