{
  "nbformat": 4,
  "nbformat_minor": 0,
  "metadata": {
    "colab": {
      "name": "Python for Finance: Portfolio Optimization.ipynb",
      "provenance": [],
      "collapsed_sections": [],
      "authorship_tag": "ABX9TyMSlz+a5XOrvbzXdjUa9ylG",
      "include_colab_link": true
    },
    "kernelspec": {
      "name": "python3",
      "display_name": "Python 3"
    },
    "language_info": {
      "name": "python"
    }
  },
  "cells": [
    {
      "cell_type": "markdown",
      "metadata": {
        "id": "view-in-github",
        "colab_type": "text"
      },
      "source": [
        "<a href=\"https://colab.research.google.com/github/augustmuso/portfolios/blob/main/Python_for_Finance_Portfolio_Optimization.ipynb\" target=\"_parent\"><img src=\"https://colab.research.google.com/assets/colab-badge.svg\" alt=\"Open In Colab\"/></a>"
      ]
    },
    {
      "cell_type": "code",
      "metadata": {
        "id": "oP1OgDmwmyP4"
      },
      "source": [
        "# import some libs\n",
        "\n",
        "from pandas_datareader import data as web\n",
        "import pandas as pd\n",
        "import numpy as np\n",
        "from datetime import datetime\n",
        "import matplotlib.pyplot as plt\n",
        "from sklearn import preprocessing\n"
      ],
      "execution_count": 1,
      "outputs": []
    },
    {
      "cell_type": "markdown",
      "metadata": {
        "id": "Pt6o1mPvq_fJ"
      },
      "source": [
        "<!-- using FAANG as investment choices\n",
        " -->"
      ]
    },
    {
      "cell_type": "markdown",
      "metadata": {
        "id": "Y1qDtNbepUyR"
      },
      "source": [
        "Let's now get the cumulative return for 2018, which is also known as normalizing a price.\n",
        "\n",
        "We're going to create a new column in each stock dataframe called Normed Return."
      ]
    },
    {
      "cell_type": "code",
      "metadata": {
        "id": "e_yaUusRpH9N"
      },
      "source": [
        "# seleect universe\n",
        "# assets = ['FB', 'AMZN', 'AAPL', 'NFLX', 'GOOG']\n",
        "# assets = ['SPY', 'GLD', 'AAPL', 'FXB', 'TLT']\n",
        "assets = ['AAPL', 'MSFT', 'SQ']\n",
        "\n",
        "\n",
        "\n",
        "# assigning the weights\n",
        "weights = np.array([ 0.2, 0.2 , 0.2])\n",
        "\n",
        "# start date\n",
        "stockstartdate = '2016-01-01'\n",
        "\n",
        "# end date\n",
        "today = datetime.today().strftime('%Y-%m-%d')\n",
        "\n",
        "# geting the stock data\n",
        "df = pd.DataFrame()\n",
        "\n",
        "for stock in assets:\n",
        "  df[stock] = web.DataReader(stock, \n",
        "                             data_source = 'yahoo',\n",
        "                             start = stockstartdate, \n",
        "                             end = today )['Adj Close']"
      ],
      "execution_count": 2,
      "outputs": []
    },
    {
      "cell_type": "code",
      "metadata": {
        "colab": {
          "base_uri": "https://localhost:8080/",
          "height": 235
        },
        "id": "6FR7h0WapcUS",
        "outputId": "7636cb10-06f9-4dc3-f24e-d3d22ca7aaa9"
      },
      "source": [
        "df.head()"
      ],
      "execution_count": 3,
      "outputs": [
        {
          "output_type": "execute_result",
          "data": {
            "text/html": [
              "<div>\n",
              "<style scoped>\n",
              "    .dataframe tbody tr th:only-of-type {\n",
              "        vertical-align: middle;\n",
              "    }\n",
              "\n",
              "    .dataframe tbody tr th {\n",
              "        vertical-align: top;\n",
              "    }\n",
              "\n",
              "    .dataframe thead th {\n",
              "        text-align: right;\n",
              "    }\n",
              "</style>\n",
              "<table border=\"1\" class=\"dataframe\">\n",
              "  <thead>\n",
              "    <tr style=\"text-align: right;\">\n",
              "      <th></th>\n",
              "      <th>AAPL</th>\n",
              "      <th>MSFT</th>\n",
              "      <th>SQ</th>\n",
              "    </tr>\n",
              "    <tr>\n",
              "      <th>Date</th>\n",
              "      <th></th>\n",
              "      <th></th>\n",
              "      <th></th>\n",
              "    </tr>\n",
              "  </thead>\n",
              "  <tbody>\n",
              "    <tr>\n",
              "      <th>2016-01-04</th>\n",
              "      <td>24.323219</td>\n",
              "      <td>49.776890</td>\n",
              "      <td>12.16</td>\n",
              "    </tr>\n",
              "    <tr>\n",
              "      <th>2016-01-05</th>\n",
              "      <td>23.713696</td>\n",
              "      <td>50.003983</td>\n",
              "      <td>11.51</td>\n",
              "    </tr>\n",
              "    <tr>\n",
              "      <th>2016-01-06</th>\n",
              "      <td>23.249626</td>\n",
              "      <td>49.095642</td>\n",
              "      <td>11.52</td>\n",
              "    </tr>\n",
              "    <tr>\n",
              "      <th>2016-01-07</th>\n",
              "      <td>22.268383</td>\n",
              "      <td>47.387970</td>\n",
              "      <td>11.16</td>\n",
              "    </tr>\n",
              "    <tr>\n",
              "      <th>2016-01-08</th>\n",
              "      <td>22.386133</td>\n",
              "      <td>47.533310</td>\n",
              "      <td>11.31</td>\n",
              "    </tr>\n",
              "  </tbody>\n",
              "</table>\n",
              "</div>"
            ],
            "text/plain": [
              "                 AAPL       MSFT     SQ\n",
              "Date                                   \n",
              "2016-01-04  24.323219  49.776890  12.16\n",
              "2016-01-05  23.713696  50.003983  11.51\n",
              "2016-01-06  23.249626  49.095642  11.52\n",
              "2016-01-07  22.268383  47.387970  11.16\n",
              "2016-01-08  22.386133  47.533310  11.31"
            ]
          },
          "metadata": {
            "tags": []
          },
          "execution_count": 3
        }
      ]
    },
    {
      "cell_type": "code",
      "metadata": {
        "colab": {
          "base_uri": "https://localhost:8080/",
          "height": 282
        },
        "id": "lgCfTqvBnfGd",
        "outputId": "79838c1e-3bf9-459d-f162-4b4fb32106bb"
      },
      "source": [
        "min_max = preprocessing.MinMaxScaler()\n",
        "scaled_df = min_max.fit_transform(df.values)\n",
        "final_df = pd.DataFrame(scaled_df,columns=assets)\n",
        "final_df.plot()\n"
      ],
      "execution_count": 4,
      "outputs": [
        {
          "output_type": "execute_result",
          "data": {
            "text/plain": [
              "<matplotlib.axes._subplots.AxesSubplot at 0x7fa1a50dff90>"
            ]
          },
          "metadata": {
            "tags": []
          },
          "execution_count": 4
        },
        {
          "output_type": "display_data",
          "data": {
            "image/png": "[encoded data removed]",
            "text/plain": [
              "<Figure size 432x288 with 1 Axes>"
            ]
          },
          "metadata": {
            "tags": [],
            "needs_background": "light"
          }
        }
      ]
    },
    {
      "cell_type": "code",
      "metadata": {
        "colab": {
          "base_uri": "https://localhost:8080/",
          "height": 286
        },
        "id": "pKcCkeiqvpSb",
        "outputId": "47d0473a-00b9-456f-c301-c1d2560d5d2a"
      },
      "source": [
        "# view graph\n",
        "df.plot()"
      ],
      "execution_count": 5,
      "outputs": [
        {
          "output_type": "execute_result",
          "data": {
            "text/plain": [
              "<matplotlib.axes._subplots.AxesSubplot at 0x7fa1a560a310>"
            ]
          },
          "metadata": {
            "tags": []
          },
          "execution_count": 5
        },
        {
          "output_type": "display_data",
          "data": {
            "image/png": "[encoded data removed]",
            "text/plain": [
              "<Figure size 432x288 with 1 Axes>"
            ]
          },
          "metadata": {
            "tags": [],
            "needs_background": "light"
          }
        }
      ]
    },
    {
      "cell_type": "code",
      "metadata": {
        "colab": {
          "base_uri": "https://localhost:8080/"
        },
        "id": "X22pFcNC2GG8",
        "outputId": "770eb390-8713-4e00-9ec5-e601901890e8"
      },
      "source": [
        "# show daily returns\n",
        "returns = df.pct_change()\n",
        "\n",
        "# annual cov mat\n",
        "cov_mat_anual = returns.cov() * 252\n",
        "\n",
        "# get portifolio varience\n",
        "port_varience = np.dot(weights.T , np.dot(cov_mat_anual, weights))\n",
        "\n",
        "print(port_varience)\n",
        "\n",
        "#  get volatility aka risk aka std\n",
        "port_volatility = np.sqrt(port_varience)\n",
        "\n",
        "print(port_volatility)\n",
        "\n",
        "# portifolio anual return \n",
        "PAR = np.sum(returns.mean()*weights) * 252\n",
        "\n",
        "print(PAR)\n",
        "\n",
        "report = 'risk of '+ str(np.round(port_volatility, 3) * 100) + '% and reward of '+ str(np.round(PAR, 3) * 100)+ '%'\n",
        "print(report)"
      ],
      "execution_count": 6,
      "outputs": [
        {
          "output_type": "stream",
          "text": [
            "0.035845453550969006\n",
            "0.18932895592319998\n",
            "0.27674655609105286\n",
            "risk of 18.9% and reward of 27.700000000000003%\n"
          ],
          "name": "stdout"
        }
      ]
    },
    {
      "cell_type": "code",
      "metadata": {
        "colab": {
          "base_uri": "https://localhost:8080/"
        },
        "id": "uvBR0KnoHmoQ",
        "outputId": "65cc9e18-2080-446b-d5f2-d1eab2085b79"
      },
      "source": [
        "pip install pyportfolioopt"
      ],
      "execution_count": 7,
      "outputs": [
        {
          "output_type": "stream",
          "text": [
            "Collecting pyportfolioopt\n",
            "\u001b[?25l  Downloading https://files.pythonhosted.org/packages/46/55/7d39d78d554ee33a7317e345caf01339da11406c28f18bc48794fe967935/PyPortfolioOpt-1.4.1-py3-none-any.whl (56kB)\n",
            "\r\u001b[K     |█████▊                          | 10kB 15.5MB/s eta 0:00:01\r\u001b[K     |███████████▌                    | 20kB 22.2MB/s eta 0:00:01\r\u001b[K     |█████████████████▎              | 30kB 26.3MB/s eta 0:00:01\r\u001b[K     |███████████████████████         | 40kB 28.6MB/s eta 0:00:01\r\u001b[K     |████████████████████████████▉   | 51kB 31.1MB/s eta 0:00:01\r\u001b[K     |████████████████████████████████| 61kB 7.6MB/s \n",
            "\u001b[?25hRequirement already satisfied: numpy<2.0,>=1.12 in /usr/local/lib/python3.7/dist-packages (from pyportfolioopt) (1.19.5)\n",
            "Collecting cvxpy<2.0.0,>=1.1.10\n",
            "\u001b[?25l  Downloading https://files.pythonhosted.org/packages/f0/95/e7eb169a7802fe0c5c50dd7f29c2e9d357b5f29c70adc3f5ca2ab684a04b/cvxpy-1.1.13.tar.gz (1.3MB)\n",
            "\u001b[K     |████████████████████████████████| 1.3MB 34.2MB/s \n",
            "\u001b[?25h  Installing build dependencies ... \u001b[?25l\u001b[?25hdone\n",
            "  Getting requirements to build wheel ... \u001b[?25l\u001b[?25hdone\n",
            "    Preparing wheel metadata ... \u001b[?25l\u001b[?25hdone\n",
            "Requirement already satisfied: pandas>=0.19 in /usr/local/lib/python3.7/dist-packages (from pyportfolioopt) (1.1.5)\n",
            "Requirement already satisfied: scipy<2.0,>=1.3 in /usr/local/lib/python3.7/dist-packages (from pyportfolioopt) (1.4.1)\n",
            "Requirement already satisfied: scs>=1.1.6 in /usr/local/lib/python3.7/dist-packages (from cvxpy<2.0.0,>=1.1.10->pyportfolioopt) (2.1.4)\n",
            "Requirement already satisfied: osqp>=0.4.1 in /usr/local/lib/python3.7/dist-packages (from cvxpy<2.0.0,>=1.1.10->pyportfolioopt) (0.6.2.post0)\n",
            "Requirement already satisfied: ecos>=2 in /usr/local/lib/python3.7/dist-packages (from cvxpy<2.0.0,>=1.1.10->pyportfolioopt) (2.0.7.post1)\n",
            "Requirement already satisfied: pytz>=2017.2 in /usr/local/lib/python3.7/dist-packages (from pandas>=0.19->pyportfolioopt) (2018.9)\n",
            "Requirement already satisfied: python-dateutil>=2.7.3 in /usr/local/lib/python3.7/dist-packages (from pandas>=0.19->pyportfolioopt) (2.8.1)\n",
            "Requirement already satisfied: qdldl in /usr/local/lib/python3.7/dist-packages (from osqp>=0.4.1->cvxpy<2.0.0,>=1.1.10->pyportfolioopt) (0.1.5.post0)\n",
            "Requirement already satisfied: six>=1.5 in /usr/local/lib/python3.7/dist-packages (from python-dateutil>=2.7.3->pandas>=0.19->pyportfolioopt) (1.15.0)\n",
            "Building wheels for collected packages: cvxpy\n",
            "  Building wheel for cvxpy (PEP 517) ... \u001b[?25l\u001b[?25hdone\n",
            "  Created wheel for cvxpy: filename=cvxpy-1.1.13-cp37-cp37m-linux_x86_64.whl size=2736205 sha256=344751d38ae0690d669a465376dd7a29080057b6d475627e914cc35c9f8c443d\n",
            "  Stored in directory: /root/.cache/pip/wheels/f9/78/00/f29636789ee83434953b5442f16ec3f9834a68e7fd0393c220\n",
            "Successfully built cvxpy\n",
            "Installing collected packages: cvxpy, pyportfolioopt\n",
            "  Found existing installation: cvxpy 1.0.31\n",
            "    Uninstalling cvxpy-1.0.31:\n",
            "      Successfully uninstalled cvxpy-1.0.31\n",
            "Successfully installed cvxpy-1.1.13 pyportfolioopt-1.4.1\n"
          ],
          "name": "stdout"
        }
      ]
    },
    {
      "cell_type": "code",
      "metadata": {
        "id": "LvvHykuCyK0k"
      },
      "source": [
        "from pypfopt.efficient_frontier import EfficientFrontier\n",
        "from pypfopt import risk_models\n",
        "from pypfopt import expected_returns"
      ],
      "execution_count": 8,
      "outputs": []
    },
    {
      "cell_type": "code",
      "metadata": {
        "colab": {
          "base_uri": "https://localhost:8080/"
        },
        "id": "zAVLhHwB0wJO",
        "outputId": "91a84ba8-fff1-430d-a258-6a4350b51d72"
      },
      "source": [
        "# portifolio Optimization !\n",
        "\n",
        "# get the expected return and anual covariance matrix\n",
        "mu = expected_returns.mean_historical_return(df)\n",
        "S = risk_models.sample_cov(df)\n",
        "\n",
        "#  optim the sharpe raatio\n",
        "ef = EfficientFrontier(mu, S)\n",
        "weights = ef.max_sharpe()\n",
        "cleaned_wieghts = ef.clean_weights()\n",
        "print(cleaned_wieghts)\n",
        "\n",
        "ef.portfolio_performance(verbose = True)\n"
      ],
      "execution_count": 9,
      "outputs": [
        {
          "output_type": "stream",
          "text": [
            "OrderedDict([('AAPL', 0.27412), ('MSFT', 0.39911), ('SQ', 0.32677)])\n",
            "Expected annual return: 47.3%\n",
            "Annual volatility: 31.3%\n",
            "Sharpe Ratio: 1.45\n"
          ],
          "name": "stdout"
        },
        {
          "output_type": "execute_result",
          "data": {
            "text/plain": [
              "(0.47327408385083264, 0.31333464738980166, 1.446613349742138)"
            ]
          },
          "metadata": {
            "tags": []
          },
          "execution_count": 9
        }
      ]
    },
    {
      "cell_type": "code",
      "metadata": {
        "colab": {
          "base_uri": "https://localhost:8080/"
        },
        "id": "fiBI6kty6h7M",
        "outputId": "a02d0d7b-43e2-4873-ea7a-d7cb628e14ed"
      },
      "source": [
        "# geting the allocation per stock\n",
        "from pypfopt.discrete_allocation import DiscreteAllocation, get_latest_prices\n",
        "\n",
        "latest_prices = get_latest_prices(df)\n",
        "weights = cleaned_wieghts\n",
        "\n",
        "da = DiscreteAllocation(weights, latest_prices, total_portfolio_value = 1000)\n",
        "\n",
        "allocation, leftover = da.lp_portfolio()\n",
        "print('discret allocation: ', allocation)\n",
        "print('funds remaining: ${:.2f}'.format(leftover))"
      ],
      "execution_count": 10,
      "outputs": [
        {
          "output_type": "stream",
          "text": [
            "discret allocation:  {'AAPL': 2, 'MSFT': 1, 'SQ': 2}\n",
            "funds remaining: $25.66\n"
          ],
          "name": "stdout"
        }
      ]
    },
    {
      "cell_type": "markdown",
      "metadata": {
        "id": "ueEHQEQ-CkKZ"
      },
      "source": [
        "***try different solvers***\n",
        "\n",
        "\n"
      ]
    },
    {
      "cell_type": "code",
      "metadata": {
        "id": "pnXGh-AZ9LUC"
      },
      "source": [
        "from pypfopt import HRPOpt\n",
        "from pypfopt import CLA\n",
        "from pypfopt import black_litterman\n",
        "from pypfopt import BlackLittermanModel\n",
        "from pypfopt import plotting"
      ],
      "execution_count": 11,
      "outputs": []
    },
    {
      "cell_type": "code",
      "metadata": {
        "colab": {
          "base_uri": "https://localhost:8080/",
          "height": 408
        },
        "id": "Q0P23jEGDBo6",
        "outputId": "4b5e6cbf-af39-4ee0-a942-541bc7f5e43b"
      },
      "source": [
        "views = np.array([-0.20, 0.10, 0.15]).reshape(-1, 1)\n",
        "picking = np.array(\n",
        "    [\n",
        "        [ 0, 0, 0, 0, 1],\n",
        "        [1, 0, -1, 0, 0],\n",
        "        [ 0, -0.5, 0.5, 0, -0.5],\n",
        "    ]\n",
        ")\n",
        "\n",
        "delta = black_litterman.market_implied_risk_aversion(spy_prices)\n",
        "\n",
        "mcaps = {\n",
        "    \"FB\": 574e9,\n",
        "    \"AMZN\": 867e9,\n",
        "    \"AAPL\": 1.19e12,\n",
        "    \"NFLX\": 102e9,\n",
        "    \"GOOG\": 927e9\n",
        "}\n",
        "prior = black_litterman.market_implied_prior_returns(mcaps, delta, S)\n",
        "bl = BlackLittermanModel(S, Q=views, P=picking, pi=prior, tau=0.01)\n",
        "rets = bl.bl_returns()\n",
        "ef = EfficientFrontier(rets, S)\n",
        "ef.max_sharpe()\n",
        "print(ef.clean_weights())\n",
        "ef.portfolio_performance(verbose=True)"
      ],
      "execution_count": null,
      "outputs": [
        {
          "output_type": "stream",
          "text": [
            "/usr/local/lib/python3.7/dist-packages/pypfopt/black_litterman.py:257: UserWarning: Running Black-Litterman with no prior.\n",
            "  warnings.warn(\"Running Black-Litterman with no prior.\")\n"
          ],
          "name": "stderr"
        },
        {
          "output_type": "error",
          "ename": "OptimizationError",
          "evalue": "ignored",
          "traceback": [
            "\u001b[0;31m---------------------------------------------------------------------------\u001b[0m",
            "\u001b[0;31mOptimizationError\u001b[0m                         Traceback (most recent call last)",
            "\u001b[0;32m<ipython-input-48-42fcf5597fa3>\u001b[0m in \u001b[0;36m<module>\u001b[0;34m()\u001b[0m\n\u001b[1;32m     21\u001b[0m \u001b[0mrets\u001b[0m \u001b[0;34m=\u001b[0m \u001b[0mbl\u001b[0m\u001b[0;34m.\u001b[0m\u001b[0mbl_returns\u001b[0m\u001b[0;34m(\u001b[0m\u001b[0;34m)\u001b[0m\u001b[0;34m\u001b[0m\u001b[0;34m\u001b[0m\u001b[0m\n\u001b[1;32m     22\u001b[0m \u001b[0mef\u001b[0m \u001b[0;34m=\u001b[0m \u001b[0mEfficientFrontier\u001b[0m\u001b[0;34m(\u001b[0m\u001b[0mrets\u001b[0m\u001b[0;34m,\u001b[0m \u001b[0mS\u001b[0m\u001b[0;34m)\u001b[0m\u001b[0;34m\u001b[0m\u001b[0;34m\u001b[0m\u001b[0m\n\u001b[0;32m---> 23\u001b[0;31m \u001b[0mef\u001b[0m\u001b[0;34m.\u001b[0m\u001b[0mmax_sharpe\u001b[0m\u001b[0;34m(\u001b[0m\u001b[0;34m)\u001b[0m\u001b[0;34m\u001b[0m\u001b[0;34m\u001b[0m\u001b[0m\n\u001b[0m\u001b[1;32m     24\u001b[0m \u001b[0mprint\u001b[0m\u001b[0;34m(\u001b[0m\u001b[0mef\u001b[0m\u001b[0;34m.\u001b[0m\u001b[0mclean_weights\u001b[0m\u001b[0;34m(\u001b[0m\u001b[0;34m)\u001b[0m\u001b[0;34m)\u001b[0m\u001b[0;34m\u001b[0m\u001b[0;34m\u001b[0m\u001b[0m\n\u001b[1;32m     25\u001b[0m \u001b[0mef\u001b[0m\u001b[0;34m.\u001b[0m\u001b[0mportfolio_performance\u001b[0m\u001b[0;34m(\u001b[0m\u001b[0mverbose\u001b[0m\u001b[0;34m=\u001b[0m\u001b[0;32mTrue\u001b[0m\u001b[0;34m)\u001b[0m\u001b[0;34m\u001b[0m\u001b[0;34m\u001b[0m\u001b[0m\n",
            "\u001b[0;32m/usr/local/lib/python3.7/dist-packages/pypfopt/efficient_frontier/efficient_frontier.py\u001b[0m in \u001b[0;36mmax_sharpe\u001b[0;34m(self, risk_free_rate)\u001b[0m\n\u001b[1;32m    276\u001b[0m         ] + new_constraints\n\u001b[1;32m    277\u001b[0m \u001b[0;34m\u001b[0m\u001b[0m\n\u001b[0;32m--> 278\u001b[0;31m         \u001b[0mself\u001b[0m\u001b[0;34m.\u001b[0m\u001b[0m_solve_cvxpy_opt_problem\u001b[0m\u001b[0;34m(\u001b[0m\u001b[0;34m)\u001b[0m\u001b[0;34m\u001b[0m\u001b[0;34m\u001b[0m\u001b[0m\n\u001b[0m\u001b[1;32m    279\u001b[0m         \u001b[0;31m# Inverse-transform\u001b[0m\u001b[0;34m\u001b[0m\u001b[0;34m\u001b[0m\u001b[0;34m\u001b[0m\u001b[0m\n\u001b[1;32m    280\u001b[0m         \u001b[0mself\u001b[0m\u001b[0;34m.\u001b[0m\u001b[0mweights\u001b[0m \u001b[0;34m=\u001b[0m \u001b[0;34m(\u001b[0m\u001b[0mself\u001b[0m\u001b[0;34m.\u001b[0m\u001b[0m_w\u001b[0m\u001b[0;34m.\u001b[0m\u001b[0mvalue\u001b[0m \u001b[0;34m/\u001b[0m \u001b[0mk\u001b[0m\u001b[0;34m.\u001b[0m\u001b[0mvalue\u001b[0m\u001b[0;34m)\u001b[0m\u001b[0;34m.\u001b[0m\u001b[0mround\u001b[0m\u001b[0;34m(\u001b[0m\u001b[0;36m16\u001b[0m\u001b[0;34m)\u001b[0m \u001b[0;34m+\u001b[0m \u001b[0;36m0.0\u001b[0m\u001b[0;34m\u001b[0m\u001b[0;34m\u001b[0m\u001b[0m\n",
            "\u001b[0;32m/usr/local/lib/python3.7/dist-packages/pypfopt/base_optimizer.py\u001b[0m in \u001b[0;36m_solve_cvxpy_opt_problem\u001b[0;34m(self)\u001b[0m\n\u001b[1;32m    243\u001b[0m         \u001b[0;32mif\u001b[0m \u001b[0mself\u001b[0m\u001b[0;34m.\u001b[0m\u001b[0m_opt\u001b[0m\u001b[0;34m.\u001b[0m\u001b[0mstatus\u001b[0m \u001b[0;32mnot\u001b[0m \u001b[0;32min\u001b[0m \u001b[0;34m{\u001b[0m\u001b[0;34m\"optimal\"\u001b[0m\u001b[0;34m,\u001b[0m \u001b[0;34m\"optimal_inaccurate\"\u001b[0m\u001b[0;34m}\u001b[0m\u001b[0;34m:\u001b[0m\u001b[0;34m\u001b[0m\u001b[0;34m\u001b[0m\u001b[0m\n\u001b[1;32m    244\u001b[0m             raise exceptions.OptimizationError(\n\u001b[0;32m--> 245\u001b[0;31m                 \u001b[0;34m\"Solver status: {}\"\u001b[0m\u001b[0;34m.\u001b[0m\u001b[0mformat\u001b[0m\u001b[0;34m(\u001b[0m\u001b[0mself\u001b[0m\u001b[0;34m.\u001b[0m\u001b[0m_opt\u001b[0m\u001b[0;34m.\u001b[0m\u001b[0mstatus\u001b[0m\u001b[0;34m)\u001b[0m\u001b[0;34m\u001b[0m\u001b[0;34m\u001b[0m\u001b[0m\n\u001b[0m\u001b[1;32m    246\u001b[0m             )\n\u001b[1;32m    247\u001b[0m         \u001b[0mself\u001b[0m\u001b[0;34m.\u001b[0m\u001b[0mweights\u001b[0m \u001b[0;34m=\u001b[0m \u001b[0mself\u001b[0m\u001b[0;34m.\u001b[0m\u001b[0m_w\u001b[0m\u001b[0;34m.\u001b[0m\u001b[0mvalue\u001b[0m\u001b[0;34m.\u001b[0m\u001b[0mround\u001b[0m\u001b[0;34m(\u001b[0m\u001b[0;36m16\u001b[0m\u001b[0;34m)\u001b[0m \u001b[0;34m+\u001b[0m \u001b[0;36m0.0\u001b[0m  \u001b[0;31m# +0.0 removes signed zero\u001b[0m\u001b[0;34m\u001b[0m\u001b[0;34m\u001b[0m\u001b[0m\n",
            "\u001b[0;31mOptimizationError\u001b[0m: ('Please check your objectives/constraints or use a different solver.', 'Solver status: infeasible')"
          ]
        }
      ]
    },
    {
      "cell_type": "code",
      "metadata": {
        "colab": {
          "base_uri": "https://localhost:8080/",
          "height": 399
        },
        "id": "ff-vv4tpDYPF",
        "outputId": "77ade30f-21c7-4621-f2a7-9d2a95d04334"
      },
      "source": [
        "# Hierarchical risk parity\n",
        "hrp = HRPOpt(returns)\n",
        "weights = hrp.optimize()\n",
        "hrp.portfolio_performance(verbose=True)\n",
        "print(weights)\n",
        "plotting.plot_dendrogram(hrp)  # to plot dendrogram\n",
        "\n",
        "# geting the allocation per stock\n",
        "from pypfopt.discrete_allocation import DiscreteAllocation, get_latest_prices\n",
        "\n",
        "latest_prices = get_latest_prices(df)\n",
        "\n",
        "da = DiscreteAllocation(weights, latest_prices, total_portfolio_value = 15000)\n",
        "\n",
        "allocation, leftover = da.lp_portfolio()\n",
        "print('discret allocation: ', allocation)\n",
        "print('funds remaining: ${:.2f}'.format(leftover))"
      ],
      "execution_count": 12,
      "outputs": [
        {
          "output_type": "stream",
          "text": [
            "Expected annual return: 41.2%\n",
            "Annual volatility: 28.5%\n",
            "Sharpe Ratio: 1.38\n",
            "OrderedDict([('AAPL', 0.3669153707660805), ('MSFT', 0.4418208437045993), ('SQ', 0.19126378552932022)])\n",
            "discret allocation:  {'AAPL': 42, 'MSFT': 26, 'SQ': 12}\n",
            "funds remaining: $88.64\n"
          ],
          "name": "stdout"
        },
        {
          "output_type": "display_data",
          "data": {
            "image/png": "[encoded data removed]",
            "text/plain": [
              "<Figure size 432x288 with 1 Axes>"
            ]
          },
          "metadata": {
            "tags": [],
            "needs_background": "light"
          }
        }
      ]
    },
    {
      "cell_type": "code",
      "metadata": {
        "colab": {
          "base_uri": "https://localhost:8080/",
          "height": 399
        },
        "id": "-zfvbiurF3EQ",
        "outputId": "99fd5214-ea2d-4efd-abcc-3573cbb6b0df"
      },
      "source": [
        "# Crticial Line Algorithm\n",
        "cla = CLA(mu, S)\n",
        "weights = cla.max_sharpe()\n",
        "print(cla.max_sharpe())\n",
        "cla.portfolio_performance(verbose=True)\n",
        "plotting.plot_efficient_frontier(cla)  # to plot\n",
        "\n",
        "# geting the allocation per stock\n",
        "from pypfopt.discrete_allocation import DiscreteAllocation, get_latest_prices\n",
        "\n",
        "latest_prices = get_latest_prices(df)\n",
        "\n",
        "da = DiscreteAllocation(weights, latest_prices, total_portfolio_value = 15000)\n",
        "\n",
        "allocation, leftover = da.lp_portfolio()\n",
        "print('discret allocation: ', allocation)\n",
        "print('funds remaining: ${:.2f}'.format(leftover))"
      ],
      "execution_count": 13,
      "outputs": [
        {
          "output_type": "stream",
          "text": [
            "OrderedDict([('AAPL', 0.2788690054191775), ('MSFT', 0.4165618134685801), ('SQ', 0.3045691811122429)])\n",
            "Expected annual return: 46.5%\n",
            "Annual volatility: 30.8%\n",
            "Sharpe Ratio: 1.45\n",
            "discret allocation:  {'AAPL': 32, 'MSFT': 24, 'SQ': 20}\n",
            "funds remaining: $79.84\n"
          ],
          "name": "stdout"
        },
        {
          "output_type": "display_data",
          "data": {
            "image/png": "[encoded data removed]",
            "text/plain": [
              "<Figure size 432x288 with 1 Axes>"
            ]
          },
          "metadata": {
            "tags": [],
            "needs_background": "light"
          }
        }
      ]
    },
    {
      "cell_type": "code",
      "metadata": {
        "id": "jZngXezSGmQw"
      },
      "source": [
        ""
      ],
      "execution_count": null,
      "outputs": []
    }
  ]
}